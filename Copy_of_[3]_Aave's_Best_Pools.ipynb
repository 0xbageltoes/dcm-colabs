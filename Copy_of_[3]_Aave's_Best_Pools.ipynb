{
  "nbformat": 4,
  "nbformat_minor": 0,
  "metadata": {
    "colab": {
      "name": "Copy of [3] Aave's Best Pools.ipynb",
      "provenance": [],
      "toc_visible": true,
      "include_colab_link": true
    },
    "kernelspec": {
      "name": "python3",
      "display_name": "Python 3"
    },
    "language_info": {
      "name": "python"
    }
  },
  "cells": [
    {
      "cell_type": "markdown",
      "metadata": {
        "id": "view-in-github",
        "colab_type": "text"
      },
      "source": [
        "<a href=\"https://colab.research.google.com/github/holocenecap/holocene-colab/blob/main/Copy_of_%5B3%5D_Aave's_Best_Pools.ipynb\" target=\"_parent\"><img src=\"https://colab.research.google.com/assets/colab-badge.svg\" alt=\"Open In Colab\"/></a>"
      ]
    },
    {
      "cell_type": "code",
      "metadata": {
        "colab": {
          "base_uri": "https://localhost:8080/",
          "height": 56
        },
        "id": "fjTH7ersVLtr",
        "outputId": "885fc2e3-75b7-453e-ec2c-b628610be07d"
      },
      "source": [
        "#@title\n",
        "#Imports & settings\n",
        "import pandas as pd\n",
        "import seaborn as sns\n",
        "import matplotlib.pyplot as plt\n",
        "import plotly.express as px\n",
        "import plotly.graph_objects as go\n",
        "from plotly.subplots import make_subplots\n",
        "sns.set_theme(style=\"ticks\", color_codes=True)\n",
        "%matplotlib inline\n",
        "#%load_ext google.colab.data_table\n",
        "%reload_ext rpy2.ipython\n",
        "%R options(tidyverse.quiet = TRUE)\n",
        "%R options(lubridate.quiet = TRUE)\n",
        "%R options(jsonlite.quiet = TRUE)\n",
        "%R suppressMessages(library(tidyverse))\n",
        "%R suppressMessages(library(lubridate))\n",
        "%R suppressMessages(library(jsonlite))\n",
        "%R suppressMessages(options(dplyr.summarise.inform = FALSE))"
      ],
      "execution_count": 1,
      "outputs": [
        {
          "output_type": "execute_result",
          "data": {
            "text/html": [
              "\n",
              "        <span>ListVector with 1 elements.</span>\n",
              "        <table>\n",
              "        <tbody>\n",
              "        \n",
              "          <tr>\n",
              "            <th>\n",
              "            dplyr.summarise.inform\n",
              "            </th>\n",
              "            <td>\n",
              "            <rpy2.rinterface_lib.sexp.NULLType object at 0x7f67cecc1b40> [RTYPES.NILSXP]\n",
              "            </td>\n",
              "          </tr>\n",
              "        \n",
              "        </tbody>\n",
              "        </table>\n",
              "        "
            ],
            "text/plain": [
              "<rpy2.robjects.vectors.ListVector object at 0x7f67cd587140> [RTYPES.VECSXP]\n",
              "R classes: ('list',)\n",
              "[NULLType]\n",
              "  dplyr.summarise.inform: <class 'rpy2.rinterface_lib.sexp.NULLType'>\n",
              "  <rpy2.rinterface_lib.sexp.NULLType object at 0x7f67cecc1b40> [RTYPES.NILSXP]"
            ]
          },
          "metadata": {},
          "execution_count": 1
        }
      ]
    },
    {
      "cell_type": "code",
      "metadata": {
        "id": "rR8nXV0yVZNf"
      },
      "source": [
        "#@title\n",
        "\n",
        "%%R\n",
        "#Grab base query from Flipside\n",
        "df = fromJSON('https://api.flipsidecrypto.com/api/v2/queries/d47d0ebc-6ace-4b42-800e-df8206dc9d4c/data/latest', simplifyDataFrame = TRUE)\n",
        "\n",
        "#Change the date to date format\n",
        "#df$BLOCK_TIMESTAMP <- parse_datetime(df$BLOCK_TIMESTAMP)\n",
        "df$WEEK <- parse_datetime(df$WEEK)\n",
        "\n",
        "#Rename & reorder columns\n",
        "df <- df %>% rename(week = WEEK, \n",
        "                   aave_market = AAVE_MARKET, reserve_name = RESERVE_NAME,\n",
        "                   total_liquidity_token = TOTAL_LIQUIDITY_TOKEN, total_liquidity_usd = TOTAL_LIQUIDITY_USD,\n",
        "                   utilization_rate = UTILIZATION_RATE, supply_rate = SUPPLY_RATE,\n",
        "                   flash_premium = FLASH_PREMIUM, flash_premium_usd = FLASH_PREMIUM_USD,\n",
        "                   interest_received_usd = INTEREST_RECEIVED_USD, total_returns_usd = TOTAL_RETURNS_USD,\n",
        "                   overall_apr = OVERALL_APR) %>%\n",
        "  mutate(utilization_rate = utilization_rate * 100,\n",
        "         overall_apr = overall_apr * 100,\n",
        "         supply_rate = supply_rate * 100) %>%\n",
        "  select(week, aave_market, reserve_name, total_liquidity_token, total_liquidity_usd,\n",
        "         utilization_rate, supply_rate, flash_premium, flash_premium_usd,\n",
        "         interest_received_usd, total_returns_usd, overall_apr)\n",
        "\n",
        "#drop the markets without a full 6 month history\n",
        "df <- df %>% \n",
        "  left_join(df %>% group_by(aave_market) %>% tally(), by = \"aave_market\") %>%\n",
        "  filter(n == 26) %>%\n",
        "  select(-n)\n",
        "\n",
        "\n",
        "#Find the biggest by overall APR & fees\n",
        "rank_table <- df %>% \n",
        "  group_by(aave_market, reserve_name) %>%\n",
        "  summarise(mean_apr = mean(overall_apr),\n",
        "            total_fees = sum(total_returns_usd),\n",
        "            mean_liq = mean(total_liquidity_usd)) %>%\n",
        "  ungroup() %>%\n",
        "  arrange(desc(mean_apr)) %>%\n",
        "  mutate(apr_rank = row_number(desc(mean_apr)),\n",
        "         total_fee_rank = row_number(desc(total_fees)))\n",
        "\n",
        "#Join this back to the main table\n",
        "df <- df %>%\n",
        "  left_join(rank_table %>% select (aave_market, apr_rank, total_fee_rank), by=\"aave_market\")\n",
        "\n",
        "#add weekly ranks to main table by APR & fees\n",
        "df <- df %>%\n",
        "  group_by(week) %>%\n",
        "  mutate(week_apr_rank = row_number(desc(overall_apr)),\n",
        "         week_fee_rank = row_number(desc(total_returns_usd))) %>%\n",
        "  ungroup()\n"
      ],
      "execution_count": 2,
      "outputs": []
    },
    {
      "cell_type": "markdown",
      "metadata": {
        "id": "RyrnXvoA6rOJ"
      },
      "source": [
        "# Aave - Ranking the Top 5 Pools\n",
        "\n",
        "Aave is a borrowing & lending protocol, which operates a series of pools, each dedicated to single token.  Each pool in Aave accepts deposits from users, and lends these deposits back to other users.  As it doesn't make a lot of sense to deposit an asset & take a loan of the same asset, the Aave magic comes from being able to borrow a different asset to the one you deposited.  This has a number of advantages & use cases:\n",
        "- You need stablecoins to yield farm but don't want to sell your ETH?  Deposit your eth, borrow stables.\n",
        "- Long-short exposure - it's May 2021 and your charts tell you ETH is about to crash by 60%.  Deposit stables & borrow ETH.  Pay the loan back at half price after the crash. Vice versa if you're bullish on ETH.\n",
        "- Parking long term HODL funds in a safe place for a bit of deposit yield in return.\n",
        "\n",
        "Aave pools pay fees to depositors to reward them for providing liquidity in the pool.  The Aave V2 pools with the highest fees over the last 6 months are shown in the chart below.  This chart displays the ranking of each pool over each week, with the 5 pools selected being the ones with the highest fees returned over the entire 6 months.  The USDC pool is consistently the highest, with the DAI and USDT pool trading 2nd and 3rd place regularly.  In 4th place is the WETH pool, and the BUSD pool was in the top 5 for a while before losing ground to other tokens."
      ]
    },
    {
      "cell_type": "code",
      "metadata": {
        "id": "sDsJBmElVtW0",
        "colab": {
          "base_uri": "https://localhost:8080/",
          "height": 512
        },
        "outputId": "3e356430-e7a6-4a62-9e48-5e280a3d0b3e"
      },
      "source": [
        "#@title\n",
        "#Top 5 pools by week for 6 months\n",
        "df_p = %R df %>% filter(total_fee_rank <= 5) %>% arrange(week, reserve_name)\n",
        "\n",
        "fig = px.line(df_p, x=\"week\", y=\"week_fee_rank\", color='reserve_name',\n",
        "              template=\"simple_white\", width=800, height=800/1.618, \n",
        "              title= 'Top 5 Pools by Total Fees - Ranking by Fees Earned',\n",
        "              labels=dict(week=\"Week\", week_fee_rank=\"Rank\", reserve_name=\"Pool\"))\n",
        "fig.update_yaxes(autorange=\"reversed\")\n",
        "fig.update_traces(mode=\"lines+markers\")\n",
        "fig.update_yaxes(tick0=1, dtick=1)\n",
        "fig.update_layout(legend=dict(\n",
        "    yanchor=\"bottom\",\n",
        "    y=0.01,\n",
        "    xanchor=\"left\",\n",
        "    x=0.01\n",
        "))\n",
        "fig.show()"
      ],
      "execution_count": 3,
      "outputs": [
        {
          "output_type": "display_data",
          "data": {
            "text/html": [
              "<html>\n",
              "<head><meta charset=\"utf-8\" /></head>\n",
              "<body>\n",
              "    <div>\n",
              "            <script src=\"https://cdnjs.cloudflare.com/ajax/libs/mathjax/2.7.5/MathJax.js?config=TeX-AMS-MML_SVG\"></script><script type=\"text/javascript\">if (window.MathJax) {MathJax.Hub.Config({SVG: {font: \"STIX-Web\"}});}</script>\n",
              "                <script type=\"text/javascript\">window.PlotlyConfig = {MathJaxConfig: 'local'};</script>\n",
              "        <script src=\"https://cdn.plot.ly/plotly-latest.min.js\"></script>    \n",
              "            <div id=\"2c5d11de-5879-44cd-b9d4-42fc8ebb6908\" class=\"plotly-graph-div\" style=\"height:494.4375772558714px; width:800px;\"></div>\n",
              "            <script type=\"text/javascript\">\n",
              "                \n",
              "                    window.PLOTLYENV=window.PLOTLYENV || {};\n",
              "                    \n",
              "                if (document.getElementById(\"2c5d11de-5879-44cd-b9d4-42fc8ebb6908\")) {\n",
              "                    Plotly.newPlot(\n",
              "                        '2c5d11de-5879-44cd-b9d4-42fc8ebb6908',\n",
              "                        [{\"hoverlabel\": {\"namelength\": 0}, \"hovertemplate\": \"Pool=BUSD<br>Week=%{x}<br>Rank=%{y}\", \"legendgroup\": \"Pool=BUSD\", \"line\": {\"color\": \"#1F77B4\", \"dash\": \"solid\"}, \"mode\": \"lines+markers\", \"name\": \"Pool=BUSD\", \"showlegend\": true, \"type\": \"scatter\", \"x\": [\"2021-02-22T00:00:00\", \"2021-03-01T00:00:00\", \"2021-03-08T00:00:00\", \"2021-03-15T00:00:00\", \"2021-03-22T00:00:00\", \"2021-03-29T00:00:00\", \"2021-04-05T00:00:00\", \"2021-04-12T00:00:00\", \"2021-04-19T00:00:00\", \"2021-04-26T00:00:00\", \"2021-05-03T00:00:00\", \"2021-05-10T00:00:00\", \"2021-05-17T00:00:00\", \"2021-05-24T00:00:00\", \"2021-05-31T00:00:00\", \"2021-06-07T00:00:00\", \"2021-06-14T00:00:00\", \"2021-06-21T00:00:00\", \"2021-06-28T00:00:00\", \"2021-07-05T00:00:00\", \"2021-07-12T00:00:00\", \"2021-07-19T00:00:00\", \"2021-07-26T00:00:00\", \"2021-08-02T00:00:00\", \"2021-08-09T00:00:00\", \"2021-08-16T00:00:00\"], \"xaxis\": \"x\", \"y\": [5, 5, 5, 7, 8, 4, 4, 5, 6, 4, 5, 8, 6, 5, 6, 10, 5, 13, 13, 15, 15, 14, 13, 13, 6, 9], \"yaxis\": \"y\"}, {\"hoverlabel\": {\"namelength\": 0}, \"hovertemplate\": \"Pool=DAI<br>Week=%{x}<br>Rank=%{y}\", \"legendgroup\": \"Pool=DAI\", \"line\": {\"color\": \"#FF7F0E\", \"dash\": \"solid\"}, \"mode\": \"lines+markers\", \"name\": \"Pool=DAI\", \"showlegend\": true, \"type\": \"scatter\", \"x\": [\"2021-02-22T00:00:00\", \"2021-03-01T00:00:00\", \"2021-03-08T00:00:00\", \"2021-03-15T00:00:00\", \"2021-03-22T00:00:00\", \"2021-03-29T00:00:00\", \"2021-04-05T00:00:00\", \"2021-04-12T00:00:00\", \"2021-04-19T00:00:00\", \"2021-04-26T00:00:00\", \"2021-05-03T00:00:00\", \"2021-05-10T00:00:00\", \"2021-05-17T00:00:00\", \"2021-05-24T00:00:00\", \"2021-05-31T00:00:00\", \"2021-06-07T00:00:00\", \"2021-06-14T00:00:00\", \"2021-06-21T00:00:00\", \"2021-06-28T00:00:00\", \"2021-07-05T00:00:00\", \"2021-07-12T00:00:00\", \"2021-07-19T00:00:00\", \"2021-07-26T00:00:00\", \"2021-08-02T00:00:00\", \"2021-08-09T00:00:00\", \"2021-08-16T00:00:00\"], \"xaxis\": \"x\", \"y\": [3, 3, 3, 3, 3, 3, 3, 3, 3, 3, 3, 3, 3, 2, 2, 2, 2, 2, 2, 2, 3, 2, 3, 3, 3, 2], \"yaxis\": \"y\"}, {\"hoverlabel\": {\"namelength\": 0}, \"hovertemplate\": \"Pool=USDC<br>Week=%{x}<br>Rank=%{y}\", \"legendgroup\": \"Pool=USDC\", \"line\": {\"color\": \"#2CA02C\", \"dash\": \"solid\"}, \"mode\": \"lines+markers\", \"name\": \"Pool=USDC\", \"showlegend\": true, \"type\": \"scatter\", \"x\": [\"2021-02-22T00:00:00\", \"2021-03-01T00:00:00\", \"2021-03-08T00:00:00\", \"2021-03-15T00:00:00\", \"2021-03-22T00:00:00\", \"2021-03-29T00:00:00\", \"2021-04-05T00:00:00\", \"2021-04-12T00:00:00\", \"2021-04-19T00:00:00\", \"2021-04-26T00:00:00\", \"2021-05-03T00:00:00\", \"2021-05-10T00:00:00\", \"2021-05-17T00:00:00\", \"2021-05-24T00:00:00\", \"2021-05-31T00:00:00\", \"2021-06-07T00:00:00\", \"2021-06-14T00:00:00\", \"2021-06-21T00:00:00\", \"2021-06-28T00:00:00\", \"2021-07-05T00:00:00\", \"2021-07-12T00:00:00\", \"2021-07-19T00:00:00\", \"2021-07-26T00:00:00\", \"2021-08-02T00:00:00\", \"2021-08-09T00:00:00\", \"2021-08-16T00:00:00\"], \"xaxis\": \"x\", \"y\": [1, 1, 1, 1, 1, 1, 1, 1, 1, 1, 1, 1, 1, 1, 1, 1, 1, 1, 1, 1, 1, 1, 1, 1, 1, 1], \"yaxis\": \"y\"}, {\"hoverlabel\": {\"namelength\": 0}, \"hovertemplate\": \"Pool=USDT<br>Week=%{x}<br>Rank=%{y}\", \"legendgroup\": \"Pool=USDT\", \"line\": {\"color\": \"#D62728\", \"dash\": \"solid\"}, \"mode\": \"lines+markers\", \"name\": \"Pool=USDT\", \"showlegend\": true, \"type\": \"scatter\", \"x\": [\"2021-02-22T00:00:00\", \"2021-03-01T00:00:00\", \"2021-03-08T00:00:00\", \"2021-03-15T00:00:00\", \"2021-03-22T00:00:00\", \"2021-03-29T00:00:00\", \"2021-04-05T00:00:00\", \"2021-04-12T00:00:00\", \"2021-04-19T00:00:00\", \"2021-04-26T00:00:00\", \"2021-05-03T00:00:00\", \"2021-05-10T00:00:00\", \"2021-05-17T00:00:00\", \"2021-05-24T00:00:00\", \"2021-05-31T00:00:00\", \"2021-06-07T00:00:00\", \"2021-06-14T00:00:00\", \"2021-06-21T00:00:00\", \"2021-06-28T00:00:00\", \"2021-07-05T00:00:00\", \"2021-07-12T00:00:00\", \"2021-07-19T00:00:00\", \"2021-07-26T00:00:00\", \"2021-08-02T00:00:00\", \"2021-08-09T00:00:00\", \"2021-08-16T00:00:00\"], \"xaxis\": \"x\", \"y\": [2, 2, 2, 2, 2, 2, 2, 2, 2, 2, 2, 2, 2, 3, 3, 3, 3, 3, 3, 3, 2, 3, 2, 2, 2, 3], \"yaxis\": \"y\"}, {\"hoverlabel\": {\"namelength\": 0}, \"hovertemplate\": \"Pool=WETH<br>Week=%{x}<br>Rank=%{y}\", \"legendgroup\": \"Pool=WETH\", \"line\": {\"color\": \"#9467BD\", \"dash\": \"solid\"}, \"mode\": \"lines+markers\", \"name\": \"Pool=WETH\", \"showlegend\": true, \"type\": \"scatter\", \"x\": [\"2021-02-22T00:00:00\", \"2021-03-01T00:00:00\", \"2021-03-08T00:00:00\", \"2021-03-15T00:00:00\", \"2021-03-22T00:00:00\", \"2021-03-29T00:00:00\", \"2021-04-05T00:00:00\", \"2021-04-12T00:00:00\", \"2021-04-19T00:00:00\", \"2021-04-26T00:00:00\", \"2021-05-03T00:00:00\", \"2021-05-10T00:00:00\", \"2021-05-17T00:00:00\", \"2021-05-24T00:00:00\", \"2021-05-31T00:00:00\", \"2021-06-07T00:00:00\", \"2021-06-14T00:00:00\", \"2021-06-21T00:00:00\", \"2021-06-28T00:00:00\", \"2021-07-05T00:00:00\", \"2021-07-12T00:00:00\", \"2021-07-19T00:00:00\", \"2021-07-26T00:00:00\", \"2021-08-02T00:00:00\", \"2021-08-09T00:00:00\", \"2021-08-16T00:00:00\"], \"xaxis\": \"x\", \"y\": [4, 9, 10, 4, 5, 7, 6, 6, 5, 5, 7, 5, 4, 4, 5, 4, 4, 4, 4, 5, 5, 5, 4, 5, 4, 4], \"yaxis\": \"y\"}],\n",
              "                        {\"height\": 494.4375772558714, \"legend\": {\"tracegroupgap\": 0, \"x\": 0.01, \"xanchor\": \"left\", \"y\": 0.01, \"yanchor\": \"bottom\"}, \"template\": {\"data\": {\"bar\": [{\"error_x\": {\"color\": \"rgb(36,36,36)\"}, \"error_y\": {\"color\": \"rgb(36,36,36)\"}, \"marker\": {\"line\": {\"color\": \"white\", \"width\": 0.5}}, \"type\": \"bar\"}], \"barpolar\": [{\"marker\": {\"line\": {\"color\": \"white\", \"width\": 0.5}}, \"type\": \"barpolar\"}], \"carpet\": [{\"aaxis\": {\"endlinecolor\": \"rgb(36,36,36)\", \"gridcolor\": \"white\", \"linecolor\": \"white\", \"minorgridcolor\": \"white\", \"startlinecolor\": \"rgb(36,36,36)\"}, \"baxis\": {\"endlinecolor\": \"rgb(36,36,36)\", \"gridcolor\": \"white\", \"linecolor\": \"white\", \"minorgridcolor\": \"white\", \"startlinecolor\": \"rgb(36,36,36)\"}, \"type\": \"carpet\"}], \"choropleth\": [{\"colorbar\": {\"outlinewidth\": 10, \"tickcolor\": \"rgb(36,36,36)\", \"ticklen\": 8, \"ticks\": \"outside\", \"tickwidth\": 2}, \"type\": \"choropleth\"}], \"contour\": [{\"colorbar\": {\"outlinewidth\": 10, \"tickcolor\": \"rgb(36,36,36)\", \"ticklen\": 8, \"ticks\": \"outside\", \"tickwidth\": 2}, \"colorscale\": [[0.0, \"#440154\"], [0.1111111111111111, \"#482878\"], [0.2222222222222222, \"#3e4989\"], [0.3333333333333333, \"#31688e\"], [0.4444444444444444, \"#26828e\"], [0.5555555555555556, \"#1f9e89\"], [0.6666666666666666, \"#35b779\"], [0.7777777777777778, \"#6ece58\"], [0.8888888888888888, \"#b5de2b\"], [1.0, \"#fde725\"]], \"type\": \"contour\"}], \"contourcarpet\": [{\"colorbar\": {\"outlinewidth\": 10, \"tickcolor\": \"rgb(36,36,36)\", \"ticklen\": 8, \"ticks\": \"outside\", \"tickwidth\": 2}, \"type\": \"contourcarpet\"}], \"heatmap\": [{\"colorbar\": {\"outlinewidth\": 10, \"tickcolor\": \"rgb(36,36,36)\", \"ticklen\": 8, \"ticks\": \"outside\", \"tickwidth\": 2}, \"colorscale\": [[0.0, \"#440154\"], [0.1111111111111111, \"#482878\"], [0.2222222222222222, \"#3e4989\"], [0.3333333333333333, \"#31688e\"], [0.4444444444444444, \"#26828e\"], [0.5555555555555556, \"#1f9e89\"], [0.6666666666666666, \"#35b779\"], [0.7777777777777778, \"#6ece58\"], [0.8888888888888888, \"#b5de2b\"], [1.0, \"#fde725\"]], \"type\": \"heatmap\"}], \"heatmapgl\": [{\"colorbar\": {\"outlinewidth\": 10, \"tickcolor\": \"rgb(36,36,36)\", \"ticklen\": 8, \"ticks\": \"outside\", \"tickwidth\": 2}, \"colorscale\": [[0.0, \"#440154\"], [0.1111111111111111, \"#482878\"], [0.2222222222222222, \"#3e4989\"], [0.3333333333333333, \"#31688e\"], [0.4444444444444444, \"#26828e\"], [0.5555555555555556, \"#1f9e89\"], [0.6666666666666666, \"#35b779\"], [0.7777777777777778, \"#6ece58\"], [0.8888888888888888, \"#b5de2b\"], [1.0, \"#fde725\"]], \"type\": \"heatmapgl\"}], \"histogram\": [{\"marker\": {\"line\": {\"color\": \"white\", \"width\": 0.6}}, \"type\": \"histogram\"}], \"histogram2d\": [{\"colorbar\": {\"outlinewidth\": 10, \"tickcolor\": \"rgb(36,36,36)\", \"ticklen\": 8, \"ticks\": \"outside\", \"tickwidth\": 2}, \"colorscale\": [[0.0, \"#440154\"], [0.1111111111111111, \"#482878\"], [0.2222222222222222, \"#3e4989\"], [0.3333333333333333, \"#31688e\"], [0.4444444444444444, \"#26828e\"], [0.5555555555555556, \"#1f9e89\"], [0.6666666666666666, \"#35b779\"], [0.7777777777777778, \"#6ece58\"], [0.8888888888888888, \"#b5de2b\"], [1.0, \"#fde725\"]], \"type\": \"histogram2d\"}], \"histogram2dcontour\": [{\"colorbar\": {\"outlinewidth\": 10, \"tickcolor\": \"rgb(36,36,36)\", \"ticklen\": 8, \"ticks\": \"outside\", \"tickwidth\": 2}, \"colorscale\": [[0.0, \"#440154\"], [0.1111111111111111, \"#482878\"], [0.2222222222222222, \"#3e4989\"], [0.3333333333333333, \"#31688e\"], [0.4444444444444444, \"#26828e\"], [0.5555555555555556, \"#1f9e89\"], [0.6666666666666666, \"#35b779\"], [0.7777777777777778, \"#6ece58\"], [0.8888888888888888, \"#b5de2b\"], [1.0, \"#fde725\"]], \"type\": \"histogram2dcontour\"}], \"mesh3d\": [{\"colorbar\": {\"outlinewidth\": 10, \"tickcolor\": \"rgb(36,36,36)\", \"ticklen\": 8, \"ticks\": \"outside\", \"tickwidth\": 2}, \"type\": \"mesh3d\"}], \"parcoords\": [{\"line\": {\"colorbar\": {\"outlinewidth\": 10, \"tickcolor\": \"rgb(36,36,36)\", \"ticklen\": 8, \"ticks\": \"outside\", \"tickwidth\": 2}}, \"type\": \"parcoords\"}], \"pie\": [{\"automargin\": true, \"type\": \"pie\"}], \"scatter\": [{\"marker\": {\"colorbar\": {\"outlinewidth\": 10, \"tickcolor\": \"rgb(36,36,36)\", \"ticklen\": 8, \"ticks\": \"outside\", \"tickwidth\": 2}}, \"type\": \"scatter\"}], \"scatter3d\": [{\"line\": {\"colorbar\": {\"outlinewidth\": 10, \"tickcolor\": \"rgb(36,36,36)\", \"ticklen\": 8, \"ticks\": \"outside\", \"tickwidth\": 2}}, \"marker\": {\"colorbar\": {\"outlinewidth\": 10, \"tickcolor\": \"rgb(36,36,36)\", \"ticklen\": 8, \"ticks\": \"outside\", \"tickwidth\": 2}}, \"type\": \"scatter3d\"}], \"scattercarpet\": [{\"marker\": {\"colorbar\": {\"outlinewidth\": 10, \"tickcolor\": \"rgb(36,36,36)\", \"ticklen\": 8, \"ticks\": \"outside\", \"tickwidth\": 2}}, \"type\": \"scattercarpet\"}], \"scattergeo\": [{\"marker\": {\"colorbar\": {\"outlinewidth\": 10, \"tickcolor\": \"rgb(36,36,36)\", \"ticklen\": 8, \"ticks\": \"outside\", \"tickwidth\": 2}}, \"type\": \"scattergeo\"}], \"scattergl\": [{\"marker\": {\"colorbar\": {\"outlinewidth\": 10, \"tickcolor\": \"rgb(36,36,36)\", \"ticklen\": 8, \"ticks\": \"outside\", \"tickwidth\": 2}}, \"type\": \"scattergl\"}], \"scattermapbox\": [{\"marker\": {\"colorbar\": {\"outlinewidth\": 10, \"tickcolor\": \"rgb(36,36,36)\", \"ticklen\": 8, \"ticks\": \"outside\", \"tickwidth\": 2}}, \"type\": \"scattermapbox\"}], \"scatterpolar\": [{\"marker\": {\"colorbar\": {\"outlinewidth\": 10, \"tickcolor\": \"rgb(36,36,36)\", \"ticklen\": 8, \"ticks\": \"outside\", \"tickwidth\": 2}}, \"type\": \"scatterpolar\"}], \"scatterpolargl\": [{\"marker\": {\"colorbar\": {\"outlinewidth\": 10, \"tickcolor\": \"rgb(36,36,36)\", \"ticklen\": 8, \"ticks\": \"outside\", \"tickwidth\": 2}}, \"type\": \"scatterpolargl\"}], \"scatterternary\": [{\"marker\": {\"colorbar\": {\"outlinewidth\": 10, \"tickcolor\": \"rgb(36,36,36)\", \"ticklen\": 8, \"ticks\": \"outside\", \"tickwidth\": 2}}, \"type\": \"scatterternary\"}], \"surface\": [{\"colorbar\": {\"outlinewidth\": 10, \"tickcolor\": \"rgb(36,36,36)\", \"ticklen\": 8, \"ticks\": \"outside\", \"tickwidth\": 2}, \"colorscale\": [[0.0, \"#440154\"], [0.1111111111111111, \"#482878\"], [0.2222222222222222, \"#3e4989\"], [0.3333333333333333, \"#31688e\"], [0.4444444444444444, \"#26828e\"], [0.5555555555555556, \"#1f9e89\"], [0.6666666666666666, \"#35b779\"], [0.7777777777777778, \"#6ece58\"], [0.8888888888888888, \"#b5de2b\"], [1.0, \"#fde725\"]], \"type\": \"surface\"}], \"table\": [{\"cells\": {\"fill\": {\"color\": \"rgb(237,237,237)\"}, \"line\": {\"color\": \"white\"}}, \"header\": {\"fill\": {\"color\": \"rgb(217,217,217)\"}, \"line\": {\"color\": \"white\"}}, \"type\": \"table\"}]}, \"layout\": {\"annotationdefaults\": {\"arrowhead\": 0, \"arrowwidth\": 1}, \"coloraxis\": {\"colorbar\": {\"outlinewidth\": 10, \"tickcolor\": \"rgb(36,36,36)\", \"ticklen\": 8, \"ticks\": \"outside\", \"tickwidth\": 2}}, \"colorscale\": {\"diverging\": [[0.0, \"rgb(103,0,31)\"], [0.1, \"rgb(178,24,43)\"], [0.2, \"rgb(214,96,77)\"], [0.3, \"rgb(244,165,130)\"], [0.4, \"rgb(253,219,199)\"], [0.5, \"rgb(247,247,247)\"], [0.6, \"rgb(209,229,240)\"], [0.7, \"rgb(146,197,222)\"], [0.8, \"rgb(67,147,195)\"], [0.9, \"rgb(33,102,172)\"], [1.0, \"rgb(5,48,97)\"]], \"sequential\": [[0.0, \"#440154\"], [0.1111111111111111, \"#482878\"], [0.2222222222222222, \"#3e4989\"], [0.3333333333333333, \"#31688e\"], [0.4444444444444444, \"#26828e\"], [0.5555555555555556, \"#1f9e89\"], [0.6666666666666666, \"#35b779\"], [0.7777777777777778, \"#6ece58\"], [0.8888888888888888, \"#b5de2b\"], [1.0, \"#fde725\"]], \"sequentialminus\": [[0.0, \"#440154\"], [0.1111111111111111, \"#482878\"], [0.2222222222222222, \"#3e4989\"], [0.3333333333333333, \"#31688e\"], [0.4444444444444444, \"#26828e\"], [0.5555555555555556, \"#1f9e89\"], [0.6666666666666666, \"#35b779\"], [0.7777777777777778, \"#6ece58\"], [0.8888888888888888, \"#b5de2b\"], [1.0, \"#fde725\"]]}, \"colorway\": [\"#1F77B4\", \"#FF7F0E\", \"#2CA02C\", \"#D62728\", \"#9467BD\", \"#8C564B\", \"#E377C2\", \"#7F7F7F\", \"#BCBD22\", \"#17BECF\"], \"font\": {\"color\": \"rgb(36,36,36)\"}, \"geo\": {\"bgcolor\": \"white\", \"lakecolor\": \"white\", \"landcolor\": \"white\", \"showlakes\": true, \"showland\": true, \"subunitcolor\": \"white\"}, \"hoverlabel\": {\"align\": \"left\"}, \"hovermode\": \"closest\", \"mapbox\": {\"style\": \"light\"}, \"paper_bgcolor\": \"white\", \"plot_bgcolor\": \"white\", \"polar\": {\"angularaxis\": {\"gridcolor\": \"rgb(232,232,232)\", \"linecolor\": \"rgb(36,36,36)\", \"showgrid\": false, \"showline\": true, \"ticks\": \"outside\"}, \"bgcolor\": \"white\", \"radialaxis\": {\"gridcolor\": \"rgb(232,232,232)\", \"linecolor\": \"rgb(36,36,36)\", \"showgrid\": false, \"showline\": true, \"ticks\": \"outside\"}}, \"scene\": {\"xaxis\": {\"backgroundcolor\": \"white\", \"gridcolor\": \"rgb(232,232,232)\", \"gridwidth\": 2, \"linecolor\": \"rgb(36,36,36)\", \"showbackground\": true, \"showgrid\": false, \"showline\": true, \"ticks\": \"outside\", \"zeroline\": false, \"zerolinecolor\": \"rgb(36,36,36)\"}, \"yaxis\": {\"backgroundcolor\": \"white\", \"gridcolor\": \"rgb(232,232,232)\", \"gridwidth\": 2, \"linecolor\": \"rgb(36,36,36)\", \"showbackground\": true, \"showgrid\": false, \"showline\": true, \"ticks\": \"outside\", \"zeroline\": false, \"zerolinecolor\": \"rgb(36,36,36)\"}, \"zaxis\": {\"backgroundcolor\": \"white\", \"gridcolor\": \"rgb(232,232,232)\", \"gridwidth\": 2, \"linecolor\": \"rgb(36,36,36)\", \"showbackground\": true, \"showgrid\": false, \"showline\": true, \"ticks\": \"outside\", \"zeroline\": false, \"zerolinecolor\": \"rgb(36,36,36)\"}}, \"shapedefaults\": {\"fillcolor\": \"black\", \"line\": {\"width\": 0}, \"opacity\": 0.3}, \"ternary\": {\"aaxis\": {\"gridcolor\": \"rgb(232,232,232)\", \"linecolor\": \"rgb(36,36,36)\", \"showgrid\": false, \"showline\": true, \"ticks\": \"outside\"}, \"baxis\": {\"gridcolor\": \"rgb(232,232,232)\", \"linecolor\": \"rgb(36,36,36)\", \"showgrid\": false, \"showline\": true, \"ticks\": \"outside\"}, \"bgcolor\": \"white\", \"caxis\": {\"gridcolor\": \"rgb(232,232,232)\", \"linecolor\": \"rgb(36,36,36)\", \"showgrid\": false, \"showline\": true, \"ticks\": \"outside\"}}, \"title\": {\"x\": 0.05}, \"xaxis\": {\"automargin\": true, \"gridcolor\": \"rgb(232,232,232)\", \"linecolor\": \"rgb(36,36,36)\", \"showgrid\": false, \"showline\": true, \"ticks\": \"outside\", \"title\": {\"standoff\": 15}, \"zeroline\": false, \"zerolinecolor\": \"rgb(36,36,36)\"}, \"yaxis\": {\"automargin\": true, \"gridcolor\": \"rgb(232,232,232)\", \"linecolor\": \"rgb(36,36,36)\", \"showgrid\": false, \"showline\": true, \"ticks\": \"outside\", \"title\": {\"standoff\": 15}, \"zeroline\": false, \"zerolinecolor\": \"rgb(36,36,36)\"}}}, \"title\": {\"text\": \"Top 5 Pools by Total Fees - Ranking by Fees Earned\"}, \"width\": 800, \"xaxis\": {\"anchor\": \"y\", \"domain\": [0.0, 1.0], \"title\": {\"text\": \"Week\"}}, \"yaxis\": {\"anchor\": \"x\", \"autorange\": \"reversed\", \"domain\": [0.0, 1.0], \"dtick\": 1, \"tick0\": 1, \"title\": {\"text\": \"Rank\"}}},\n",
              "                        {\"responsive\": true}\n",
              "                    ).then(function(){\n",
              "                            \n",
              "var gd = document.getElementById('2c5d11de-5879-44cd-b9d4-42fc8ebb6908');\n",
              "var x = new MutationObserver(function (mutations, observer) {{\n",
              "        var display = window.getComputedStyle(gd).display;\n",
              "        if (!display || display === 'none') {{\n",
              "            console.log([gd, 'removed!']);\n",
              "            Plotly.purge(gd);\n",
              "            observer.disconnect();\n",
              "        }}\n",
              "}});\n",
              "\n",
              "// Listen for the removal of the full notebook cells\n",
              "var notebookContainer = gd.closest('#notebook-container');\n",
              "if (notebookContainer) {{\n",
              "    x.observe(notebookContainer, {childList: true});\n",
              "}}\n",
              "\n",
              "// Listen for the clearing of the current output cell\n",
              "var outputEl = gd.closest('.output');\n",
              "if (outputEl) {{\n",
              "    x.observe(outputEl, {childList: true});\n",
              "}}\n",
              "\n",
              "                        })\n",
              "                };\n",
              "                \n",
              "            </script>\n",
              "        </div>\n",
              "</body>\n",
              "</html>"
            ]
          },
          "metadata": {}
        }
      ]
    },
    {
      "cell_type": "markdown",
      "metadata": {
        "id": "iIK9dczw63OC"
      },
      "source": [
        "## How close are the pools to each other?\n",
        "\n",
        "To understand how close the pools are in terms of fees, the table below shows the total fees over the 6 month period for each of these 5 pools.  The USDC pool is not just the largest pool, it is the largest by a factor of almost 3.  We suspected the USDT & DAI pools were close, and the data confirms it - less than 10% difference in fees over the period.  We will examine USDT & DAI a bit closer later.  The fees from WETH and BUSD are significantly lower than than the pools above.  An interesting point for these two pools is the average liquidity deposited in the pool over the 6 month period - WETH generated almost twice the fees but required 137 times more liquidity to do it.  More on this later as well..."
      ]
    },
    {
      "cell_type": "code",
      "metadata": {
        "id": "Bf8Fx0Z0Vf6Y",
        "colab": {
          "base_uri": "https://localhost:8080/",
          "height": 194
        },
        "outputId": "afae0e17-46d8-4451-dfca-c57f62d7cc2c"
      },
      "source": [
        "#@title\n",
        "#What are the top 5 pools?\n",
        "#- by total fees\n",
        "from google.colab import data_table\n",
        "data_table._DEFAULT_FORMATTERS[float] = lambda x: f\"{x:,.0f}\"\n",
        "#%load_ext google.colab.data_table\n",
        "df_p = %R rank_table %>% filter(total_fee_rank <= 5) %>% arrange(desc(total_fees)) %>% select(reserve_name, total_fees, mean_liq) %>% rename(\"Market Symbol\" = reserve_name, \"Total Fees USD\" = total_fees, \"Average Liquidity USD\" = mean_liq)\n",
        "data_table.DataTable(df_p, include_index=True, min_width = \"1\")"
      ],
      "execution_count": 4,
      "outputs": [
        {
          "output_type": "execute_result",
          "data": {
            "application/vnd.google.colaboratory.module+javascript": "\n      import \"https://ssl.gstatic.com/colaboratory/data_table/a6224c040fa35dcf/data_table.js\";\n\n      window.createDataTable({\n        data: [[\"1\",\n\"USDC\",\n{\n            'v': 47751514.887364686,\n            'f': \"47,751,515\",\n        },\n{\n            'v': 2900648888.485386,\n            'f': \"2,900,648,888\",\n        }],\n [\"2\",\n\"USDT\",\n{\n            'v': 17248782.0377686,\n            'f': \"17,248,782\",\n        },\n{\n            'v': 715414744.7975,\n            'f': \"715,414,745\",\n        }],\n [\"3\",\n\"DAI\",\n{\n            'v': 15829997.282917036,\n            'f': \"15,829,997\",\n        },\n{\n            'v': 888374568.7003772,\n            'f': \"888,374,569\",\n        }],\n [\"4\",\n\"WETH\",\n{\n            'v': 1077216.9519601944,\n            'f': \"1,077,217\",\n        },\n{\n            'v': 2330169008.303938,\n            'f': \"2,330,169,008\",\n        }],\n [\"5\",\n\"BUSD\",\n{\n            'v': 613978.2350674985,\n            'f': \"613,978\",\n        },\n{\n            'v': 17001614.48274678,\n            'f': \"17,001,614\",\n        }]],\n        columns: [[\"string\", \"index\"], [\"string\", \"Market Symbol\"], [\"number\", \"Total Fees USD\"], [\"number\", \"Average Liquidity USD\"]],\n        columnOptions: [{\"width\": \"1px\", \"className\": \"index_column\"}],\n        rowsPerPage: 25,\n        helpUrl: \"https://colab.research.google.com/notebooks/data_table.ipynb\",\n        suppressOutputScrolling: true,\n        minimumWidth: \"1\",\n      });\n    ",
            "text/plain": [
              "<google.colab.data_table.DataTable object>"
            ],
            "text/html": [
              "<div>\n",
              "<style scoped>\n",
              "    .dataframe tbody tr th:only-of-type {\n",
              "        vertical-align: middle;\n",
              "    }\n",
              "\n",
              "    .dataframe tbody tr th {\n",
              "        vertical-align: top;\n",
              "    }\n",
              "\n",
              "    .dataframe thead th {\n",
              "        text-align: right;\n",
              "    }\n",
              "</style>\n",
              "<table border=\"1\" class=\"dataframe\">\n",
              "  <thead>\n",
              "    <tr style=\"text-align: right;\">\n",
              "      <th></th>\n",
              "      <th>Market Symbol</th>\n",
              "      <th>Total Fees USD</th>\n",
              "      <th>Average Liquidity USD</th>\n",
              "    </tr>\n",
              "  </thead>\n",
              "  <tbody>\n",
              "    <tr>\n",
              "      <th>1</th>\n",
              "      <td>USDC</td>\n",
              "      <td>4.775151e+07</td>\n",
              "      <td>2.900649e+09</td>\n",
              "    </tr>\n",
              "    <tr>\n",
              "      <th>2</th>\n",
              "      <td>USDT</td>\n",
              "      <td>1.724878e+07</td>\n",
              "      <td>7.154147e+08</td>\n",
              "    </tr>\n",
              "    <tr>\n",
              "      <th>3</th>\n",
              "      <td>DAI</td>\n",
              "      <td>1.583000e+07</td>\n",
              "      <td>8.883746e+08</td>\n",
              "    </tr>\n",
              "    <tr>\n",
              "      <th>4</th>\n",
              "      <td>WETH</td>\n",
              "      <td>1.077217e+06</td>\n",
              "      <td>2.330169e+09</td>\n",
              "    </tr>\n",
              "    <tr>\n",
              "      <th>5</th>\n",
              "      <td>BUSD</td>\n",
              "      <td>6.139782e+05</td>\n",
              "      <td>1.700161e+07</td>\n",
              "    </tr>\n",
              "  </tbody>\n",
              "</table>\n",
              "</div>"
            ]
          },
          "metadata": {},
          "execution_count": 4
        }
      ]
    },
    {
      "cell_type": "markdown",
      "metadata": {
        "id": "fizqvCO-9Ei_"
      },
      "source": [
        "## Comparing DAI & USDT\n",
        "\n",
        "As we saw from the ranking table, USDT and DAI are very close together with respect to fees generated.  The graph below shows this in more detail - the fees received by each pool on each week. An interesting point is the week of the 9th of August - USDT receieved 800k more fees than DAI in just this week. This difference accounts for a large portion of the overall difference between USDT and DAI for the 6 month period (800k out of 1400k)."
      ]
    },
    {
      "cell_type": "code",
      "metadata": {
        "id": "e3K8MIA3aCom",
        "colab": {
          "base_uri": "https://localhost:8080/",
          "height": 512
        },
        "outputId": "dac0bc59-43cb-4f57-8c69-731e5d53847f"
      },
      "source": [
        "#@title\n",
        "#Compare DAI & USDT\n",
        "df_p = %R df %>% filter(reserve_name %in% c(\"USDT\", \"DAI\")) %>% arrange(week, reserve_name)\n",
        "\n",
        "fig = px.line(df_p, x=\"week\", y=\"total_returns_usd\", color='reserve_name',\n",
        "              template=\"simple_white\", width=800, height=800/1.618, \n",
        "              title= 'DAI & USDT Total USD Fees Received - Head to Head',\n",
        "              labels=dict(week=\"Week\", total_returns_usd=\"USD Fees Received\", reserve_name=\"Pool\"))\n",
        "#fig.update_yaxes(autorange=\"reversed\")\n",
        "#fig.update_traces(mode=\"lines+markers\")\n",
        "#fig.update_yaxes(tick0=1, dtick=1)\n",
        "fig.update_traces(line_shape = \"spline\", line_smoothing=.7, selector=dict(type='scatter'))\n",
        "fig.update_layout(legend=dict(\n",
        "    yanchor=\"top\",\n",
        "    y=0.99,\n",
        "    xanchor=\"right\",\n",
        "    x=0.99\n",
        "))\n",
        "fig.show()\n"
      ],
      "execution_count": 5,
      "outputs": [
        {
          "output_type": "display_data",
          "data": {
            "text/html": [
              "<html>\n",
              "<head><meta charset=\"utf-8\" /></head>\n",
              "<body>\n",
              "    <div>\n",
              "            <script src=\"https://cdnjs.cloudflare.com/ajax/libs/mathjax/2.7.5/MathJax.js?config=TeX-AMS-MML_SVG\"></script><script type=\"text/javascript\">if (window.MathJax) {MathJax.Hub.Config({SVG: {font: \"STIX-Web\"}});}</script>\n",
              "                <script type=\"text/javascript\">window.PlotlyConfig = {MathJaxConfig: 'local'};</script>\n",
              "        <script src=\"https://cdn.plot.ly/plotly-latest.min.js\"></script>    \n",
              "            <div id=\"436d61a7-49d4-4285-abe8-3ec075c3e262\" class=\"plotly-graph-div\" style=\"height:494.4375772558714px; width:800px;\"></div>\n",
              "            <script type=\"text/javascript\">\n",
              "                \n",
              "                    window.PLOTLYENV=window.PLOTLYENV || {};\n",
              "                    \n",
              "                if (document.getElementById(\"436d61a7-49d4-4285-abe8-3ec075c3e262\")) {\n",
              "                    Plotly.newPlot(\n",
              "                        '436d61a7-49d4-4285-abe8-3ec075c3e262',\n",
              "                        [{\"hoverlabel\": {\"namelength\": 0}, \"hovertemplate\": \"Pool=DAI<br>Week=%{x}<br>USD Fees Received=%{y}\", \"legendgroup\": \"Pool=DAI\", \"line\": {\"color\": \"#1F77B4\", \"dash\": \"solid\", \"shape\": \"spline\", \"smoothing\": 0.7}, \"mode\": \"lines\", \"name\": \"Pool=DAI\", \"showlegend\": true, \"type\": \"scatter\", \"x\": [\"2021-02-22T00:00:00\", \"2021-03-01T00:00:00\", \"2021-03-08T00:00:00\", \"2021-03-15T00:00:00\", \"2021-03-22T00:00:00\", \"2021-03-29T00:00:00\", \"2021-04-05T00:00:00\", \"2021-04-12T00:00:00\", \"2021-04-19T00:00:00\", \"2021-04-26T00:00:00\", \"2021-05-03T00:00:00\", \"2021-05-10T00:00:00\", \"2021-05-17T00:00:00\", \"2021-05-24T00:00:00\", \"2021-05-31T00:00:00\", \"2021-06-07T00:00:00\", \"2021-06-14T00:00:00\", \"2021-06-21T00:00:00\", \"2021-06-28T00:00:00\", \"2021-07-05T00:00:00\", \"2021-07-12T00:00:00\", \"2021-07-19T00:00:00\", \"2021-07-26T00:00:00\", \"2021-08-02T00:00:00\", \"2021-08-09T00:00:00\", \"2021-08-16T00:00:00\"], \"xaxis\": \"x\", \"y\": [156715.86302749036, 155739.87693547795, 212381.7414482235, 221262.310325142, 150408.73088250778, 199005.7047947101, 213111.08485995285, 274629.4160241587, 210339.25323931448, 705664.9374789567, 1134831.6761975903, 1721378.1388081815, 1156694.98526622, 644926.5354130608, 748976.8462001495, 711507.7858807356, 779715.9593287514, 743283.0394879761, 737306.7259030788, 670179.4890999221, 533434.895570262, 621521.8822492219, 702143.3262737738, 685088.5578731394, 881637.8412134103, 858110.6791356275], \"yaxis\": \"y\"}, {\"hoverlabel\": {\"namelength\": 0}, \"hovertemplate\": \"Pool=USDT<br>Week=%{x}<br>USD Fees Received=%{y}\", \"legendgroup\": \"Pool=USDT\", \"line\": {\"color\": \"#FF7F0E\", \"dash\": \"solid\", \"shape\": \"spline\", \"smoothing\": 0.7}, \"mode\": \"lines\", \"name\": \"Pool=USDT\", \"showlegend\": true, \"type\": \"scatter\", \"x\": [\"2021-02-22T00:00:00\", \"2021-03-01T00:00:00\", \"2021-03-08T00:00:00\", \"2021-03-15T00:00:00\", \"2021-03-22T00:00:00\", \"2021-03-29T00:00:00\", \"2021-04-05T00:00:00\", \"2021-04-12T00:00:00\", \"2021-04-19T00:00:00\", \"2021-04-26T00:00:00\", \"2021-05-03T00:00:00\", \"2021-05-10T00:00:00\", \"2021-05-17T00:00:00\", \"2021-05-24T00:00:00\", \"2021-05-31T00:00:00\", \"2021-06-07T00:00:00\", \"2021-06-14T00:00:00\", \"2021-06-21T00:00:00\", \"2021-06-28T00:00:00\", \"2021-07-05T00:00:00\", \"2021-07-12T00:00:00\", \"2021-07-19T00:00:00\", \"2021-07-26T00:00:00\", \"2021-08-02T00:00:00\", \"2021-08-09T00:00:00\", \"2021-08-16T00:00:00\"], \"xaxis\": \"x\", \"y\": [203072.1667357018, 174997.67868258152, 280384.56187979784, 355783.0453373499, 254994.61930832, 460847.88392537326, 354256.6548505462, 579743.4230375813, 344383.84500722954, 838655.2867228595, 1694641.3235425507, 2023754.7496198893, 1344900.606056764, 437508.8983744126, 343852.5201950315, 353979.62623643037, 554704.6210560278, 481524.10581668, 548251.8712614911, 566107.1648880988, 547466.0222498588, 490977.1050238126, 752650.6983560272, 746902.3821665689, 1682537.5319705715, 831903.6454670432], \"yaxis\": \"y\"}],\n",
              "                        {\"height\": 494.4375772558714, \"legend\": {\"tracegroupgap\": 0, \"x\": 0.99, \"xanchor\": \"right\", \"y\": 0.99, \"yanchor\": \"top\"}, \"template\": {\"data\": {\"bar\": [{\"error_x\": {\"color\": \"rgb(36,36,36)\"}, \"error_y\": {\"color\": \"rgb(36,36,36)\"}, \"marker\": {\"line\": {\"color\": \"white\", \"width\": 0.5}}, \"type\": \"bar\"}], \"barpolar\": [{\"marker\": {\"line\": {\"color\": \"white\", \"width\": 0.5}}, \"type\": \"barpolar\"}], \"carpet\": [{\"aaxis\": {\"endlinecolor\": \"rgb(36,36,36)\", \"gridcolor\": \"white\", \"linecolor\": \"white\", \"minorgridcolor\": \"white\", \"startlinecolor\": \"rgb(36,36,36)\"}, \"baxis\": {\"endlinecolor\": \"rgb(36,36,36)\", \"gridcolor\": \"white\", \"linecolor\": \"white\", \"minorgridcolor\": \"white\", \"startlinecolor\": \"rgb(36,36,36)\"}, \"type\": \"carpet\"}], \"choropleth\": [{\"colorbar\": {\"outlinewidth\": 10, \"tickcolor\": \"rgb(36,36,36)\", \"ticklen\": 8, \"ticks\": \"outside\", \"tickwidth\": 2}, \"type\": \"choropleth\"}], \"contour\": [{\"colorbar\": {\"outlinewidth\": 10, \"tickcolor\": \"rgb(36,36,36)\", \"ticklen\": 8, \"ticks\": \"outside\", \"tickwidth\": 2}, \"colorscale\": [[0.0, \"#440154\"], [0.1111111111111111, \"#482878\"], [0.2222222222222222, \"#3e4989\"], [0.3333333333333333, \"#31688e\"], [0.4444444444444444, \"#26828e\"], [0.5555555555555556, \"#1f9e89\"], [0.6666666666666666, \"#35b779\"], [0.7777777777777778, \"#6ece58\"], [0.8888888888888888, \"#b5de2b\"], [1.0, \"#fde725\"]], \"type\": \"contour\"}], \"contourcarpet\": [{\"colorbar\": {\"outlinewidth\": 10, \"tickcolor\": \"rgb(36,36,36)\", \"ticklen\": 8, \"ticks\": \"outside\", \"tickwidth\": 2}, \"type\": \"contourcarpet\"}], \"heatmap\": [{\"colorbar\": {\"outlinewidth\": 10, \"tickcolor\": \"rgb(36,36,36)\", \"ticklen\": 8, \"ticks\": \"outside\", \"tickwidth\": 2}, \"colorscale\": [[0.0, \"#440154\"], [0.1111111111111111, \"#482878\"], [0.2222222222222222, \"#3e4989\"], [0.3333333333333333, \"#31688e\"], [0.4444444444444444, \"#26828e\"], [0.5555555555555556, \"#1f9e89\"], [0.6666666666666666, \"#35b779\"], [0.7777777777777778, \"#6ece58\"], [0.8888888888888888, \"#b5de2b\"], [1.0, \"#fde725\"]], \"type\": \"heatmap\"}], \"heatmapgl\": [{\"colorbar\": {\"outlinewidth\": 10, \"tickcolor\": \"rgb(36,36,36)\", \"ticklen\": 8, \"ticks\": \"outside\", \"tickwidth\": 2}, \"colorscale\": [[0.0, \"#440154\"], [0.1111111111111111, \"#482878\"], [0.2222222222222222, \"#3e4989\"], [0.3333333333333333, \"#31688e\"], [0.4444444444444444, \"#26828e\"], [0.5555555555555556, \"#1f9e89\"], [0.6666666666666666, \"#35b779\"], [0.7777777777777778, \"#6ece58\"], [0.8888888888888888, \"#b5de2b\"], [1.0, \"#fde725\"]], \"type\": \"heatmapgl\"}], \"histogram\": [{\"marker\": {\"line\": {\"color\": \"white\", \"width\": 0.6}}, \"type\": \"histogram\"}], \"histogram2d\": [{\"colorbar\": {\"outlinewidth\": 10, \"tickcolor\": \"rgb(36,36,36)\", \"ticklen\": 8, \"ticks\": \"outside\", \"tickwidth\": 2}, \"colorscale\": [[0.0, \"#440154\"], [0.1111111111111111, \"#482878\"], [0.2222222222222222, \"#3e4989\"], [0.3333333333333333, \"#31688e\"], [0.4444444444444444, \"#26828e\"], [0.5555555555555556, \"#1f9e89\"], [0.6666666666666666, \"#35b779\"], [0.7777777777777778, \"#6ece58\"], [0.8888888888888888, \"#b5de2b\"], [1.0, \"#fde725\"]], \"type\": \"histogram2d\"}], \"histogram2dcontour\": [{\"colorbar\": {\"outlinewidth\": 10, \"tickcolor\": \"rgb(36,36,36)\", \"ticklen\": 8, \"ticks\": \"outside\", \"tickwidth\": 2}, \"colorscale\": [[0.0, \"#440154\"], [0.1111111111111111, \"#482878\"], [0.2222222222222222, \"#3e4989\"], [0.3333333333333333, \"#31688e\"], [0.4444444444444444, \"#26828e\"], [0.5555555555555556, \"#1f9e89\"], [0.6666666666666666, \"#35b779\"], [0.7777777777777778, \"#6ece58\"], [0.8888888888888888, \"#b5de2b\"], [1.0, \"#fde725\"]], \"type\": \"histogram2dcontour\"}], \"mesh3d\": [{\"colorbar\": {\"outlinewidth\": 10, \"tickcolor\": \"rgb(36,36,36)\", \"ticklen\": 8, \"ticks\": \"outside\", \"tickwidth\": 2}, \"type\": \"mesh3d\"}], \"parcoords\": [{\"line\": {\"colorbar\": {\"outlinewidth\": 10, \"tickcolor\": \"rgb(36,36,36)\", \"ticklen\": 8, \"ticks\": \"outside\", \"tickwidth\": 2}}, \"type\": \"parcoords\"}], \"pie\": [{\"automargin\": true, \"type\": \"pie\"}], \"scatter\": [{\"marker\": {\"colorbar\": {\"outlinewidth\": 10, \"tickcolor\": \"rgb(36,36,36)\", \"ticklen\": 8, \"ticks\": \"outside\", \"tickwidth\": 2}}, \"type\": \"scatter\"}], \"scatter3d\": [{\"line\": {\"colorbar\": {\"outlinewidth\": 10, \"tickcolor\": \"rgb(36,36,36)\", \"ticklen\": 8, \"ticks\": \"outside\", \"tickwidth\": 2}}, \"marker\": {\"colorbar\": {\"outlinewidth\": 10, \"tickcolor\": \"rgb(36,36,36)\", \"ticklen\": 8, \"ticks\": \"outside\", \"tickwidth\": 2}}, \"type\": \"scatter3d\"}], \"scattercarpet\": [{\"marker\": {\"colorbar\": {\"outlinewidth\": 10, \"tickcolor\": \"rgb(36,36,36)\", \"ticklen\": 8, \"ticks\": \"outside\", \"tickwidth\": 2}}, \"type\": \"scattercarpet\"}], \"scattergeo\": [{\"marker\": {\"colorbar\": {\"outlinewidth\": 10, \"tickcolor\": \"rgb(36,36,36)\", \"ticklen\": 8, \"ticks\": \"outside\", \"tickwidth\": 2}}, \"type\": \"scattergeo\"}], \"scattergl\": [{\"marker\": {\"colorbar\": {\"outlinewidth\": 10, \"tickcolor\": \"rgb(36,36,36)\", \"ticklen\": 8, \"ticks\": \"outside\", \"tickwidth\": 2}}, \"type\": \"scattergl\"}], \"scattermapbox\": [{\"marker\": {\"colorbar\": {\"outlinewidth\": 10, \"tickcolor\": \"rgb(36,36,36)\", \"ticklen\": 8, \"ticks\": \"outside\", \"tickwidth\": 2}}, \"type\": \"scattermapbox\"}], \"scatterpolar\": [{\"marker\": {\"colorbar\": {\"outlinewidth\": 10, \"tickcolor\": \"rgb(36,36,36)\", \"ticklen\": 8, \"ticks\": \"outside\", \"tickwidth\": 2}}, \"type\": \"scatterpolar\"}], \"scatterpolargl\": [{\"marker\": {\"colorbar\": {\"outlinewidth\": 10, \"tickcolor\": \"rgb(36,36,36)\", \"ticklen\": 8, \"ticks\": \"outside\", \"tickwidth\": 2}}, \"type\": \"scatterpolargl\"}], \"scatterternary\": [{\"marker\": {\"colorbar\": {\"outlinewidth\": 10, \"tickcolor\": \"rgb(36,36,36)\", \"ticklen\": 8, \"ticks\": \"outside\", \"tickwidth\": 2}}, \"type\": \"scatterternary\"}], \"surface\": [{\"colorbar\": {\"outlinewidth\": 10, \"tickcolor\": \"rgb(36,36,36)\", \"ticklen\": 8, \"ticks\": \"outside\", \"tickwidth\": 2}, \"colorscale\": [[0.0, \"#440154\"], [0.1111111111111111, \"#482878\"], [0.2222222222222222, \"#3e4989\"], [0.3333333333333333, \"#31688e\"], [0.4444444444444444, \"#26828e\"], [0.5555555555555556, \"#1f9e89\"], [0.6666666666666666, \"#35b779\"], [0.7777777777777778, \"#6ece58\"], [0.8888888888888888, \"#b5de2b\"], [1.0, \"#fde725\"]], \"type\": \"surface\"}], \"table\": [{\"cells\": {\"fill\": {\"color\": \"rgb(237,237,237)\"}, \"line\": {\"color\": \"white\"}}, \"header\": {\"fill\": {\"color\": \"rgb(217,217,217)\"}, \"line\": {\"color\": \"white\"}}, \"type\": \"table\"}]}, \"layout\": {\"annotationdefaults\": {\"arrowhead\": 0, \"arrowwidth\": 1}, \"coloraxis\": {\"colorbar\": {\"outlinewidth\": 10, \"tickcolor\": \"rgb(36,36,36)\", \"ticklen\": 8, \"ticks\": \"outside\", \"tickwidth\": 2}}, \"colorscale\": {\"diverging\": [[0.0, \"rgb(103,0,31)\"], [0.1, \"rgb(178,24,43)\"], [0.2, \"rgb(214,96,77)\"], [0.3, \"rgb(244,165,130)\"], [0.4, \"rgb(253,219,199)\"], [0.5, \"rgb(247,247,247)\"], [0.6, \"rgb(209,229,240)\"], [0.7, \"rgb(146,197,222)\"], [0.8, \"rgb(67,147,195)\"], [0.9, \"rgb(33,102,172)\"], [1.0, \"rgb(5,48,97)\"]], \"sequential\": [[0.0, \"#440154\"], [0.1111111111111111, \"#482878\"], [0.2222222222222222, \"#3e4989\"], [0.3333333333333333, \"#31688e\"], [0.4444444444444444, \"#26828e\"], [0.5555555555555556, \"#1f9e89\"], [0.6666666666666666, \"#35b779\"], [0.7777777777777778, \"#6ece58\"], [0.8888888888888888, \"#b5de2b\"], [1.0, \"#fde725\"]], \"sequentialminus\": [[0.0, \"#440154\"], [0.1111111111111111, \"#482878\"], [0.2222222222222222, \"#3e4989\"], [0.3333333333333333, \"#31688e\"], [0.4444444444444444, \"#26828e\"], [0.5555555555555556, \"#1f9e89\"], [0.6666666666666666, \"#35b779\"], [0.7777777777777778, \"#6ece58\"], [0.8888888888888888, \"#b5de2b\"], [1.0, \"#fde725\"]]}, \"colorway\": [\"#1F77B4\", \"#FF7F0E\", \"#2CA02C\", \"#D62728\", \"#9467BD\", \"#8C564B\", \"#E377C2\", \"#7F7F7F\", \"#BCBD22\", \"#17BECF\"], \"font\": {\"color\": \"rgb(36,36,36)\"}, \"geo\": {\"bgcolor\": \"white\", \"lakecolor\": \"white\", \"landcolor\": \"white\", \"showlakes\": true, \"showland\": true, \"subunitcolor\": \"white\"}, \"hoverlabel\": {\"align\": \"left\"}, \"hovermode\": \"closest\", \"mapbox\": {\"style\": \"light\"}, \"paper_bgcolor\": \"white\", \"plot_bgcolor\": \"white\", \"polar\": {\"angularaxis\": {\"gridcolor\": \"rgb(232,232,232)\", \"linecolor\": \"rgb(36,36,36)\", \"showgrid\": false, \"showline\": true, \"ticks\": \"outside\"}, \"bgcolor\": \"white\", \"radialaxis\": {\"gridcolor\": \"rgb(232,232,232)\", \"linecolor\": \"rgb(36,36,36)\", \"showgrid\": false, \"showline\": true, \"ticks\": \"outside\"}}, \"scene\": {\"xaxis\": {\"backgroundcolor\": \"white\", \"gridcolor\": \"rgb(232,232,232)\", \"gridwidth\": 2, \"linecolor\": \"rgb(36,36,36)\", \"showbackground\": true, \"showgrid\": false, \"showline\": true, \"ticks\": \"outside\", \"zeroline\": false, \"zerolinecolor\": \"rgb(36,36,36)\"}, \"yaxis\": {\"backgroundcolor\": \"white\", \"gridcolor\": \"rgb(232,232,232)\", \"gridwidth\": 2, \"linecolor\": \"rgb(36,36,36)\", \"showbackground\": true, \"showgrid\": false, \"showline\": true, \"ticks\": \"outside\", \"zeroline\": false, \"zerolinecolor\": \"rgb(36,36,36)\"}, \"zaxis\": {\"backgroundcolor\": \"white\", \"gridcolor\": \"rgb(232,232,232)\", \"gridwidth\": 2, \"linecolor\": \"rgb(36,36,36)\", \"showbackground\": true, \"showgrid\": false, \"showline\": true, \"ticks\": \"outside\", \"zeroline\": false, \"zerolinecolor\": \"rgb(36,36,36)\"}}, \"shapedefaults\": {\"fillcolor\": \"black\", \"line\": {\"width\": 0}, \"opacity\": 0.3}, \"ternary\": {\"aaxis\": {\"gridcolor\": \"rgb(232,232,232)\", \"linecolor\": \"rgb(36,36,36)\", \"showgrid\": false, \"showline\": true, \"ticks\": \"outside\"}, \"baxis\": {\"gridcolor\": \"rgb(232,232,232)\", \"linecolor\": \"rgb(36,36,36)\", \"showgrid\": false, \"showline\": true, \"ticks\": \"outside\"}, \"bgcolor\": \"white\", \"caxis\": {\"gridcolor\": \"rgb(232,232,232)\", \"linecolor\": \"rgb(36,36,36)\", \"showgrid\": false, \"showline\": true, \"ticks\": \"outside\"}}, \"title\": {\"x\": 0.05}, \"xaxis\": {\"automargin\": true, \"gridcolor\": \"rgb(232,232,232)\", \"linecolor\": \"rgb(36,36,36)\", \"showgrid\": false, \"showline\": true, \"ticks\": \"outside\", \"title\": {\"standoff\": 15}, \"zeroline\": false, \"zerolinecolor\": \"rgb(36,36,36)\"}, \"yaxis\": {\"automargin\": true, \"gridcolor\": \"rgb(232,232,232)\", \"linecolor\": \"rgb(36,36,36)\", \"showgrid\": false, \"showline\": true, \"ticks\": \"outside\", \"title\": {\"standoff\": 15}, \"zeroline\": false, \"zerolinecolor\": \"rgb(36,36,36)\"}}}, \"title\": {\"text\": \"DAI & USDT Total USD Fees Received - Head to Head\"}, \"width\": 800, \"xaxis\": {\"anchor\": \"y\", \"domain\": [0.0, 1.0], \"title\": {\"text\": \"Week\"}}, \"yaxis\": {\"anchor\": \"x\", \"domain\": [0.0, 1.0], \"title\": {\"text\": \"USD Fees Received\"}}},\n",
              "                        {\"responsive\": true}\n",
              "                    ).then(function(){\n",
              "                            \n",
              "var gd = document.getElementById('436d61a7-49d4-4285-abe8-3ec075c3e262');\n",
              "var x = new MutationObserver(function (mutations, observer) {{\n",
              "        var display = window.getComputedStyle(gd).display;\n",
              "        if (!display || display === 'none') {{\n",
              "            console.log([gd, 'removed!']);\n",
              "            Plotly.purge(gd);\n",
              "            observer.disconnect();\n",
              "        }}\n",
              "}});\n",
              "\n",
              "// Listen for the removal of the full notebook cells\n",
              "var notebookContainer = gd.closest('#notebook-container');\n",
              "if (notebookContainer) {{\n",
              "    x.observe(notebookContainer, {childList: true});\n",
              "}}\n",
              "\n",
              "// Listen for the clearing of the current output cell\n",
              "var outputEl = gd.closest('.output');\n",
              "if (outputEl) {{\n",
              "    x.observe(outputEl, {childList: true});\n",
              "}}\n",
              "\n",
              "                        })\n",
              "                };\n",
              "                \n",
              "            </script>\n",
              "        </div>\n",
              "</body>\n",
              "</html>"
            ]
          },
          "metadata": {}
        }
      ]
    },
    {
      "cell_type": "markdown",
      "metadata": {
        "id": "4dzDoOzk3kd5"
      },
      "source": [
        "# Why are the results like this?\n",
        "\n",
        "The basic Aave pool model is that borrowers pay an interest rate for the funds they borrow, and depositors receive a portion of this interest rate as a reward for providing liquidity.  Users can choose between a fixed interest rate and a variable rate.  The variable rate is determined by a couple of factors, the most important being the pool utiisation rate.  For each pool, this is the defined as:\n",
        "\n",
        "> $UtilisationRate = \\frac{BorrowedFunds}{DepositedFunds}$\n",
        "\n",
        "The higher the utilisation rate, the higher the interest rate.  The interest rate curve is non-linear - there is an inflection point called the Optimal Utilisation rate - $U_{Optimal}$.  For utilsation rates below $U_{Optimal}$, the interest rate changes slowly with utilisation rate.  For rates above $U_{Optimal}$, interest rates increase sharply.  This mechanism helps to ensure that there is always sufficient liquidity in the pool for depositors to retrieve their funds.  If the pool is stretched beyond $U_{Optimal}$, very high interest rates will discourage borrowers and encourage further deposits until things come back into balance.  Different tokens have different $U_{Optimal}$ and different interest rate slope parameters.  There is a more detailed explanation of this mechanism, along with the current parameter values for each token at [https://docs.aave.com/risk/liquidity-risk/borrow-interest-rate](https://docs.aave.com/risk/liquidity-risk/borrow-interest-rate).\n",
        "\n",
        "The digression above into the detail of the interest rate model is relevant to our investigation, as it helps to explain why some pools return higher fees than others.  There are three factors which drive the fees in an Aave pool:\n",
        "- The interest rate for deposits (driven by pool utilisation rate)\n",
        "- The size of the pool - interest earned = pool liquidity x interest rate\n",
        "- The flashloan fees received by the pool (advanced users & protocols can borrow & repay loans in the same block without depositing collateral - for a small fee which goes to the pool depositors)\n",
        "\n",
        "To understand why the 5 pools above are ranked like they are, we will delve into these three factors.\n"
      ]
    },
    {
      "cell_type": "markdown",
      "metadata": {
        "id": "gAC86SAk_ds3"
      },
      "source": [
        "## Deposit Interest Rate\n",
        "\n",
        "The chart below shows the deposit interest rate for the top 5 pools discussed above.  Notice that the stablecoins are all highly correlated - they are consitently with a few % of each other.  There are a few outlier points for BUSD which will be covered later.  There is an overall declining trend for the stablecoins- this indicates a lower demand for borrowing stablecoins from March through to June.  This coincided with the boom & bust in crypto prices.  There has been a slight recovery at the beginning of August, again coinciding with increased asset prices.  \n",
        "\n",
        "The major outlier on the graph, however, is WETH.  The deposit interest rate is extremely low compared with the stablecoins, and is also relatively stable.  We will look at the reasons behind this when we examine the pool utilisation rates."
      ]
    },
    {
      "cell_type": "code",
      "metadata": {
        "id": "qesYLkh3V5k1",
        "colab": {
          "base_uri": "https://localhost:8080/",
          "height": 512
        },
        "outputId": "69fc8aa4-3d7e-4146-eda4-a592a42fa1e6"
      },
      "source": [
        "#@title\n",
        "#Plot APR by pool\n",
        "df_p = %R df %>% filter(total_fee_rank <= 5) %>% arrange(week, reserve_name)\n",
        "\n",
        "fig = px.line(df_p, x=\"week\", y=\"supply_rate\", color='reserve_name',\n",
        "              template=\"simple_white\", width=800, height=800/1.618, \n",
        "              title= 'Top 5 Pools by Total Fees - Deposit Interest Rate',\n",
        "              labels=dict(week=\"Week\", supply_rate=\"Deposit Interest Rate %\", reserve_name=\"Pool\"))\n",
        "#fig.update_yaxes(autorange=\"reversed\")\n",
        "#fig.update_traces(mode=\"lines+markers\")\n",
        "#fig.update_yaxes(tick0=1, dtick=1)\n",
        "fig.update_traces(line_shape = \"spline\", line_smoothing=.7, selector=dict(type='scatter'))\n",
        "fig.update_layout(legend=dict(\n",
        "    yanchor=\"top\",\n",
        "    y=0.99,\n",
        "    xanchor=\"right\",\n",
        "    x=0.99\n",
        "))\n",
        "fig.show()"
      ],
      "execution_count": 6,
      "outputs": [
        {
          "output_type": "display_data",
          "data": {
            "text/html": [
              "<html>\n",
              "<head><meta charset=\"utf-8\" /></head>\n",
              "<body>\n",
              "    <div>\n",
              "            <script src=\"https://cdnjs.cloudflare.com/ajax/libs/mathjax/2.7.5/MathJax.js?config=TeX-AMS-MML_SVG\"></script><script type=\"text/javascript\">if (window.MathJax) {MathJax.Hub.Config({SVG: {font: \"STIX-Web\"}});}</script>\n",
              "                <script type=\"text/javascript\">window.PlotlyConfig = {MathJaxConfig: 'local'};</script>\n",
              "        <script src=\"https://cdn.plot.ly/plotly-latest.min.js\"></script>    \n",
              "            <div id=\"ee5f7b13-7f6f-46e1-97c6-77cd2bc1402d\" class=\"plotly-graph-div\" style=\"height:494.4375772558714px; width:800px;\"></div>\n",
              "            <script type=\"text/javascript\">\n",
              "                \n",
              "                    window.PLOTLYENV=window.PLOTLYENV || {};\n",
              "                    \n",
              "                if (document.getElementById(\"ee5f7b13-7f6f-46e1-97c6-77cd2bc1402d\")) {\n",
              "                    Plotly.newPlot(\n",
              "                        'ee5f7b13-7f6f-46e1-97c6-77cd2bc1402d',\n",
              "                        [{\"hoverlabel\": {\"namelength\": 0}, \"hovertemplate\": \"Pool=BUSD<br>Week=%{x}<br>Deposit Interest Rate %=%{y}\", \"legendgroup\": \"Pool=BUSD\", \"line\": {\"color\": \"#1F77B4\", \"dash\": \"solid\", \"shape\": \"spline\", \"smoothing\": 0.7}, \"mode\": \"lines\", \"name\": \"Pool=BUSD\", \"showlegend\": true, \"type\": \"scatter\", \"x\": [\"2021-02-22T00:00:00\", \"2021-03-01T00:00:00\", \"2021-03-08T00:00:00\", \"2021-03-15T00:00:00\", \"2021-03-22T00:00:00\", \"2021-03-29T00:00:00\", \"2021-04-05T00:00:00\", \"2021-04-12T00:00:00\", \"2021-04-19T00:00:00\", \"2021-04-26T00:00:00\", \"2021-05-03T00:00:00\", \"2021-05-10T00:00:00\", \"2021-05-17T00:00:00\", \"2021-05-24T00:00:00\", \"2021-05-31T00:00:00\", \"2021-06-07T00:00:00\", \"2021-06-14T00:00:00\", \"2021-06-21T00:00:00\", \"2021-06-28T00:00:00\", \"2021-07-05T00:00:00\", \"2021-07-12T00:00:00\", \"2021-07-19T00:00:00\", \"2021-07-26T00:00:00\", \"2021-08-02T00:00:00\", \"2021-08-09T00:00:00\", \"2021-08-16T00:00:00\"], \"xaxis\": \"x\", \"y\": [8.858812158121093, 9.276846246020495, 18.41364239362775, 11.451569133972548, 6.132165926709827, 11.721638990997956, 16.16665459277482, 10.379073052582864, 6.142520383487823, 8.715921477172776, 8.564614810813387, 4.676682664311764, 3.4625332454055773, 6.888722777167263, 11.46552889282042, 2.582821717296431, 8.765237669574551, 2.7461169745320455, 2.1354581574396665, 2.5872117314950893, 2.452141585488578, 2.111237248900153, 2.523029071213514, 2.9950477857768356, 10.238295588978842, 5.423703922101571], \"yaxis\": \"y\"}, {\"hoverlabel\": {\"namelength\": 0}, \"hovertemplate\": \"Pool=DAI<br>Week=%{x}<br>Deposit Interest Rate %=%{y}\", \"legendgroup\": \"Pool=DAI\", \"line\": {\"color\": \"#FF7F0E\", \"dash\": \"solid\", \"shape\": \"spline\", \"smoothing\": 0.7}, \"mode\": \"lines\", \"name\": \"Pool=DAI\", \"showlegend\": true, \"type\": \"scatter\", \"x\": [\"2021-02-22T00:00:00\", \"2021-03-01T00:00:00\", \"2021-03-08T00:00:00\", \"2021-03-15T00:00:00\", \"2021-03-22T00:00:00\", \"2021-03-29T00:00:00\", \"2021-04-05T00:00:00\", \"2021-04-12T00:00:00\", \"2021-04-19T00:00:00\", \"2021-04-26T00:00:00\", \"2021-05-03T00:00:00\", \"2021-05-10T00:00:00\", \"2021-05-17T00:00:00\", \"2021-05-24T00:00:00\", \"2021-05-31T00:00:00\", \"2021-06-07T00:00:00\", \"2021-06-14T00:00:00\", \"2021-06-21T00:00:00\", \"2021-06-28T00:00:00\", \"2021-07-05T00:00:00\", \"2021-07-12T00:00:00\", \"2021-07-19T00:00:00\", \"2021-07-26T00:00:00\", \"2021-08-02T00:00:00\", \"2021-08-09T00:00:00\", \"2021-08-16T00:00:00\"], \"xaxis\": \"x\", \"y\": [8.129971193229423, 8.056151889640978, 10.516097398351008, 10.5655563515239, 7.20048646571249, 8.803918324352136, 8.675018819648143, 9.904662926179798, 6.716439895083363, 7.641762760619549, 8.17666969277011, 10.130468163731313, 4.909823406027942, 3.043795849216303, 3.0890569007114137, 2.5846354860369396, 2.488938183666271, 2.348193496415684, 2.3378113489477705, 2.3466635101879763, 2.2260664666473264, 2.426528909532209, 2.655175686738497, 2.735734657391247, 2.8408981565120053, 3.2318942999150586], \"yaxis\": \"y\"}, {\"hoverlabel\": {\"namelength\": 0}, \"hovertemplate\": \"Pool=USDC<br>Week=%{x}<br>Deposit Interest Rate %=%{y}\", \"legendgroup\": \"Pool=USDC\", \"line\": {\"color\": \"#2CA02C\", \"dash\": \"solid\", \"shape\": \"spline\", \"smoothing\": 0.7}, \"mode\": \"lines\", \"name\": \"Pool=USDC\", \"showlegend\": true, \"type\": \"scatter\", \"x\": [\"2021-02-22T00:00:00\", \"2021-03-01T00:00:00\", \"2021-03-08T00:00:00\", \"2021-03-15T00:00:00\", \"2021-03-22T00:00:00\", \"2021-03-29T00:00:00\", \"2021-04-05T00:00:00\", \"2021-04-12T00:00:00\", \"2021-04-19T00:00:00\", \"2021-04-26T00:00:00\", \"2021-05-03T00:00:00\", \"2021-05-10T00:00:00\", \"2021-05-17T00:00:00\", \"2021-05-24T00:00:00\", \"2021-05-31T00:00:00\", \"2021-06-07T00:00:00\", \"2021-06-14T00:00:00\", \"2021-06-21T00:00:00\", \"2021-06-28T00:00:00\", \"2021-07-05T00:00:00\", \"2021-07-12T00:00:00\", \"2021-07-19T00:00:00\", \"2021-07-26T00:00:00\", \"2021-08-02T00:00:00\", \"2021-08-09T00:00:00\", \"2021-08-16T00:00:00\"], \"xaxis\": \"x\", \"y\": [7.389997677068627, 7.624918350839913, 13.999759500505737, 8.552062485560235, 6.718980437368102, 9.756128804673894, 10.381806141253756, 10.271088190798757, 6.893116558248622, 6.043518981281447, 9.30112291468938, 8.50593484839623, 3.9802224258944863, 2.298322301149651, 2.0550163350397397, 2.2447917747838773, 2.305812221028356, 2.0557190649974455, 2.06511190311177, 2.0244986205294144, 2.0946161417508167, 2.157335478394094, 2.2078015335201906, 2.3122766895219025, 2.7394140525681294, 3.9284684533816767], \"yaxis\": \"y\"}, {\"hoverlabel\": {\"namelength\": 0}, \"hovertemplate\": \"Pool=USDT<br>Week=%{x}<br>Deposit Interest Rate %=%{y}\", \"legendgroup\": \"Pool=USDT\", \"line\": {\"color\": \"#D62728\", \"dash\": \"solid\", \"shape\": \"spline\", \"smoothing\": 0.7}, \"mode\": \"lines\", \"name\": \"Pool=USDT\", \"showlegend\": true, \"type\": \"scatter\", \"x\": [\"2021-02-22T00:00:00\", \"2021-03-01T00:00:00\", \"2021-03-08T00:00:00\", \"2021-03-15T00:00:00\", \"2021-03-22T00:00:00\", \"2021-03-29T00:00:00\", \"2021-04-05T00:00:00\", \"2021-04-12T00:00:00\", \"2021-04-19T00:00:00\", \"2021-04-26T00:00:00\", \"2021-05-03T00:00:00\", \"2021-05-10T00:00:00\", \"2021-05-17T00:00:00\", \"2021-05-24T00:00:00\", \"2021-05-31T00:00:00\", \"2021-06-07T00:00:00\", \"2021-06-14T00:00:00\", \"2021-06-21T00:00:00\", \"2021-06-28T00:00:00\", \"2021-07-05T00:00:00\", \"2021-07-12T00:00:00\", \"2021-07-19T00:00:00\", \"2021-07-26T00:00:00\", \"2021-08-02T00:00:00\", \"2021-08-09T00:00:00\", \"2021-08-16T00:00:00\"], \"xaxis\": \"x\", \"y\": [9.083297460366255, 7.626872478386594, 8.943145128867352, 9.907082468239189, 6.666258206071278, 11.334527018862074, 8.33544576375022, 13.38797142340199, 8.33354082975566, 8.4586516703607, 9.124832089429471, 10.434989288452538, 9.37209446713835, 3.8727495329365627, 1.5378492667451327, 2.1039733306686355, 3.195415694699645, 2.654468706653689, 3.0367022224750055, 2.943504126468289, 2.7450630087958663, 2.2740788883034075, 3.315772114428852, 3.44386127691785, 7.286857593854025, 4.712315339788469], \"yaxis\": \"y\"}, {\"hoverlabel\": {\"namelength\": 0}, \"hovertemplate\": \"Pool=WETH<br>Week=%{x}<br>Deposit Interest Rate %=%{y}\", \"legendgroup\": \"Pool=WETH\", \"line\": {\"color\": \"#9467BD\", \"dash\": \"solid\", \"shape\": \"spline\", \"smoothing\": 0.7}, \"mode\": \"lines\", \"name\": \"Pool=WETH\", \"showlegend\": true, \"type\": \"scatter\", \"x\": [\"2021-02-22T00:00:00\", \"2021-03-01T00:00:00\", \"2021-03-08T00:00:00\", \"2021-03-15T00:00:00\", \"2021-03-22T00:00:00\", \"2021-03-29T00:00:00\", \"2021-04-05T00:00:00\", \"2021-04-12T00:00:00\", \"2021-04-19T00:00:00\", \"2021-04-26T00:00:00\", \"2021-05-03T00:00:00\", \"2021-05-10T00:00:00\", \"2021-05-17T00:00:00\", \"2021-05-24T00:00:00\", \"2021-05-31T00:00:00\", \"2021-06-07T00:00:00\", \"2021-06-14T00:00:00\", \"2021-06-21T00:00:00\", \"2021-06-28T00:00:00\", \"2021-07-05T00:00:00\", \"2021-07-12T00:00:00\", \"2021-07-19T00:00:00\", \"2021-07-26T00:00:00\", \"2021-08-02T00:00:00\", \"2021-08-09T00:00:00\", \"2021-08-16T00:00:00\"], \"xaxis\": \"x\", \"y\": [0.21634039703186309, 0.16886018976697326, 0.1394125497485007, 0.5179013752217316, 0.2035847166114583, 0.13878983537677295, 0.23038788164777926, 0.16312483197112118, 0.17975198200870002, 0.0607033090465965, 0.033308644120182924, 0.020107037784513556, 0.020848650030315545, 0.02269077942651345, 0.06572373991282814, 0.060554338924569684, 0.08435063884642796, 0.11223143580004075, 0.04995284454654881, 0.039546085542967846, 0.027168819280262234, 0.021802669187790846, 0.02251130191798052, 0.025967411359213304, 0.027407397098704652, 0.02461246625772285], \"yaxis\": \"y\"}],\n",
              "                        {\"height\": 494.4375772558714, \"legend\": {\"tracegroupgap\": 0, \"x\": 0.99, \"xanchor\": \"right\", \"y\": 0.99, \"yanchor\": \"top\"}, \"template\": {\"data\": {\"bar\": [{\"error_x\": {\"color\": \"rgb(36,36,36)\"}, \"error_y\": {\"color\": \"rgb(36,36,36)\"}, \"marker\": {\"line\": {\"color\": \"white\", \"width\": 0.5}}, \"type\": \"bar\"}], \"barpolar\": [{\"marker\": {\"line\": {\"color\": \"white\", \"width\": 0.5}}, \"type\": \"barpolar\"}], \"carpet\": [{\"aaxis\": {\"endlinecolor\": \"rgb(36,36,36)\", \"gridcolor\": \"white\", \"linecolor\": \"white\", \"minorgridcolor\": \"white\", \"startlinecolor\": \"rgb(36,36,36)\"}, \"baxis\": {\"endlinecolor\": \"rgb(36,36,36)\", \"gridcolor\": \"white\", \"linecolor\": \"white\", \"minorgridcolor\": \"white\", \"startlinecolor\": \"rgb(36,36,36)\"}, \"type\": \"carpet\"}], \"choropleth\": [{\"colorbar\": {\"outlinewidth\": 10, \"tickcolor\": \"rgb(36,36,36)\", \"ticklen\": 8, \"ticks\": \"outside\", \"tickwidth\": 2}, \"type\": \"choropleth\"}], \"contour\": [{\"colorbar\": {\"outlinewidth\": 10, \"tickcolor\": \"rgb(36,36,36)\", \"ticklen\": 8, \"ticks\": \"outside\", \"tickwidth\": 2}, \"colorscale\": [[0.0, \"#440154\"], [0.1111111111111111, \"#482878\"], [0.2222222222222222, \"#3e4989\"], [0.3333333333333333, \"#31688e\"], [0.4444444444444444, \"#26828e\"], [0.5555555555555556, \"#1f9e89\"], [0.6666666666666666, \"#35b779\"], [0.7777777777777778, \"#6ece58\"], [0.8888888888888888, \"#b5de2b\"], [1.0, \"#fde725\"]], \"type\": \"contour\"}], \"contourcarpet\": [{\"colorbar\": {\"outlinewidth\": 10, \"tickcolor\": \"rgb(36,36,36)\", \"ticklen\": 8, \"ticks\": \"outside\", \"tickwidth\": 2}, \"type\": \"contourcarpet\"}], \"heatmap\": [{\"colorbar\": {\"outlinewidth\": 10, \"tickcolor\": \"rgb(36,36,36)\", \"ticklen\": 8, \"ticks\": \"outside\", \"tickwidth\": 2}, \"colorscale\": [[0.0, \"#440154\"], [0.1111111111111111, \"#482878\"], [0.2222222222222222, \"#3e4989\"], [0.3333333333333333, \"#31688e\"], [0.4444444444444444, \"#26828e\"], [0.5555555555555556, \"#1f9e89\"], [0.6666666666666666, \"#35b779\"], [0.7777777777777778, \"#6ece58\"], [0.8888888888888888, \"#b5de2b\"], [1.0, \"#fde725\"]], \"type\": \"heatmap\"}], \"heatmapgl\": [{\"colorbar\": {\"outlinewidth\": 10, \"tickcolor\": \"rgb(36,36,36)\", \"ticklen\": 8, \"ticks\": \"outside\", \"tickwidth\": 2}, \"colorscale\": [[0.0, \"#440154\"], [0.1111111111111111, \"#482878\"], [0.2222222222222222, \"#3e4989\"], [0.3333333333333333, \"#31688e\"], [0.4444444444444444, \"#26828e\"], [0.5555555555555556, \"#1f9e89\"], [0.6666666666666666, \"#35b779\"], [0.7777777777777778, \"#6ece58\"], [0.8888888888888888, \"#b5de2b\"], [1.0, \"#fde725\"]], \"type\": \"heatmapgl\"}], \"histogram\": [{\"marker\": {\"line\": {\"color\": \"white\", \"width\": 0.6}}, \"type\": \"histogram\"}], \"histogram2d\": [{\"colorbar\": {\"outlinewidth\": 10, \"tickcolor\": \"rgb(36,36,36)\", \"ticklen\": 8, \"ticks\": \"outside\", \"tickwidth\": 2}, \"colorscale\": [[0.0, \"#440154\"], [0.1111111111111111, \"#482878\"], [0.2222222222222222, \"#3e4989\"], [0.3333333333333333, \"#31688e\"], [0.4444444444444444, \"#26828e\"], [0.5555555555555556, \"#1f9e89\"], [0.6666666666666666, \"#35b779\"], [0.7777777777777778, \"#6ece58\"], [0.8888888888888888, \"#b5de2b\"], [1.0, \"#fde725\"]], \"type\": \"histogram2d\"}], \"histogram2dcontour\": [{\"colorbar\": {\"outlinewidth\": 10, \"tickcolor\": \"rgb(36,36,36)\", \"ticklen\": 8, \"ticks\": \"outside\", \"tickwidth\": 2}, \"colorscale\": [[0.0, \"#440154\"], [0.1111111111111111, \"#482878\"], [0.2222222222222222, \"#3e4989\"], [0.3333333333333333, \"#31688e\"], [0.4444444444444444, \"#26828e\"], [0.5555555555555556, \"#1f9e89\"], [0.6666666666666666, \"#35b779\"], [0.7777777777777778, \"#6ece58\"], [0.8888888888888888, \"#b5de2b\"], [1.0, \"#fde725\"]], \"type\": \"histogram2dcontour\"}], \"mesh3d\": [{\"colorbar\": {\"outlinewidth\": 10, \"tickcolor\": \"rgb(36,36,36)\", \"ticklen\": 8, \"ticks\": \"outside\", \"tickwidth\": 2}, \"type\": \"mesh3d\"}], \"parcoords\": [{\"line\": {\"colorbar\": {\"outlinewidth\": 10, \"tickcolor\": \"rgb(36,36,36)\", \"ticklen\": 8, \"ticks\": \"outside\", \"tickwidth\": 2}}, \"type\": \"parcoords\"}], \"pie\": [{\"automargin\": true, \"type\": \"pie\"}], \"scatter\": [{\"marker\": {\"colorbar\": {\"outlinewidth\": 10, \"tickcolor\": \"rgb(36,36,36)\", \"ticklen\": 8, \"ticks\": \"outside\", \"tickwidth\": 2}}, \"type\": \"scatter\"}], \"scatter3d\": [{\"line\": {\"colorbar\": {\"outlinewidth\": 10, \"tickcolor\": \"rgb(36,36,36)\", \"ticklen\": 8, \"ticks\": \"outside\", \"tickwidth\": 2}}, \"marker\": {\"colorbar\": {\"outlinewidth\": 10, \"tickcolor\": \"rgb(36,36,36)\", \"ticklen\": 8, \"ticks\": \"outside\", \"tickwidth\": 2}}, \"type\": \"scatter3d\"}], \"scattercarpet\": [{\"marker\": {\"colorbar\": {\"outlinewidth\": 10, \"tickcolor\": \"rgb(36,36,36)\", \"ticklen\": 8, \"ticks\": \"outside\", \"tickwidth\": 2}}, \"type\": \"scattercarpet\"}], \"scattergeo\": [{\"marker\": {\"colorbar\": {\"outlinewidth\": 10, \"tickcolor\": \"rgb(36,36,36)\", \"ticklen\": 8, \"ticks\": \"outside\", \"tickwidth\": 2}}, \"type\": \"scattergeo\"}], \"scattergl\": [{\"marker\": {\"colorbar\": {\"outlinewidth\": 10, \"tickcolor\": \"rgb(36,36,36)\", \"ticklen\": 8, \"ticks\": \"outside\", \"tickwidth\": 2}}, \"type\": \"scattergl\"}], \"scattermapbox\": [{\"marker\": {\"colorbar\": {\"outlinewidth\": 10, \"tickcolor\": \"rgb(36,36,36)\", \"ticklen\": 8, \"ticks\": \"outside\", \"tickwidth\": 2}}, \"type\": \"scattermapbox\"}], \"scatterpolar\": [{\"marker\": {\"colorbar\": {\"outlinewidth\": 10, \"tickcolor\": \"rgb(36,36,36)\", \"ticklen\": 8, \"ticks\": \"outside\", \"tickwidth\": 2}}, \"type\": \"scatterpolar\"}], \"scatterpolargl\": [{\"marker\": {\"colorbar\": {\"outlinewidth\": 10, \"tickcolor\": \"rgb(36,36,36)\", \"ticklen\": 8, \"ticks\": \"outside\", \"tickwidth\": 2}}, \"type\": \"scatterpolargl\"}], \"scatterternary\": [{\"marker\": {\"colorbar\": {\"outlinewidth\": 10, \"tickcolor\": \"rgb(36,36,36)\", \"ticklen\": 8, \"ticks\": \"outside\", \"tickwidth\": 2}}, \"type\": \"scatterternary\"}], \"surface\": [{\"colorbar\": {\"outlinewidth\": 10, \"tickcolor\": \"rgb(36,36,36)\", \"ticklen\": 8, \"ticks\": \"outside\", \"tickwidth\": 2}, \"colorscale\": [[0.0, \"#440154\"], [0.1111111111111111, \"#482878\"], [0.2222222222222222, \"#3e4989\"], [0.3333333333333333, \"#31688e\"], [0.4444444444444444, \"#26828e\"], [0.5555555555555556, \"#1f9e89\"], [0.6666666666666666, \"#35b779\"], [0.7777777777777778, \"#6ece58\"], [0.8888888888888888, \"#b5de2b\"], [1.0, \"#fde725\"]], \"type\": \"surface\"}], \"table\": [{\"cells\": {\"fill\": {\"color\": \"rgb(237,237,237)\"}, \"line\": {\"color\": \"white\"}}, \"header\": {\"fill\": {\"color\": \"rgb(217,217,217)\"}, \"line\": {\"color\": \"white\"}}, \"type\": \"table\"}]}, \"layout\": {\"annotationdefaults\": {\"arrowhead\": 0, \"arrowwidth\": 1}, \"coloraxis\": {\"colorbar\": {\"outlinewidth\": 10, \"tickcolor\": \"rgb(36,36,36)\", \"ticklen\": 8, \"ticks\": \"outside\", \"tickwidth\": 2}}, \"colorscale\": {\"diverging\": [[0.0, \"rgb(103,0,31)\"], [0.1, \"rgb(178,24,43)\"], [0.2, \"rgb(214,96,77)\"], [0.3, \"rgb(244,165,130)\"], [0.4, \"rgb(253,219,199)\"], [0.5, \"rgb(247,247,247)\"], [0.6, \"rgb(209,229,240)\"], [0.7, \"rgb(146,197,222)\"], [0.8, \"rgb(67,147,195)\"], [0.9, \"rgb(33,102,172)\"], [1.0, \"rgb(5,48,97)\"]], \"sequential\": [[0.0, \"#440154\"], [0.1111111111111111, \"#482878\"], [0.2222222222222222, \"#3e4989\"], [0.3333333333333333, \"#31688e\"], [0.4444444444444444, \"#26828e\"], [0.5555555555555556, \"#1f9e89\"], [0.6666666666666666, \"#35b779\"], [0.7777777777777778, \"#6ece58\"], [0.8888888888888888, \"#b5de2b\"], [1.0, \"#fde725\"]], \"sequentialminus\": [[0.0, \"#440154\"], [0.1111111111111111, \"#482878\"], [0.2222222222222222, \"#3e4989\"], [0.3333333333333333, \"#31688e\"], [0.4444444444444444, \"#26828e\"], [0.5555555555555556, \"#1f9e89\"], [0.6666666666666666, \"#35b779\"], [0.7777777777777778, \"#6ece58\"], [0.8888888888888888, \"#b5de2b\"], [1.0, \"#fde725\"]]}, \"colorway\": [\"#1F77B4\", \"#FF7F0E\", \"#2CA02C\", \"#D62728\", \"#9467BD\", \"#8C564B\", \"#E377C2\", \"#7F7F7F\", \"#BCBD22\", \"#17BECF\"], \"font\": {\"color\": \"rgb(36,36,36)\"}, \"geo\": {\"bgcolor\": \"white\", \"lakecolor\": \"white\", \"landcolor\": \"white\", \"showlakes\": true, \"showland\": true, \"subunitcolor\": \"white\"}, \"hoverlabel\": {\"align\": \"left\"}, \"hovermode\": \"closest\", \"mapbox\": {\"style\": \"light\"}, \"paper_bgcolor\": \"white\", \"plot_bgcolor\": \"white\", \"polar\": {\"angularaxis\": {\"gridcolor\": \"rgb(232,232,232)\", \"linecolor\": \"rgb(36,36,36)\", \"showgrid\": false, \"showline\": true, \"ticks\": \"outside\"}, \"bgcolor\": \"white\", \"radialaxis\": {\"gridcolor\": \"rgb(232,232,232)\", \"linecolor\": \"rgb(36,36,36)\", \"showgrid\": false, \"showline\": true, \"ticks\": \"outside\"}}, \"scene\": {\"xaxis\": {\"backgroundcolor\": \"white\", \"gridcolor\": \"rgb(232,232,232)\", \"gridwidth\": 2, \"linecolor\": \"rgb(36,36,36)\", \"showbackground\": true, \"showgrid\": false, \"showline\": true, \"ticks\": \"outside\", \"zeroline\": false, \"zerolinecolor\": \"rgb(36,36,36)\"}, \"yaxis\": {\"backgroundcolor\": \"white\", \"gridcolor\": \"rgb(232,232,232)\", \"gridwidth\": 2, \"linecolor\": \"rgb(36,36,36)\", \"showbackground\": true, \"showgrid\": false, \"showline\": true, \"ticks\": \"outside\", \"zeroline\": false, \"zerolinecolor\": \"rgb(36,36,36)\"}, \"zaxis\": {\"backgroundcolor\": \"white\", \"gridcolor\": \"rgb(232,232,232)\", \"gridwidth\": 2, \"linecolor\": \"rgb(36,36,36)\", \"showbackground\": true, \"showgrid\": false, \"showline\": true, \"ticks\": \"outside\", \"zeroline\": false, \"zerolinecolor\": \"rgb(36,36,36)\"}}, \"shapedefaults\": {\"fillcolor\": \"black\", \"line\": {\"width\": 0}, \"opacity\": 0.3}, \"ternary\": {\"aaxis\": {\"gridcolor\": \"rgb(232,232,232)\", \"linecolor\": \"rgb(36,36,36)\", \"showgrid\": false, \"showline\": true, \"ticks\": \"outside\"}, \"baxis\": {\"gridcolor\": \"rgb(232,232,232)\", \"linecolor\": \"rgb(36,36,36)\", \"showgrid\": false, \"showline\": true, \"ticks\": \"outside\"}, \"bgcolor\": \"white\", \"caxis\": {\"gridcolor\": \"rgb(232,232,232)\", \"linecolor\": \"rgb(36,36,36)\", \"showgrid\": false, \"showline\": true, \"ticks\": \"outside\"}}, \"title\": {\"x\": 0.05}, \"xaxis\": {\"automargin\": true, \"gridcolor\": \"rgb(232,232,232)\", \"linecolor\": \"rgb(36,36,36)\", \"showgrid\": false, \"showline\": true, \"ticks\": \"outside\", \"title\": {\"standoff\": 15}, \"zeroline\": false, \"zerolinecolor\": \"rgb(36,36,36)\"}, \"yaxis\": {\"automargin\": true, \"gridcolor\": \"rgb(232,232,232)\", \"linecolor\": \"rgb(36,36,36)\", \"showgrid\": false, \"showline\": true, \"ticks\": \"outside\", \"title\": {\"standoff\": 15}, \"zeroline\": false, \"zerolinecolor\": \"rgb(36,36,36)\"}}}, \"title\": {\"text\": \"Top 5 Pools by Total Fees - Deposit Interest Rate\"}, \"width\": 800, \"xaxis\": {\"anchor\": \"y\", \"domain\": [0.0, 1.0], \"title\": {\"text\": \"Week\"}}, \"yaxis\": {\"anchor\": \"x\", \"domain\": [0.0, 1.0], \"title\": {\"text\": \"Deposit Interest Rate %\"}}},\n",
              "                        {\"responsive\": true}\n",
              "                    ).then(function(){\n",
              "                            \n",
              "var gd = document.getElementById('ee5f7b13-7f6f-46e1-97c6-77cd2bc1402d');\n",
              "var x = new MutationObserver(function (mutations, observer) {{\n",
              "        var display = window.getComputedStyle(gd).display;\n",
              "        if (!display || display === 'none') {{\n",
              "            console.log([gd, 'removed!']);\n",
              "            Plotly.purge(gd);\n",
              "            observer.disconnect();\n",
              "        }}\n",
              "}});\n",
              "\n",
              "// Listen for the removal of the full notebook cells\n",
              "var notebookContainer = gd.closest('#notebook-container');\n",
              "if (notebookContainer) {{\n",
              "    x.observe(notebookContainer, {childList: true});\n",
              "}}\n",
              "\n",
              "// Listen for the clearing of the current output cell\n",
              "var outputEl = gd.closest('.output');\n",
              "if (outputEl) {{\n",
              "    x.observe(outputEl, {childList: true});\n",
              "}}\n",
              "\n",
              "                        })\n",
              "                };\n",
              "                \n",
              "            </script>\n",
              "        </div>\n",
              "</body>\n",
              "</html>"
            ]
          },
          "metadata": {}
        }
      ]
    },
    {
      "cell_type": "markdown",
      "metadata": {
        "id": "x4yTs_8mD2qy"
      },
      "source": [
        "## Pool Utilisation Rate\n",
        "\n",
        "We discussed the impact of pool utilisation rate on deposit interest rate.  Below is the graph of this in action, and it helps to explain the observations in the interest rate chart above.  Firstly we see that WETH has a very low utilisation rate.  Currently less than 5% of the pool is loaned out, and it reached a high of only 20%.  It seems like people don't want to borrow ETH - this makes sense as stablecoin yields in farms are usually much higher than volatile assets.\n",
        "\n",
        "BUSD is the other interesting character.  You'll remember the spikes in deposit rate above - these coincide with the times when BUSD utilisation rate creeps up to and above 80%.  From the [Aave docs](https://docs.aave.com/risk/liquidity-risk/borrow-interest-rate), we see that the inflection point for the BUSD rate curve is 80%, and the ramp up rate above 80% is much higher than USDC, USDT or DAI - BUSD at 100% versus the others at 60% and 75%.  These parameters make BUSD interest rates respond much more aggressively when utilisation rates rise, compared with the other stablecoins.  This is an important factor in how BUSD, a relatively minor stablecoin with low total liquidity, is in the top 5 fee generators on Aave."
      ]
    },
    {
      "cell_type": "code",
      "metadata": {
        "id": "bGov9hlNWD_y",
        "colab": {
          "base_uri": "https://localhost:8080/",
          "height": 512
        },
        "outputId": "eb486acc-68fe-411b-b8dc-092e7e6a3760"
      },
      "source": [
        "#@title\n",
        "#Plot Util by pool\n",
        "df_p = %R df %>% filter(total_fee_rank <= 5) %>% arrange(week, reserve_name)\n",
        "\n",
        "fig = px.line(df_p, x=\"week\", y=\"utilization_rate\", color='reserve_name',\n",
        "              template=\"simple_white\", width=800, height=800/1.618, \n",
        "              title= 'Top 5 Pools by Total Fees - Utilisation Rate',\n",
        "              labels=dict(week=\"Week\", utilization_rate=\"Utilisation Rate\", reserve_name=\"Pool\"))\n",
        "#fig.update_yaxes(autorange=\"reversed\")\n",
        "#fig.update_traces(mode=\"lines+markers\")\n",
        "fig.update_yaxes(tick0=10, dtick=10)\n",
        "fig.update_traces(line_shape = \"spline\", line_smoothing=.7, selector=dict(type='scatter'))\n",
        "fig.update_layout(legend=dict(\n",
        "    yanchor=\"top\",\n",
        "    y=0.5,\n",
        "    xanchor=\"right\",\n",
        "    x=0.99\n",
        "))\n",
        "fig.show()"
      ],
      "execution_count": 7,
      "outputs": [
        {
          "output_type": "display_data",
          "data": {
            "text/html": [
              "<html>\n",
              "<head><meta charset=\"utf-8\" /></head>\n",
              "<body>\n",
              "    <div>\n",
              "            <script src=\"https://cdnjs.cloudflare.com/ajax/libs/mathjax/2.7.5/MathJax.js?config=TeX-AMS-MML_SVG\"></script><script type=\"text/javascript\">if (window.MathJax) {MathJax.Hub.Config({SVG: {font: \"STIX-Web\"}});}</script>\n",
              "                <script type=\"text/javascript\">window.PlotlyConfig = {MathJaxConfig: 'local'};</script>\n",
              "        <script src=\"https://cdn.plot.ly/plotly-latest.min.js\"></script>    \n",
              "            <div id=\"346f678d-062f-4502-a902-49c7d7aed1ed\" class=\"plotly-graph-div\" style=\"height:494.4375772558714px; width:800px;\"></div>\n",
              "            <script type=\"text/javascript\">\n",
              "                \n",
              "                    window.PLOTLYENV=window.PLOTLYENV || {};\n",
              "                    \n",
              "                if (document.getElementById(\"346f678d-062f-4502-a902-49c7d7aed1ed\")) {\n",
              "                    Plotly.newPlot(\n",
              "                        '346f678d-062f-4502-a902-49c7d7aed1ed',\n",
              "                        [{\"hoverlabel\": {\"namelength\": 0}, \"hovertemplate\": \"Pool=BUSD<br>Week=%{x}<br>Utilisation Rate=%{y}\", \"legendgroup\": \"Pool=BUSD\", \"line\": {\"color\": \"#1F77B4\", \"dash\": \"solid\", \"shape\": \"spline\", \"smoothing\": 0.7}, \"mode\": \"lines\", \"name\": \"Pool=BUSD\", \"showlegend\": true, \"type\": \"scatter\", \"x\": [\"2021-02-22T00:00:00\", \"2021-03-01T00:00:00\", \"2021-03-08T00:00:00\", \"2021-03-15T00:00:00\", \"2021-03-22T00:00:00\", \"2021-03-29T00:00:00\", \"2021-04-05T00:00:00\", \"2021-04-12T00:00:00\", \"2021-04-19T00:00:00\", \"2021-04-26T00:00:00\", \"2021-05-03T00:00:00\", \"2021-05-10T00:00:00\", \"2021-05-17T00:00:00\", \"2021-05-24T00:00:00\", \"2021-05-31T00:00:00\", \"2021-06-07T00:00:00\", \"2021-06-14T00:00:00\", \"2021-06-21T00:00:00\", \"2021-06-28T00:00:00\", \"2021-07-05T00:00:00\", \"2021-07-12T00:00:00\", \"2021-07-19T00:00:00\", \"2021-07-26T00:00:00\", \"2021-08-02T00:00:00\", \"2021-08-09T00:00:00\", \"2021-08-16T00:00:00\"], \"xaxis\": \"x\", \"y\": [79.14250952380952, 80.1728511904762, 83.80935952380952, 82.00064702380952, 71.97183511904763, 70.98877976190477, 82.46357023809523, 81.51583690476191, 79.86397916666667, 81.2184619047619, 80.98642916666667, 73.58034523809523, 74.56545, 75.92108273809524, 81.30863154761904, 75.61614702380952, 81.09085476190478, 71.328675, 68.75000718562873, 75.72501964285715, 73.73059636363637, 68.27655416666667, 74.41433452380952, 62.93143282442748, 63.071398809523814, 74.30063550724637], \"yaxis\": \"y\"}, {\"hoverlabel\": {\"namelength\": 0}, \"hovertemplate\": \"Pool=DAI<br>Week=%{x}<br>Utilisation Rate=%{y}\", \"legendgroup\": \"Pool=DAI\", \"line\": {\"color\": \"#FF7F0E\", \"dash\": \"solid\", \"shape\": \"spline\", \"smoothing\": 0.7}, \"mode\": \"lines\", \"name\": \"Pool=DAI\", \"showlegend\": true, \"type\": \"scatter\", \"x\": [\"2021-02-22T00:00:00\", \"2021-03-01T00:00:00\", \"2021-03-08T00:00:00\", \"2021-03-15T00:00:00\", \"2021-03-22T00:00:00\", \"2021-03-29T00:00:00\", \"2021-04-05T00:00:00\", \"2021-04-12T00:00:00\", \"2021-04-19T00:00:00\", \"2021-04-26T00:00:00\", \"2021-05-03T00:00:00\", \"2021-05-10T00:00:00\", \"2021-05-17T00:00:00\", \"2021-05-24T00:00:00\", \"2021-05-31T00:00:00\", \"2021-06-07T00:00:00\", \"2021-06-14T00:00:00\", \"2021-06-21T00:00:00\", \"2021-06-28T00:00:00\", \"2021-07-05T00:00:00\", \"2021-07-12T00:00:00\", \"2021-07-19T00:00:00\", \"2021-07-26T00:00:00\", \"2021-08-02T00:00:00\", \"2021-08-09T00:00:00\", \"2021-08-16T00:00:00\"], \"xaxis\": \"x\", \"y\": [81.18361666666667, 80.87426904761905, 84.41887380952382, 84.4657386904762, 80.70669345238095, 82.24489047619046, 82.08183988095237, 82.75394523809523, 79.79934702380953, 81.26443273809524, 81.62361011904761, 82.51234999999998, 80.0251107142857, 78.79372083333332, 78.99271845238096, 74.59126428571429, 73.35732976190477, 71.44760416666666, 71.34414790419163, 71.28849821428572, 69.27734909090908, 72.56955238095239, 76.05438392857144, 77.3067304964539, 78.78237857142858, 79.66916811594203], \"yaxis\": \"y\"}, {\"hoverlabel\": {\"namelength\": 0}, \"hovertemplate\": \"Pool=USDC<br>Week=%{x}<br>Utilisation Rate=%{y}\", \"legendgroup\": \"Pool=USDC\", \"line\": {\"color\": \"#2CA02C\", \"dash\": \"solid\", \"shape\": \"spline\", \"smoothing\": 0.7}, \"mode\": \"lines\", \"name\": \"Pool=USDC\", \"showlegend\": true, \"type\": \"scatter\", \"x\": [\"2021-02-22T00:00:00\", \"2021-03-01T00:00:00\", \"2021-03-08T00:00:00\", \"2021-03-15T00:00:00\", \"2021-03-22T00:00:00\", \"2021-03-29T00:00:00\", \"2021-04-05T00:00:00\", \"2021-04-12T00:00:00\", \"2021-04-19T00:00:00\", \"2021-04-26T00:00:00\", \"2021-05-03T00:00:00\", \"2021-05-10T00:00:00\", \"2021-05-17T00:00:00\", \"2021-05-24T00:00:00\", \"2021-05-31T00:00:00\", \"2021-06-07T00:00:00\", \"2021-06-14T00:00:00\", \"2021-06-21T00:00:00\", \"2021-06-28T00:00:00\", \"2021-07-05T00:00:00\", \"2021-07-12T00:00:00\", \"2021-07-19T00:00:00\", \"2021-07-26T00:00:00\", \"2021-08-02T00:00:00\", \"2021-08-09T00:00:00\", \"2021-08-16T00:00:00\"], \"xaxis\": \"x\", \"y\": [88.33259345238095, 88.55527023809525, 93.34818392857143, 90.4597744047619, 88.10955059523809, 91.41191964285714, 91.86260238095238, 91.49738749999999, 88.11625238095237, 90.0452744047619, 91.06123154761904, 90.93540535714286, 86.0214113095238, 73.77804166666667, 70.1235017857143, 73.6685375, 74.89260892857142, 70.5919011904762, 70.73149101796406, 70.02135, 71.41268060606062, 72.82507023809524, 73.60744464285715, 75.25548368794325, 81.79722023809524, 88.28990507246377], \"yaxis\": \"y\"}, {\"hoverlabel\": {\"namelength\": 0}, \"hovertemplate\": \"Pool=USDT<br>Week=%{x}<br>Utilisation Rate=%{y}\", \"legendgroup\": \"Pool=USDT\", \"line\": {\"color\": \"#D62728\", \"dash\": \"solid\", \"shape\": \"spline\", \"smoothing\": 0.7}, \"mode\": \"lines\", \"name\": \"Pool=USDT\", \"showlegend\": true, \"type\": \"scatter\", \"x\": [\"2021-02-22T00:00:00\", \"2021-03-01T00:00:00\", \"2021-03-08T00:00:00\", \"2021-03-15T00:00:00\", \"2021-03-22T00:00:00\", \"2021-03-29T00:00:00\", \"2021-04-05T00:00:00\", \"2021-04-12T00:00:00\", \"2021-04-19T00:00:00\", \"2021-04-26T00:00:00\", \"2021-05-03T00:00:00\", \"2021-05-10T00:00:00\", \"2021-05-17T00:00:00\", \"2021-05-24T00:00:00\", \"2021-05-31T00:00:00\", \"2021-06-07T00:00:00\", \"2021-06-14T00:00:00\", \"2021-06-21T00:00:00\", \"2021-06-28T00:00:00\", \"2021-07-05T00:00:00\", \"2021-07-12T00:00:00\", \"2021-07-19T00:00:00\", \"2021-07-26T00:00:00\", \"2021-08-02T00:00:00\", \"2021-08-09T00:00:00\", \"2021-08-16T00:00:00\"], \"xaxis\": \"x\", \"y\": [89.06452142857142, 87.97619345238094, 90.71841666666666, 91.3182863095238, 87.05800714285714, 91.69317738095238, 90.14644047619048, 93.11965, 89.44725, 89.64661488095238, 90.7753886904762, 90.84912142857142, 87.11911309523809, 73.5315261904762, 58.738931547619046, 69.12567083333334, 83.57139285714284, 79.62989642857143, 85.40175868263474, 84.30614107142857, 81.35329878787878, 74.0118375, 82.37646964285715, 83.06257163120567, 86.5250488095238, 85.39256231884058], \"yaxis\": \"y\"}, {\"hoverlabel\": {\"namelength\": 0}, \"hovertemplate\": \"Pool=WETH<br>Week=%{x}<br>Utilisation Rate=%{y}\", \"legendgroup\": \"Pool=WETH\", \"line\": {\"color\": \"#9467BD\", \"dash\": \"solid\", \"shape\": \"spline\", \"smoothing\": 0.7}, \"mode\": \"lines\", \"name\": \"Pool=WETH\", \"showlegend\": true, \"type\": \"scatter\", \"x\": [\"2021-02-22T00:00:00\", \"2021-03-01T00:00:00\", \"2021-03-08T00:00:00\", \"2021-03-15T00:00:00\", \"2021-03-22T00:00:00\", \"2021-03-29T00:00:00\", \"2021-04-05T00:00:00\", \"2021-04-12T00:00:00\", \"2021-04-19T00:00:00\", \"2021-04-26T00:00:00\", \"2021-05-03T00:00:00\", \"2021-05-10T00:00:00\", \"2021-05-17T00:00:00\", \"2021-05-24T00:00:00\", \"2021-05-31T00:00:00\", \"2021-06-07T00:00:00\", \"2021-06-14T00:00:00\", \"2021-06-21T00:00:00\", \"2021-06-28T00:00:00\", \"2021-07-05T00:00:00\", \"2021-07-12T00:00:00\", \"2021-07-19T00:00:00\", \"2021-07-26T00:00:00\", \"2021-08-02T00:00:00\", \"2021-08-09T00:00:00\", \"2021-08-16T00:00:00\"], \"xaxis\": \"x\", \"y\": [13.315254166666668, 11.61223988095238, 9.085490476190476, 21.27385654761905, 12.542892857142856, 10.540811904761904, 13.812417857142856, 11.422082738095238, 12.166648809523808, 6.686224404761905, 4.812414880952381, 3.889826785714286, 3.897832142857143, 4.102991071428571, 7.102289880952381, 7.141342857142857, 8.209831547619048, 9.790032142857145, 6.5928479041916175, 5.779681547619048, 4.755747272727272, 4.294880952380952, 4.3606815476190475, 4.698664444444445, 4.823208928571429, 4.548832608695652], \"yaxis\": \"y\"}],\n",
              "                        {\"height\": 494.4375772558714, \"legend\": {\"tracegroupgap\": 0, \"x\": 0.99, \"xanchor\": \"right\", \"y\": 0.5, \"yanchor\": \"top\"}, \"template\": {\"data\": {\"bar\": [{\"error_x\": {\"color\": \"rgb(36,36,36)\"}, \"error_y\": {\"color\": \"rgb(36,36,36)\"}, \"marker\": {\"line\": {\"color\": \"white\", \"width\": 0.5}}, \"type\": \"bar\"}], \"barpolar\": [{\"marker\": {\"line\": {\"color\": \"white\", \"width\": 0.5}}, \"type\": \"barpolar\"}], \"carpet\": [{\"aaxis\": {\"endlinecolor\": \"rgb(36,36,36)\", \"gridcolor\": \"white\", \"linecolor\": \"white\", \"minorgridcolor\": \"white\", \"startlinecolor\": \"rgb(36,36,36)\"}, \"baxis\": {\"endlinecolor\": \"rgb(36,36,36)\", \"gridcolor\": \"white\", \"linecolor\": \"white\", \"minorgridcolor\": \"white\", \"startlinecolor\": \"rgb(36,36,36)\"}, \"type\": \"carpet\"}], \"choropleth\": [{\"colorbar\": {\"outlinewidth\": 10, \"tickcolor\": \"rgb(36,36,36)\", \"ticklen\": 8, \"ticks\": \"outside\", \"tickwidth\": 2}, \"type\": \"choropleth\"}], \"contour\": [{\"colorbar\": {\"outlinewidth\": 10, \"tickcolor\": \"rgb(36,36,36)\", \"ticklen\": 8, \"ticks\": \"outside\", \"tickwidth\": 2}, \"colorscale\": [[0.0, \"#440154\"], [0.1111111111111111, \"#482878\"], [0.2222222222222222, \"#3e4989\"], [0.3333333333333333, \"#31688e\"], [0.4444444444444444, \"#26828e\"], [0.5555555555555556, \"#1f9e89\"], [0.6666666666666666, \"#35b779\"], [0.7777777777777778, \"#6ece58\"], [0.8888888888888888, \"#b5de2b\"], [1.0, \"#fde725\"]], \"type\": \"contour\"}], \"contourcarpet\": [{\"colorbar\": {\"outlinewidth\": 10, \"tickcolor\": \"rgb(36,36,36)\", \"ticklen\": 8, \"ticks\": \"outside\", \"tickwidth\": 2}, \"type\": \"contourcarpet\"}], \"heatmap\": [{\"colorbar\": {\"outlinewidth\": 10, \"tickcolor\": \"rgb(36,36,36)\", \"ticklen\": 8, \"ticks\": \"outside\", \"tickwidth\": 2}, \"colorscale\": [[0.0, \"#440154\"], [0.1111111111111111, \"#482878\"], [0.2222222222222222, \"#3e4989\"], [0.3333333333333333, \"#31688e\"], [0.4444444444444444, \"#26828e\"], [0.5555555555555556, \"#1f9e89\"], [0.6666666666666666, \"#35b779\"], [0.7777777777777778, \"#6ece58\"], [0.8888888888888888, \"#b5de2b\"], [1.0, \"#fde725\"]], \"type\": \"heatmap\"}], \"heatmapgl\": [{\"colorbar\": {\"outlinewidth\": 10, \"tickcolor\": \"rgb(36,36,36)\", \"ticklen\": 8, \"ticks\": \"outside\", \"tickwidth\": 2}, \"colorscale\": [[0.0, \"#440154\"], [0.1111111111111111, \"#482878\"], [0.2222222222222222, \"#3e4989\"], [0.3333333333333333, \"#31688e\"], [0.4444444444444444, \"#26828e\"], [0.5555555555555556, \"#1f9e89\"], [0.6666666666666666, \"#35b779\"], [0.7777777777777778, \"#6ece58\"], [0.8888888888888888, \"#b5de2b\"], [1.0, \"#fde725\"]], \"type\": \"heatmapgl\"}], \"histogram\": [{\"marker\": {\"line\": {\"color\": \"white\", \"width\": 0.6}}, \"type\": \"histogram\"}], \"histogram2d\": [{\"colorbar\": {\"outlinewidth\": 10, \"tickcolor\": \"rgb(36,36,36)\", \"ticklen\": 8, \"ticks\": \"outside\", \"tickwidth\": 2}, \"colorscale\": [[0.0, \"#440154\"], [0.1111111111111111, \"#482878\"], [0.2222222222222222, \"#3e4989\"], [0.3333333333333333, \"#31688e\"], [0.4444444444444444, \"#26828e\"], [0.5555555555555556, \"#1f9e89\"], [0.6666666666666666, \"#35b779\"], [0.7777777777777778, \"#6ece58\"], [0.8888888888888888, \"#b5de2b\"], [1.0, \"#fde725\"]], \"type\": \"histogram2d\"}], \"histogram2dcontour\": [{\"colorbar\": {\"outlinewidth\": 10, \"tickcolor\": \"rgb(36,36,36)\", \"ticklen\": 8, \"ticks\": \"outside\", \"tickwidth\": 2}, \"colorscale\": [[0.0, \"#440154\"], [0.1111111111111111, \"#482878\"], [0.2222222222222222, \"#3e4989\"], [0.3333333333333333, \"#31688e\"], [0.4444444444444444, \"#26828e\"], [0.5555555555555556, \"#1f9e89\"], [0.6666666666666666, \"#35b779\"], [0.7777777777777778, \"#6ece58\"], [0.8888888888888888, \"#b5de2b\"], [1.0, \"#fde725\"]], \"type\": \"histogram2dcontour\"}], \"mesh3d\": [{\"colorbar\": {\"outlinewidth\": 10, \"tickcolor\": \"rgb(36,36,36)\", \"ticklen\": 8, \"ticks\": \"outside\", \"tickwidth\": 2}, \"type\": \"mesh3d\"}], \"parcoords\": [{\"line\": {\"colorbar\": {\"outlinewidth\": 10, \"tickcolor\": \"rgb(36,36,36)\", \"ticklen\": 8, \"ticks\": \"outside\", \"tickwidth\": 2}}, \"type\": \"parcoords\"}], \"pie\": [{\"automargin\": true, \"type\": \"pie\"}], \"scatter\": [{\"marker\": {\"colorbar\": {\"outlinewidth\": 10, \"tickcolor\": \"rgb(36,36,36)\", \"ticklen\": 8, \"ticks\": \"outside\", \"tickwidth\": 2}}, \"type\": \"scatter\"}], \"scatter3d\": [{\"line\": {\"colorbar\": {\"outlinewidth\": 10, \"tickcolor\": \"rgb(36,36,36)\", \"ticklen\": 8, \"ticks\": \"outside\", \"tickwidth\": 2}}, \"marker\": {\"colorbar\": {\"outlinewidth\": 10, \"tickcolor\": \"rgb(36,36,36)\", \"ticklen\": 8, \"ticks\": \"outside\", \"tickwidth\": 2}}, \"type\": \"scatter3d\"}], \"scattercarpet\": [{\"marker\": {\"colorbar\": {\"outlinewidth\": 10, \"tickcolor\": \"rgb(36,36,36)\", \"ticklen\": 8, \"ticks\": \"outside\", \"tickwidth\": 2}}, \"type\": \"scattercarpet\"}], \"scattergeo\": [{\"marker\": {\"colorbar\": {\"outlinewidth\": 10, \"tickcolor\": \"rgb(36,36,36)\", \"ticklen\": 8, \"ticks\": \"outside\", \"tickwidth\": 2}}, \"type\": \"scattergeo\"}], \"scattergl\": [{\"marker\": {\"colorbar\": {\"outlinewidth\": 10, \"tickcolor\": \"rgb(36,36,36)\", \"ticklen\": 8, \"ticks\": \"outside\", \"tickwidth\": 2}}, \"type\": \"scattergl\"}], \"scattermapbox\": [{\"marker\": {\"colorbar\": {\"outlinewidth\": 10, \"tickcolor\": \"rgb(36,36,36)\", \"ticklen\": 8, \"ticks\": \"outside\", \"tickwidth\": 2}}, \"type\": \"scattermapbox\"}], \"scatterpolar\": [{\"marker\": {\"colorbar\": {\"outlinewidth\": 10, \"tickcolor\": \"rgb(36,36,36)\", \"ticklen\": 8, \"ticks\": \"outside\", \"tickwidth\": 2}}, \"type\": \"scatterpolar\"}], \"scatterpolargl\": [{\"marker\": {\"colorbar\": {\"outlinewidth\": 10, \"tickcolor\": \"rgb(36,36,36)\", \"ticklen\": 8, \"ticks\": \"outside\", \"tickwidth\": 2}}, \"type\": \"scatterpolargl\"}], \"scatterternary\": [{\"marker\": {\"colorbar\": {\"outlinewidth\": 10, \"tickcolor\": \"rgb(36,36,36)\", \"ticklen\": 8, \"ticks\": \"outside\", \"tickwidth\": 2}}, \"type\": \"scatterternary\"}], \"surface\": [{\"colorbar\": {\"outlinewidth\": 10, \"tickcolor\": \"rgb(36,36,36)\", \"ticklen\": 8, \"ticks\": \"outside\", \"tickwidth\": 2}, \"colorscale\": [[0.0, \"#440154\"], [0.1111111111111111, \"#482878\"], [0.2222222222222222, \"#3e4989\"], [0.3333333333333333, \"#31688e\"], [0.4444444444444444, \"#26828e\"], [0.5555555555555556, \"#1f9e89\"], [0.6666666666666666, \"#35b779\"], [0.7777777777777778, \"#6ece58\"], [0.8888888888888888, \"#b5de2b\"], [1.0, \"#fde725\"]], \"type\": \"surface\"}], \"table\": [{\"cells\": {\"fill\": {\"color\": \"rgb(237,237,237)\"}, \"line\": {\"color\": \"white\"}}, \"header\": {\"fill\": {\"color\": \"rgb(217,217,217)\"}, \"line\": {\"color\": \"white\"}}, \"type\": \"table\"}]}, \"layout\": {\"annotationdefaults\": {\"arrowhead\": 0, \"arrowwidth\": 1}, \"coloraxis\": {\"colorbar\": {\"outlinewidth\": 10, \"tickcolor\": \"rgb(36,36,36)\", \"ticklen\": 8, \"ticks\": \"outside\", \"tickwidth\": 2}}, \"colorscale\": {\"diverging\": [[0.0, \"rgb(103,0,31)\"], [0.1, \"rgb(178,24,43)\"], [0.2, \"rgb(214,96,77)\"], [0.3, \"rgb(244,165,130)\"], [0.4, \"rgb(253,219,199)\"], [0.5, \"rgb(247,247,247)\"], [0.6, \"rgb(209,229,240)\"], [0.7, \"rgb(146,197,222)\"], [0.8, \"rgb(67,147,195)\"], [0.9, \"rgb(33,102,172)\"], [1.0, \"rgb(5,48,97)\"]], \"sequential\": [[0.0, \"#440154\"], [0.1111111111111111, \"#482878\"], [0.2222222222222222, \"#3e4989\"], [0.3333333333333333, \"#31688e\"], [0.4444444444444444, \"#26828e\"], [0.5555555555555556, \"#1f9e89\"], [0.6666666666666666, \"#35b779\"], [0.7777777777777778, \"#6ece58\"], [0.8888888888888888, \"#b5de2b\"], [1.0, \"#fde725\"]], \"sequentialminus\": [[0.0, \"#440154\"], [0.1111111111111111, \"#482878\"], [0.2222222222222222, \"#3e4989\"], [0.3333333333333333, \"#31688e\"], [0.4444444444444444, \"#26828e\"], [0.5555555555555556, \"#1f9e89\"], [0.6666666666666666, \"#35b779\"], [0.7777777777777778, \"#6ece58\"], [0.8888888888888888, \"#b5de2b\"], [1.0, \"#fde725\"]]}, \"colorway\": [\"#1F77B4\", \"#FF7F0E\", \"#2CA02C\", \"#D62728\", \"#9467BD\", \"#8C564B\", \"#E377C2\", \"#7F7F7F\", \"#BCBD22\", \"#17BECF\"], \"font\": {\"color\": \"rgb(36,36,36)\"}, \"geo\": {\"bgcolor\": \"white\", \"lakecolor\": \"white\", \"landcolor\": \"white\", \"showlakes\": true, \"showland\": true, \"subunitcolor\": \"white\"}, \"hoverlabel\": {\"align\": \"left\"}, \"hovermode\": \"closest\", \"mapbox\": {\"style\": \"light\"}, \"paper_bgcolor\": \"white\", \"plot_bgcolor\": \"white\", \"polar\": {\"angularaxis\": {\"gridcolor\": \"rgb(232,232,232)\", \"linecolor\": \"rgb(36,36,36)\", \"showgrid\": false, \"showline\": true, \"ticks\": \"outside\"}, \"bgcolor\": \"white\", \"radialaxis\": {\"gridcolor\": \"rgb(232,232,232)\", \"linecolor\": \"rgb(36,36,36)\", \"showgrid\": false, \"showline\": true, \"ticks\": \"outside\"}}, \"scene\": {\"xaxis\": {\"backgroundcolor\": \"white\", \"gridcolor\": \"rgb(232,232,232)\", \"gridwidth\": 2, \"linecolor\": \"rgb(36,36,36)\", \"showbackground\": true, \"showgrid\": false, \"showline\": true, \"ticks\": \"outside\", \"zeroline\": false, \"zerolinecolor\": \"rgb(36,36,36)\"}, \"yaxis\": {\"backgroundcolor\": \"white\", \"gridcolor\": \"rgb(232,232,232)\", \"gridwidth\": 2, \"linecolor\": \"rgb(36,36,36)\", \"showbackground\": true, \"showgrid\": false, \"showline\": true, \"ticks\": \"outside\", \"zeroline\": false, \"zerolinecolor\": \"rgb(36,36,36)\"}, \"zaxis\": {\"backgroundcolor\": \"white\", \"gridcolor\": \"rgb(232,232,232)\", \"gridwidth\": 2, \"linecolor\": \"rgb(36,36,36)\", \"showbackground\": true, \"showgrid\": false, \"showline\": true, \"ticks\": \"outside\", \"zeroline\": false, \"zerolinecolor\": \"rgb(36,36,36)\"}}, \"shapedefaults\": {\"fillcolor\": \"black\", \"line\": {\"width\": 0}, \"opacity\": 0.3}, \"ternary\": {\"aaxis\": {\"gridcolor\": \"rgb(232,232,232)\", \"linecolor\": \"rgb(36,36,36)\", \"showgrid\": false, \"showline\": true, \"ticks\": \"outside\"}, \"baxis\": {\"gridcolor\": \"rgb(232,232,232)\", \"linecolor\": \"rgb(36,36,36)\", \"showgrid\": false, \"showline\": true, \"ticks\": \"outside\"}, \"bgcolor\": \"white\", \"caxis\": {\"gridcolor\": \"rgb(232,232,232)\", \"linecolor\": \"rgb(36,36,36)\", \"showgrid\": false, \"showline\": true, \"ticks\": \"outside\"}}, \"title\": {\"x\": 0.05}, \"xaxis\": {\"automargin\": true, \"gridcolor\": \"rgb(232,232,232)\", \"linecolor\": \"rgb(36,36,36)\", \"showgrid\": false, \"showline\": true, \"ticks\": \"outside\", \"title\": {\"standoff\": 15}, \"zeroline\": false, \"zerolinecolor\": \"rgb(36,36,36)\"}, \"yaxis\": {\"automargin\": true, \"gridcolor\": \"rgb(232,232,232)\", \"linecolor\": \"rgb(36,36,36)\", \"showgrid\": false, \"showline\": true, \"ticks\": \"outside\", \"title\": {\"standoff\": 15}, \"zeroline\": false, \"zerolinecolor\": \"rgb(36,36,36)\"}}}, \"title\": {\"text\": \"Top 5 Pools by Total Fees - Utilisation Rate\"}, \"width\": 800, \"xaxis\": {\"anchor\": \"y\", \"domain\": [0.0, 1.0], \"title\": {\"text\": \"Week\"}}, \"yaxis\": {\"anchor\": \"x\", \"domain\": [0.0, 1.0], \"dtick\": 10, \"tick0\": 10, \"title\": {\"text\": \"Utilisation Rate\"}}},\n",
              "                        {\"responsive\": true}\n",
              "                    ).then(function(){\n",
              "                            \n",
              "var gd = document.getElementById('346f678d-062f-4502-a902-49c7d7aed1ed');\n",
              "var x = new MutationObserver(function (mutations, observer) {{\n",
              "        var display = window.getComputedStyle(gd).display;\n",
              "        if (!display || display === 'none') {{\n",
              "            console.log([gd, 'removed!']);\n",
              "            Plotly.purge(gd);\n",
              "            observer.disconnect();\n",
              "        }}\n",
              "}});\n",
              "\n",
              "// Listen for the removal of the full notebook cells\n",
              "var notebookContainer = gd.closest('#notebook-container');\n",
              "if (notebookContainer) {{\n",
              "    x.observe(notebookContainer, {childList: true});\n",
              "}}\n",
              "\n",
              "// Listen for the clearing of the current output cell\n",
              "var outputEl = gd.closest('.output');\n",
              "if (outputEl) {{\n",
              "    x.observe(outputEl, {childList: true});\n",
              "}}\n",
              "\n",
              "                        })\n",
              "                };\n",
              "                \n",
              "            </script>\n",
              "        </div>\n",
              "</body>\n",
              "</html>"
            ]
          },
          "metadata": {}
        }
      ]
    },
    {
      "cell_type": "markdown",
      "metadata": {
        "id": "fBP6mD2LHjnq"
      },
      "source": [
        "## Pool Liquidity\n",
        "\n",
        "The fees received by a pool are both a function of the interest rate and the total deposited liquidity in the pool.  The graph below shows the total pool liquidity for the 5 pools in our study.  Here we see why USDC is the dominant fee collecting pool on Aave.  It currently holds nearly USD 6b of liquidity, more than triple its closest stablecoin rival. It has consistently held more liquidity than the other stablecoins.  As shown above, the interest rate for USDC is comparable to the other stablecoins, hence the main driver for USDC being in the number 1 position on the fee leaderboard is the size of the pool.\n",
        "\n",
        "We also get to see the impact of interest rate on returns.  WETH only came in at number 4 on the leaderboard, but below we can see it has as much liquidity as USDC.  The low returns on WETH deposited (driven by the low utilisation rate) means that total fees generated by this pool are much lower."
      ]
    },
    {
      "cell_type": "code",
      "metadata": {
        "id": "Hj2j0Bf8V1fB",
        "colab": {
          "base_uri": "https://localhost:8080/",
          "height": 512
        },
        "outputId": "09915643-c71f-401d-a8bf-4ae3616de235"
      },
      "source": [
        "#@title\n",
        "#Plot liquidity by pool\n",
        "df_p = %R df %>% filter(total_fee_rank <= 5) %>% arrange(week, reserve_name)\n",
        "\n",
        "fig = px.line(df_p, x=\"week\", y=\"total_liquidity_usd\", color='reserve_name',\n",
        "              template=\"simple_white\", width=800, height=800/1.618, \n",
        "              title= 'Top 5 Pools by Total Fees - Pool Liquidity',\n",
        "              labels=dict(week=\"Week\", total_liquidity_usd=\"Liquidity USD\", reserve_name=\"Pool\"))\n",
        "#fig.update_yaxes(autorange=\"reversed\")\n",
        "#fig.update_traces(mode=\"lines+markers\")\n",
        "#fig.update_yaxes(tick0=1, dtick=1)\n",
        "fig.update_traces(line_shape = \"spline\", line_smoothing=.7, selector=dict(type='scatter'))\n",
        "fig.update_layout(legend=dict(\n",
        "    yanchor=\"top\",\n",
        "    y=0.99,\n",
        "    xanchor=\"left\",\n",
        "    x=0.01\n",
        "))\n",
        "fig.show()"
      ],
      "execution_count": 8,
      "outputs": [
        {
          "output_type": "display_data",
          "data": {
            "text/html": [
              "<html>\n",
              "<head><meta charset=\"utf-8\" /></head>\n",
              "<body>\n",
              "    <div>\n",
              "            <script src=\"https://cdnjs.cloudflare.com/ajax/libs/mathjax/2.7.5/MathJax.js?config=TeX-AMS-MML_SVG\"></script><script type=\"text/javascript\">if (window.MathJax) {MathJax.Hub.Config({SVG: {font: \"STIX-Web\"}});}</script>\n",
              "                <script type=\"text/javascript\">window.PlotlyConfig = {MathJaxConfig: 'local'};</script>\n",
              "        <script src=\"https://cdn.plot.ly/plotly-latest.min.js\"></script>    \n",
              "            <div id=\"53fba08f-9453-46d8-a39f-faac0c71141d\" class=\"plotly-graph-div\" style=\"height:494.4375772558714px; width:800px;\"></div>\n",
              "            <script type=\"text/javascript\">\n",
              "                \n",
              "                    window.PLOTLYENV=window.PLOTLYENV || {};\n",
              "                    \n",
              "                if (document.getElementById(\"53fba08f-9453-46d8-a39f-faac0c71141d\")) {\n",
              "                    Plotly.newPlot(\n",
              "                        '53fba08f-9453-46d8-a39f-faac0c71141d',\n",
              "                        [{\"hoverlabel\": {\"namelength\": 0}, \"hovertemplate\": \"Pool=BUSD<br>Week=%{x}<br>Liquidity USD=%{y}\", \"legendgroup\": \"Pool=BUSD\", \"line\": {\"color\": \"#1F77B4\", \"dash\": \"solid\", \"shape\": \"spline\", \"smoothing\": 0.7}, \"mode\": \"lines\", \"name\": \"Pool=BUSD\", \"showlegend\": true, \"type\": \"scatter\", \"x\": [\"2021-02-22T00:00:00\", \"2021-03-01T00:00:00\", \"2021-03-08T00:00:00\", \"2021-03-15T00:00:00\", \"2021-03-22T00:00:00\", \"2021-03-29T00:00:00\", \"2021-04-05T00:00:00\", \"2021-04-12T00:00:00\", \"2021-04-19T00:00:00\", \"2021-04-26T00:00:00\", \"2021-05-03T00:00:00\", \"2021-05-10T00:00:00\", \"2021-05-17T00:00:00\", \"2021-05-24T00:00:00\", \"2021-05-31T00:00:00\", \"2021-06-07T00:00:00\", \"2021-06-14T00:00:00\", \"2021-06-21T00:00:00\", \"2021-06-28T00:00:00\", \"2021-07-05T00:00:00\", \"2021-07-12T00:00:00\", \"2021-07-19T00:00:00\", \"2021-07-26T00:00:00\", \"2021-08-02T00:00:00\", \"2021-08-09T00:00:00\", \"2021-08-16T00:00:00\"], \"xaxis\": \"x\", \"y\": [11861540.300196806, 12272468.467149742, 14260484.580339864, 15371293.780012438, 17948743.78114026, 31261496.185610276, 20996753.395702463, 24757828.749411575, 25433854.628986318, 25063932.09609415, 23559394.070335776, 26858328.079333574, 23860427.542063586, 15648940.405760651, 13226854.347497622, 12980854.94302849, 12584949.999324502, 12226437.888598263, 11792013.922662072, 11011013.685018703, 11067991.824603833, 11041533.015925622, 9768965.217758251, 15054822.091487935, 20220155.179146174, 11910898.374227365], \"yaxis\": \"y\"}, {\"hoverlabel\": {\"namelength\": 0}, \"hovertemplate\": \"Pool=DAI<br>Week=%{x}<br>Liquidity USD=%{y}\", \"legendgroup\": \"Pool=DAI\", \"line\": {\"color\": \"#FF7F0E\", \"dash\": \"solid\", \"shape\": \"spline\", \"smoothing\": 0.7}, \"mode\": \"lines\", \"name\": \"Pool=DAI\", \"showlegend\": true, \"type\": \"scatter\", \"x\": [\"2021-02-22T00:00:00\", \"2021-03-01T00:00:00\", \"2021-03-08T00:00:00\", \"2021-03-15T00:00:00\", \"2021-03-22T00:00:00\", \"2021-03-29T00:00:00\", \"2021-04-05T00:00:00\", \"2021-04-12T00:00:00\", \"2021-04-19T00:00:00\", \"2021-04-26T00:00:00\", \"2021-05-03T00:00:00\", \"2021-05-10T00:00:00\", \"2021-05-17T00:00:00\", \"2021-05-24T00:00:00\", \"2021-05-31T00:00:00\", \"2021-06-07T00:00:00\", \"2021-06-14T00:00:00\", \"2021-06-21T00:00:00\", \"2021-06-28T00:00:00\", \"2021-07-05T00:00:00\", \"2021-07-12T00:00:00\", \"2021-07-19T00:00:00\", \"2021-07-26T00:00:00\", \"2021-08-02T00:00:00\", \"2021-08-09T00:00:00\", \"2021-08-16T00:00:00\"], \"xaxis\": \"x\", \"y\": [97131278.26461227, 99802642.7115876, 104956636.12011483, 108627932.02457757, 108050865.07512715, 115805090.16980478, 127407992.23073982, 143566528.60722727, 157848199.79074454, 507729920.7804303, 713906571.4931225, 844830596.5446781, 1178932470.8629057, 1075003757.531712, 1253532849.6861253, 1423568541.545744, 1617251502.8848245, 1634914916.9845319, 1647689327.6190138, 1326513986.9884145, 1263849372.24779, 1328003701.8303883, 1373725388.6982415, 1545510560.3988056, 1614359936.995296, 1685218218.1232471], \"yaxis\": \"y\"}, {\"hoverlabel\": {\"namelength\": 0}, \"hovertemplate\": \"Pool=USDC<br>Week=%{x}<br>Liquidity USD=%{y}\", \"legendgroup\": \"Pool=USDC\", \"line\": {\"color\": \"#2CA02C\", \"dash\": \"solid\", \"shape\": \"spline\", \"smoothing\": 0.7}, \"mode\": \"lines\", \"name\": \"Pool=USDC\", \"showlegend\": true, \"type\": \"scatter\", \"x\": [\"2021-02-22T00:00:00\", \"2021-03-01T00:00:00\", \"2021-03-08T00:00:00\", \"2021-03-15T00:00:00\", \"2021-03-22T00:00:00\", \"2021-03-29T00:00:00\", \"2021-04-05T00:00:00\", \"2021-04-12T00:00:00\", \"2021-04-19T00:00:00\", \"2021-04-26T00:00:00\", \"2021-05-03T00:00:00\", \"2021-05-10T00:00:00\", \"2021-05-17T00:00:00\", \"2021-05-24T00:00:00\", \"2021-05-31T00:00:00\", \"2021-06-07T00:00:00\", \"2021-06-14T00:00:00\", \"2021-06-21T00:00:00\", \"2021-06-28T00:00:00\", \"2021-07-05T00:00:00\", \"2021-07-12T00:00:00\", \"2021-07-19T00:00:00\", \"2021-07-26T00:00:00\", \"2021-08-02T00:00:00\", \"2021-08-09T00:00:00\", \"2021-08-16T00:00:00\"], \"xaxis\": \"x\", \"y\": [226237003.08485803, 260842867.73060626, 254710487.28593004, 297302599.13563687, 335749217.0689415, 352073686.07503426, 341908501.61236626, 355873790.67146194, 413111892.0394409, 1913313944.9396496, 2746147690.129861, 2917224012.2503805, 3092879916.5082855, 3400474779.333584, 4236217827.474397, 4354313411.060109, 4426797495.987472, 4395817462.269569, 3956182245.6226997, 3956696748.1083364, 4650313965.647305, 5563125811.0993595, 5573663140.622236, 5668427989.192446, 5858304368.671967, 5869160246.998107], \"yaxis\": \"y\"}, {\"hoverlabel\": {\"namelength\": 0}, \"hovertemplate\": \"Pool=USDT<br>Week=%{x}<br>Liquidity USD=%{y}\", \"legendgroup\": \"Pool=USDT\", \"line\": {\"color\": \"#D62728\", \"dash\": \"solid\", \"shape\": \"spline\", \"smoothing\": 0.7}, \"mode\": \"lines\", \"name\": \"Pool=USDT\", \"showlegend\": true, \"type\": \"scatter\", \"x\": [\"2021-02-22T00:00:00\", \"2021-03-01T00:00:00\", \"2021-03-08T00:00:00\", \"2021-03-15T00:00:00\", \"2021-03-22T00:00:00\", \"2021-03-29T00:00:00\", \"2021-04-05T00:00:00\", \"2021-04-12T00:00:00\", \"2021-04-19T00:00:00\", \"2021-04-26T00:00:00\", \"2021-05-03T00:00:00\", \"2021-05-10T00:00:00\", \"2021-05-17T00:00:00\", \"2021-05-24T00:00:00\", \"2021-05-31T00:00:00\", \"2021-06-07T00:00:00\", \"2021-06-14T00:00:00\", \"2021-06-21T00:00:00\", \"2021-06-28T00:00:00\", \"2021-07-05T00:00:00\", \"2021-07-12T00:00:00\", \"2021-07-19T00:00:00\", \"2021-07-26T00:00:00\", \"2021-08-02T00:00:00\", \"2021-08-09T00:00:00\", \"2021-08-16T00:00:00\"], \"xaxis\": \"x\", \"y\": [111702655.77190125, 120190678.59380329, 163801516.9572084, 189641206.58542052, 198889320.0253407, 206013642.7678189, 221532912.7271689, 226551162.82220513, 215875644.11333343, 554949073.6393106, 962721278.7779188, 1018001824.8959409, 798529230.223128, 705553906.7798944, 1160508432.6594598, 878603952.804184, 905811692.3283896, 932970057.959553, 945223139.7222917, 1000443059.9098531, 1060855088.1149187, 1122640271.4416926, 1188969983.389652, 1329301073.8037987, 1244134483.5667567, 1137368074.3540583], \"yaxis\": \"y\"}, {\"hoverlabel\": {\"namelength\": 0}, \"hovertemplate\": \"Pool=WETH<br>Week=%{x}<br>Liquidity USD=%{y}\", \"legendgroup\": \"Pool=WETH\", \"line\": {\"color\": \"#9467BD\", \"dash\": \"solid\", \"shape\": \"spline\", \"smoothing\": 0.7}, \"mode\": \"lines\", \"name\": \"Pool=WETH\", \"showlegend\": true, \"type\": \"scatter\", \"x\": [\"2021-02-22T00:00:00\", \"2021-03-01T00:00:00\", \"2021-03-08T00:00:00\", \"2021-03-15T00:00:00\", \"2021-03-22T00:00:00\", \"2021-03-29T00:00:00\", \"2021-04-05T00:00:00\", \"2021-04-12T00:00:00\", \"2021-04-19T00:00:00\", \"2021-04-26T00:00:00\", \"2021-05-03T00:00:00\", \"2021-05-10T00:00:00\", \"2021-05-17T00:00:00\", \"2021-05-24T00:00:00\", \"2021-05-31T00:00:00\", \"2021-06-07T00:00:00\", \"2021-06-14T00:00:00\", \"2021-06-21T00:00:00\", \"2021-06-28T00:00:00\", \"2021-07-05T00:00:00\", \"2021-07-12T00:00:00\", \"2021-07-19T00:00:00\", \"2021-07-26T00:00:00\", \"2021-08-02T00:00:00\", \"2021-08-09T00:00:00\", \"2021-08-16T00:00:00\"], \"xaxis\": \"x\", \"y\": [341657891.2093325, 382956775.6218117, 534219714.1246576, 581798785.2752243, 591892788.7302232, 729356764.9567095, 726713496.0487177, 823716154.5423857, 863306718.6642674, 1783579115.9200404, 2795371312.8830676, 3232987552.4200907, 2389778476.583168, 1842106115.6245713, 2601692171.4243665, 2761723144.431044, 2625186271.619713, 2297227241.966418, 2689832722.674631, 2788508352.7021494, 2889473076.7858586, 3512838892.210645, 4232457435.10538, 4970534246.37424, 5694229999.5524645, 5901248998.451204], \"yaxis\": \"y\"}],\n",
              "                        {\"height\": 494.4375772558714, \"legend\": {\"tracegroupgap\": 0, \"x\": 0.01, \"xanchor\": \"left\", \"y\": 0.99, \"yanchor\": \"top\"}, \"template\": {\"data\": {\"bar\": [{\"error_x\": {\"color\": \"rgb(36,36,36)\"}, \"error_y\": {\"color\": \"rgb(36,36,36)\"}, \"marker\": {\"line\": {\"color\": \"white\", \"width\": 0.5}}, \"type\": \"bar\"}], \"barpolar\": [{\"marker\": {\"line\": {\"color\": \"white\", \"width\": 0.5}}, \"type\": \"barpolar\"}], \"carpet\": [{\"aaxis\": {\"endlinecolor\": \"rgb(36,36,36)\", \"gridcolor\": \"white\", \"linecolor\": \"white\", \"minorgridcolor\": \"white\", \"startlinecolor\": \"rgb(36,36,36)\"}, \"baxis\": {\"endlinecolor\": \"rgb(36,36,36)\", \"gridcolor\": \"white\", \"linecolor\": \"white\", \"minorgridcolor\": \"white\", \"startlinecolor\": \"rgb(36,36,36)\"}, \"type\": \"carpet\"}], \"choropleth\": [{\"colorbar\": {\"outlinewidth\": 10, \"tickcolor\": \"rgb(36,36,36)\", \"ticklen\": 8, \"ticks\": \"outside\", \"tickwidth\": 2}, \"type\": \"choropleth\"}], \"contour\": [{\"colorbar\": {\"outlinewidth\": 10, \"tickcolor\": \"rgb(36,36,36)\", \"ticklen\": 8, \"ticks\": \"outside\", \"tickwidth\": 2}, \"colorscale\": [[0.0, \"#440154\"], [0.1111111111111111, \"#482878\"], [0.2222222222222222, \"#3e4989\"], [0.3333333333333333, \"#31688e\"], [0.4444444444444444, \"#26828e\"], [0.5555555555555556, \"#1f9e89\"], [0.6666666666666666, \"#35b779\"], [0.7777777777777778, \"#6ece58\"], [0.8888888888888888, \"#b5de2b\"], [1.0, \"#fde725\"]], \"type\": \"contour\"}], \"contourcarpet\": [{\"colorbar\": {\"outlinewidth\": 10, \"tickcolor\": \"rgb(36,36,36)\", \"ticklen\": 8, \"ticks\": \"outside\", \"tickwidth\": 2}, \"type\": \"contourcarpet\"}], \"heatmap\": [{\"colorbar\": {\"outlinewidth\": 10, \"tickcolor\": \"rgb(36,36,36)\", \"ticklen\": 8, \"ticks\": \"outside\", \"tickwidth\": 2}, \"colorscale\": [[0.0, \"#440154\"], [0.1111111111111111, \"#482878\"], [0.2222222222222222, \"#3e4989\"], [0.3333333333333333, \"#31688e\"], [0.4444444444444444, \"#26828e\"], [0.5555555555555556, \"#1f9e89\"], [0.6666666666666666, \"#35b779\"], [0.7777777777777778, \"#6ece58\"], [0.8888888888888888, \"#b5de2b\"], [1.0, \"#fde725\"]], \"type\": \"heatmap\"}], \"heatmapgl\": [{\"colorbar\": {\"outlinewidth\": 10, \"tickcolor\": \"rgb(36,36,36)\", \"ticklen\": 8, \"ticks\": \"outside\", \"tickwidth\": 2}, \"colorscale\": [[0.0, \"#440154\"], [0.1111111111111111, \"#482878\"], [0.2222222222222222, \"#3e4989\"], [0.3333333333333333, \"#31688e\"], [0.4444444444444444, \"#26828e\"], [0.5555555555555556, \"#1f9e89\"], [0.6666666666666666, \"#35b779\"], [0.7777777777777778, \"#6ece58\"], [0.8888888888888888, \"#b5de2b\"], [1.0, \"#fde725\"]], \"type\": \"heatmapgl\"}], \"histogram\": [{\"marker\": {\"line\": {\"color\": \"white\", \"width\": 0.6}}, \"type\": \"histogram\"}], \"histogram2d\": [{\"colorbar\": {\"outlinewidth\": 10, \"tickcolor\": \"rgb(36,36,36)\", \"ticklen\": 8, \"ticks\": \"outside\", \"tickwidth\": 2}, \"colorscale\": [[0.0, \"#440154\"], [0.1111111111111111, \"#482878\"], [0.2222222222222222, \"#3e4989\"], [0.3333333333333333, \"#31688e\"], [0.4444444444444444, \"#26828e\"], [0.5555555555555556, \"#1f9e89\"], [0.6666666666666666, \"#35b779\"], [0.7777777777777778, \"#6ece58\"], [0.8888888888888888, \"#b5de2b\"], [1.0, \"#fde725\"]], \"type\": \"histogram2d\"}], \"histogram2dcontour\": [{\"colorbar\": {\"outlinewidth\": 10, \"tickcolor\": \"rgb(36,36,36)\", \"ticklen\": 8, \"ticks\": \"outside\", \"tickwidth\": 2}, \"colorscale\": [[0.0, \"#440154\"], [0.1111111111111111, \"#482878\"], [0.2222222222222222, \"#3e4989\"], [0.3333333333333333, \"#31688e\"], [0.4444444444444444, \"#26828e\"], [0.5555555555555556, \"#1f9e89\"], [0.6666666666666666, \"#35b779\"], [0.7777777777777778, \"#6ece58\"], [0.8888888888888888, \"#b5de2b\"], [1.0, \"#fde725\"]], \"type\": \"histogram2dcontour\"}], \"mesh3d\": [{\"colorbar\": {\"outlinewidth\": 10, \"tickcolor\": \"rgb(36,36,36)\", \"ticklen\": 8, \"ticks\": \"outside\", \"tickwidth\": 2}, \"type\": \"mesh3d\"}], \"parcoords\": [{\"line\": {\"colorbar\": {\"outlinewidth\": 10, \"tickcolor\": \"rgb(36,36,36)\", \"ticklen\": 8, \"ticks\": \"outside\", \"tickwidth\": 2}}, \"type\": \"parcoords\"}], \"pie\": [{\"automargin\": true, \"type\": \"pie\"}], \"scatter\": [{\"marker\": {\"colorbar\": {\"outlinewidth\": 10, \"tickcolor\": \"rgb(36,36,36)\", \"ticklen\": 8, \"ticks\": \"outside\", \"tickwidth\": 2}}, \"type\": \"scatter\"}], \"scatter3d\": [{\"line\": {\"colorbar\": {\"outlinewidth\": 10, \"tickcolor\": \"rgb(36,36,36)\", \"ticklen\": 8, \"ticks\": \"outside\", \"tickwidth\": 2}}, \"marker\": {\"colorbar\": {\"outlinewidth\": 10, \"tickcolor\": \"rgb(36,36,36)\", \"ticklen\": 8, \"ticks\": \"outside\", \"tickwidth\": 2}}, \"type\": \"scatter3d\"}], \"scattercarpet\": [{\"marker\": {\"colorbar\": {\"outlinewidth\": 10, \"tickcolor\": \"rgb(36,36,36)\", \"ticklen\": 8, \"ticks\": \"outside\", \"tickwidth\": 2}}, \"type\": \"scattercarpet\"}], \"scattergeo\": [{\"marker\": {\"colorbar\": {\"outlinewidth\": 10, \"tickcolor\": \"rgb(36,36,36)\", \"ticklen\": 8, \"ticks\": \"outside\", \"tickwidth\": 2}}, \"type\": \"scattergeo\"}], \"scattergl\": [{\"marker\": {\"colorbar\": {\"outlinewidth\": 10, \"tickcolor\": \"rgb(36,36,36)\", \"ticklen\": 8, \"ticks\": \"outside\", \"tickwidth\": 2}}, \"type\": \"scattergl\"}], \"scattermapbox\": [{\"marker\": {\"colorbar\": {\"outlinewidth\": 10, \"tickcolor\": \"rgb(36,36,36)\", \"ticklen\": 8, \"ticks\": \"outside\", \"tickwidth\": 2}}, \"type\": \"scattermapbox\"}], \"scatterpolar\": [{\"marker\": {\"colorbar\": {\"outlinewidth\": 10, \"tickcolor\": \"rgb(36,36,36)\", \"ticklen\": 8, \"ticks\": \"outside\", \"tickwidth\": 2}}, \"type\": \"scatterpolar\"}], \"scatterpolargl\": [{\"marker\": {\"colorbar\": {\"outlinewidth\": 10, \"tickcolor\": \"rgb(36,36,36)\", \"ticklen\": 8, \"ticks\": \"outside\", \"tickwidth\": 2}}, \"type\": \"scatterpolargl\"}], \"scatterternary\": [{\"marker\": {\"colorbar\": {\"outlinewidth\": 10, \"tickcolor\": \"rgb(36,36,36)\", \"ticklen\": 8, \"ticks\": \"outside\", \"tickwidth\": 2}}, \"type\": \"scatterternary\"}], \"surface\": [{\"colorbar\": {\"outlinewidth\": 10, \"tickcolor\": \"rgb(36,36,36)\", \"ticklen\": 8, \"ticks\": \"outside\", \"tickwidth\": 2}, \"colorscale\": [[0.0, \"#440154\"], [0.1111111111111111, \"#482878\"], [0.2222222222222222, \"#3e4989\"], [0.3333333333333333, \"#31688e\"], [0.4444444444444444, \"#26828e\"], [0.5555555555555556, \"#1f9e89\"], [0.6666666666666666, \"#35b779\"], [0.7777777777777778, \"#6ece58\"], [0.8888888888888888, \"#b5de2b\"], [1.0, \"#fde725\"]], \"type\": \"surface\"}], \"table\": [{\"cells\": {\"fill\": {\"color\": \"rgb(237,237,237)\"}, \"line\": {\"color\": \"white\"}}, \"header\": {\"fill\": {\"color\": \"rgb(217,217,217)\"}, \"line\": {\"color\": \"white\"}}, \"type\": \"table\"}]}, \"layout\": {\"annotationdefaults\": {\"arrowhead\": 0, \"arrowwidth\": 1}, \"coloraxis\": {\"colorbar\": {\"outlinewidth\": 10, \"tickcolor\": \"rgb(36,36,36)\", \"ticklen\": 8, \"ticks\": \"outside\", \"tickwidth\": 2}}, \"colorscale\": {\"diverging\": [[0.0, \"rgb(103,0,31)\"], [0.1, \"rgb(178,24,43)\"], [0.2, \"rgb(214,96,77)\"], [0.3, \"rgb(244,165,130)\"], [0.4, \"rgb(253,219,199)\"], [0.5, \"rgb(247,247,247)\"], [0.6, \"rgb(209,229,240)\"], [0.7, \"rgb(146,197,222)\"], [0.8, \"rgb(67,147,195)\"], [0.9, \"rgb(33,102,172)\"], [1.0, \"rgb(5,48,97)\"]], \"sequential\": [[0.0, \"#440154\"], [0.1111111111111111, \"#482878\"], [0.2222222222222222, \"#3e4989\"], [0.3333333333333333, \"#31688e\"], [0.4444444444444444, \"#26828e\"], [0.5555555555555556, \"#1f9e89\"], [0.6666666666666666, \"#35b779\"], [0.7777777777777778, \"#6ece58\"], [0.8888888888888888, \"#b5de2b\"], [1.0, \"#fde725\"]], \"sequentialminus\": [[0.0, \"#440154\"], [0.1111111111111111, \"#482878\"], [0.2222222222222222, \"#3e4989\"], [0.3333333333333333, \"#31688e\"], [0.4444444444444444, \"#26828e\"], [0.5555555555555556, \"#1f9e89\"], [0.6666666666666666, \"#35b779\"], [0.7777777777777778, \"#6ece58\"], [0.8888888888888888, \"#b5de2b\"], [1.0, \"#fde725\"]]}, \"colorway\": [\"#1F77B4\", \"#FF7F0E\", \"#2CA02C\", \"#D62728\", \"#9467BD\", \"#8C564B\", \"#E377C2\", \"#7F7F7F\", \"#BCBD22\", \"#17BECF\"], \"font\": {\"color\": \"rgb(36,36,36)\"}, \"geo\": {\"bgcolor\": \"white\", \"lakecolor\": \"white\", \"landcolor\": \"white\", \"showlakes\": true, \"showland\": true, \"subunitcolor\": \"white\"}, \"hoverlabel\": {\"align\": \"left\"}, \"hovermode\": \"closest\", \"mapbox\": {\"style\": \"light\"}, \"paper_bgcolor\": \"white\", \"plot_bgcolor\": \"white\", \"polar\": {\"angularaxis\": {\"gridcolor\": \"rgb(232,232,232)\", \"linecolor\": \"rgb(36,36,36)\", \"showgrid\": false, \"showline\": true, \"ticks\": \"outside\"}, \"bgcolor\": \"white\", \"radialaxis\": {\"gridcolor\": \"rgb(232,232,232)\", \"linecolor\": \"rgb(36,36,36)\", \"showgrid\": false, \"showline\": true, \"ticks\": \"outside\"}}, \"scene\": {\"xaxis\": {\"backgroundcolor\": \"white\", \"gridcolor\": \"rgb(232,232,232)\", \"gridwidth\": 2, \"linecolor\": \"rgb(36,36,36)\", \"showbackground\": true, \"showgrid\": false, \"showline\": true, \"ticks\": \"outside\", \"zeroline\": false, \"zerolinecolor\": \"rgb(36,36,36)\"}, \"yaxis\": {\"backgroundcolor\": \"white\", \"gridcolor\": \"rgb(232,232,232)\", \"gridwidth\": 2, \"linecolor\": \"rgb(36,36,36)\", \"showbackground\": true, \"showgrid\": false, \"showline\": true, \"ticks\": \"outside\", \"zeroline\": false, \"zerolinecolor\": \"rgb(36,36,36)\"}, \"zaxis\": {\"backgroundcolor\": \"white\", \"gridcolor\": \"rgb(232,232,232)\", \"gridwidth\": 2, \"linecolor\": \"rgb(36,36,36)\", \"showbackground\": true, \"showgrid\": false, \"showline\": true, \"ticks\": \"outside\", \"zeroline\": false, \"zerolinecolor\": \"rgb(36,36,36)\"}}, \"shapedefaults\": {\"fillcolor\": \"black\", \"line\": {\"width\": 0}, \"opacity\": 0.3}, \"ternary\": {\"aaxis\": {\"gridcolor\": \"rgb(232,232,232)\", \"linecolor\": \"rgb(36,36,36)\", \"showgrid\": false, \"showline\": true, \"ticks\": \"outside\"}, \"baxis\": {\"gridcolor\": \"rgb(232,232,232)\", \"linecolor\": \"rgb(36,36,36)\", \"showgrid\": false, \"showline\": true, \"ticks\": \"outside\"}, \"bgcolor\": \"white\", \"caxis\": {\"gridcolor\": \"rgb(232,232,232)\", \"linecolor\": \"rgb(36,36,36)\", \"showgrid\": false, \"showline\": true, \"ticks\": \"outside\"}}, \"title\": {\"x\": 0.05}, \"xaxis\": {\"automargin\": true, \"gridcolor\": \"rgb(232,232,232)\", \"linecolor\": \"rgb(36,36,36)\", \"showgrid\": false, \"showline\": true, \"ticks\": \"outside\", \"title\": {\"standoff\": 15}, \"zeroline\": false, \"zerolinecolor\": \"rgb(36,36,36)\"}, \"yaxis\": {\"automargin\": true, \"gridcolor\": \"rgb(232,232,232)\", \"linecolor\": \"rgb(36,36,36)\", \"showgrid\": false, \"showline\": true, \"ticks\": \"outside\", \"title\": {\"standoff\": 15}, \"zeroline\": false, \"zerolinecolor\": \"rgb(36,36,36)\"}}}, \"title\": {\"text\": \"Top 5 Pools by Total Fees - Pool Liquidity\"}, \"width\": 800, \"xaxis\": {\"anchor\": \"y\", \"domain\": [0.0, 1.0], \"title\": {\"text\": \"Week\"}}, \"yaxis\": {\"anchor\": \"x\", \"domain\": [0.0, 1.0], \"title\": {\"text\": \"Liquidity USD\"}}},\n",
              "                        {\"responsive\": true}\n",
              "                    ).then(function(){\n",
              "                            \n",
              "var gd = document.getElementById('53fba08f-9453-46d8-a39f-faac0c71141d');\n",
              "var x = new MutationObserver(function (mutations, observer) {{\n",
              "        var display = window.getComputedStyle(gd).display;\n",
              "        if (!display || display === 'none') {{\n",
              "            console.log([gd, 'removed!']);\n",
              "            Plotly.purge(gd);\n",
              "            observer.disconnect();\n",
              "        }}\n",
              "}});\n",
              "\n",
              "// Listen for the removal of the full notebook cells\n",
              "var notebookContainer = gd.closest('#notebook-container');\n",
              "if (notebookContainer) {{\n",
              "    x.observe(notebookContainer, {childList: true});\n",
              "}}\n",
              "\n",
              "// Listen for the clearing of the current output cell\n",
              "var outputEl = gd.closest('.output');\n",
              "if (outputEl) {{\n",
              "    x.observe(outputEl, {childList: true});\n",
              "}}\n",
              "\n",
              "                        })\n",
              "                };\n",
              "                \n",
              "            </script>\n",
              "        </div>\n",
              "</body>\n",
              "</html>"
            ]
          },
          "metadata": {}
        }
      ]
    },
    {
      "cell_type": "markdown",
      "metadata": {
        "id": "32yxppv2F3r9"
      },
      "source": [
        "## Flashloan Fees\n",
        "\n",
        "Flashloans are a feature provided by Aave whereby users can take an uncollateralised loan, provided it is paid back within the same Ethereum block.  There is only a programmatic interface to the flashloan feature, so it tends to be used by other protocols or by advanced users such as bot developers.  Flashloans collect fees for the pool from where the funds are borrowed - 0.9% of the total borrowed) - which accrue to the depositors in the pool.\n",
        "\n",
        "The graph below shows the total fee income by week for the top 5 pools, split between interest and flashloan income.  For the stablecoin pools, flashloans are a relatively small portion of the total income - USDC is the only one with any discernable flashloan fees in a few weeks.  The WETH pool however is more interesting.  The big spike in fees in May 2021 was almost entirely due to flashloans.  This coincided with the crash in crypto asset prices, and was probably due to flashloans being used to liquidate insolvent positions in protocols such as Aave and Compound."
      ]
    },
    {
      "cell_type": "code",
      "metadata": {
        "colab": {
          "base_uri": "https://localhost:8080/",
          "height": 1000
        },
        "id": "bLjTEkFQqgsk",
        "cellView": "form",
        "outputId": "fcc1e7e0-7d51-4d16-83a1-7d0368b9a262"
      },
      "source": [
        "#@title\n",
        "#Stacked bar of fees split with interest & flashloan\n",
        "#Plot subplots of ytoken price & ROI\n",
        "df_p = %R df %>% filter(total_fee_rank <= 5) %>% arrange(week, reserve_name)\n",
        "\n",
        "names = %R rank_table %>% arrange(total_fee_rank) %>% head(5) %>% select(reserve_name)\n",
        "fig = make_subplots(rows=5, cols=1, subplot_titles=(names['reserve_name'].tolist()))\n",
        "fig.append_trace(go.Bar(x=df_p[df_p.total_fee_rank==1][\"week\"], y=df_p[df_p.total_fee_rank==1][\"interest_received_usd\"], name = \"Interest\"), row=1, col=1)\n",
        "fig.append_trace(go.Bar(x=df_p[df_p.total_fee_rank==1][\"week\"], y=df_p[df_p.total_fee_rank==1][\"flash_premium_usd\"], name = \"Flashloan Fees\"), row=1, col=1)\n",
        "fig.append_trace(go.Bar(x=df_p[df_p.total_fee_rank==2][\"week\"], y=df_p[df_p.total_fee_rank==2][\"interest_received_usd\"], name = \"Interest\"), row=2, col=1)\n",
        "fig.append_trace(go.Bar(x=df_p[df_p.total_fee_rank==2][\"week\"], y=df_p[df_p.total_fee_rank==2][\"flash_premium_usd\"], name = \"Flashloan Fees\"), row=2, col=1)\n",
        "fig.append_trace(go.Bar(x=df_p[df_p.total_fee_rank==3][\"week\"], y=df_p[df_p.total_fee_rank==3][\"interest_received_usd\"], name = \"Interest\"), row=3, col=1)\n",
        "fig.append_trace(go.Bar(x=df_p[df_p.total_fee_rank==3][\"week\"], y=df_p[df_p.total_fee_rank==3][\"flash_premium_usd\"], name = \"Flashloan Fees\"), row=3, col=1)\n",
        "fig.append_trace(go.Bar(x=df_p[df_p.total_fee_rank==4][\"week\"], y=df_p[df_p.total_fee_rank==4][\"interest_received_usd\"], name = \"Interest\"), row=4, col=1)\n",
        "fig.append_trace(go.Bar(x=df_p[df_p.total_fee_rank==4][\"week\"], y=df_p[df_p.total_fee_rank==4][\"flash_premium_usd\"], name = \"Flashloan Fees\"), row=4, col=1)\n",
        "fig.append_trace(go.Bar(x=df_p[df_p.total_fee_rank==5][\"week\"], y=df_p[df_p.total_fee_rank==5][\"interest_received_usd\"], name = \"Interest\"), row=5, col=1)\n",
        "fig.append_trace(go.Bar(x=df_p[df_p.total_fee_rank==5][\"week\"], y=df_p[df_p.total_fee_rank==5][\"flash_premium_usd\"], name = \"Flashloan Fees\"), row=5, col=1)\n",
        "#fig.append_trace(go.Scatter(x=df_p[\"date\"], y=df_p[\"vault_7day_ROI\"], name=\"ROI\"), row=2, col=1)\n",
        "fig.update_layout(width=800, height=1000, title_text=\"Fees Generated by Pool\")\n",
        "fig.update_layout(template=\"simple_white\", showlegend=False)\n",
        "fig.update_yaxes(title_text='Fees in USD')\n",
        "fig.update_layout(barmode='stack')\n",
        "#fig.update_yaxes(title_text='ROI % Annualised', row=2, col=1)\n",
        "fig.show()"
      ],
      "execution_count": 9,
      "outputs": [
        {
          "output_type": "display_data",
          "data": {
            "text/html": [
              "<html>\n",
              "<head><meta charset=\"utf-8\" /></head>\n",
              "<body>\n",
              "    <div>\n",
              "            <script src=\"https://cdnjs.cloudflare.com/ajax/libs/mathjax/2.7.5/MathJax.js?config=TeX-AMS-MML_SVG\"></script><script type=\"text/javascript\">if (window.MathJax) {MathJax.Hub.Config({SVG: {font: \"STIX-Web\"}});}</script>\n",
              "                <script type=\"text/javascript\">window.PlotlyConfig = {MathJaxConfig: 'local'};</script>\n",
              "        <script src=\"https://cdn.plot.ly/plotly-latest.min.js\"></script>    \n",
              "            <div id=\"f66fac5e-c92c-4e22-ab68-1ec9284fbb4e\" class=\"plotly-graph-div\" style=\"height:1000px; width:800px;\"></div>\n",
              "            <script type=\"text/javascript\">\n",
              "                \n",
              "                    window.PLOTLYENV=window.PLOTLYENV || {};\n",
              "                    \n",
              "                if (document.getElementById(\"f66fac5e-c92c-4e22-ab68-1ec9284fbb4e\")) {\n",
              "                    Plotly.newPlot(\n",
              "                        'f66fac5e-c92c-4e22-ab68-1ec9284fbb4e',\n",
              "                        [{\"name\": \"Interest\", \"type\": \"bar\", \"x\": [\"2021-02-22T00:00:00+00:00\", \"2021-03-01T00:00:00+00:00\", \"2021-03-08T00:00:00+00:00\", \"2021-03-15T00:00:00+00:00\", \"2021-03-22T00:00:00+00:00\", \"2021-03-29T00:00:00+00:00\", \"2021-04-05T00:00:00+00:00\", \"2021-04-12T00:00:00+00:00\", \"2021-04-19T00:00:00+00:00\", \"2021-04-26T00:00:00+00:00\", \"2021-05-03T00:00:00+00:00\", \"2021-05-10T00:00:00+00:00\", \"2021-05-17T00:00:00+00:00\", \"2021-05-24T00:00:00+00:00\", \"2021-05-31T00:00:00+00:00\", \"2021-06-07T00:00:00+00:00\", \"2021-06-14T00:00:00+00:00\", \"2021-06-21T00:00:00+00:00\", \"2021-06-28T00:00:00+00:00\", \"2021-07-05T00:00:00+00:00\", \"2021-07-12T00:00:00+00:00\", \"2021-07-19T00:00:00+00:00\", \"2021-07-26T00:00:00+00:00\", \"2021-08-02T00:00:00+00:00\", \"2021-08-09T00:00:00+00:00\", \"2021-08-16T00:00:00+00:00\"], \"xaxis\": \"x\", \"y\": [318211.67496967234, 376347.73523710633, 668217.8283822585, 483375.65527412586, 432422.85917278973, 655631.596171039, 678708.2731999296, 696330.4529596702, 545161.1449843522, 2102150.008461401, 4868351.663622473, 4735738.430238909, 2351323.508941434, 1480266.0771849905, 1669347.7059629338, 1874965.414254311, 1957473.9975982385, 1733514.9683604275, 1556345.1449846115, 1535676.7606224376, 1844626.7082551399, 2301679.3550563087, 2360024.4127565273, 2109020.510505295, 3075951.138741335, 3613477.824707644], \"yaxis\": \"y\"}, {\"name\": \"Flashloan Fees\", \"type\": \"bar\", \"x\": [\"2021-02-22T00:00:00+00:00\", \"2021-03-01T00:00:00+00:00\", \"2021-03-08T00:00:00+00:00\", \"2021-03-15T00:00:00+00:00\", \"2021-03-22T00:00:00+00:00\", \"2021-03-29T00:00:00+00:00\", \"2021-04-05T00:00:00+00:00\", \"2021-04-12T00:00:00+00:00\", \"2021-04-19T00:00:00+00:00\", \"2021-04-26T00:00:00+00:00\", \"2021-05-03T00:00:00+00:00\", \"2021-05-10T00:00:00+00:00\", \"2021-05-17T00:00:00+00:00\", \"2021-05-24T00:00:00+00:00\", \"2021-05-31T00:00:00+00:00\", \"2021-06-07T00:00:00+00:00\", \"2021-06-14T00:00:00+00:00\", \"2021-06-21T00:00:00+00:00\", \"2021-06-28T00:00:00+00:00\", \"2021-07-05T00:00:00+00:00\", \"2021-07-12T00:00:00+00:00\", \"2021-07-19T00:00:00+00:00\", \"2021-07-26T00:00:00+00:00\", \"2021-08-02T00:00:00+00:00\", \"2021-08-09T00:00:00+00:00\", \"2021-08-16T00:00:00+00:00\"], \"xaxis\": \"x\", \"y\": [16173.986788691807, 4890.272626301707, 3722.8674992640363, 3260.9959357044254, 8629.916288375116, 1862.620966072324, 1969.4938576861614, 7159.542046131851, 10618.180022606657, 47274.010573038926, 287178.0214672865, 37742.94708643371, 691546.7815755096, 204242.759883277, 12987.149217250406, 14462.813770423227, 8669.769373142442, 131483.81303103594, 15027.55686227679, 15272.657451479185, 36613.09414588818, 41757.15529466212, 13835.913635382898, 42642.44822552211, 41796.85663239281, 26352.412503487078], \"yaxis\": \"y\"}, {\"name\": \"Interest\", \"type\": \"bar\", \"x\": [\"2021-02-22T00:00:00+00:00\", \"2021-03-01T00:00:00+00:00\", \"2021-03-08T00:00:00+00:00\", \"2021-03-15T00:00:00+00:00\", \"2021-03-22T00:00:00+00:00\", \"2021-03-29T00:00:00+00:00\", \"2021-04-05T00:00:00+00:00\", \"2021-04-12T00:00:00+00:00\", \"2021-04-19T00:00:00+00:00\", \"2021-04-26T00:00:00+00:00\", \"2021-05-03T00:00:00+00:00\", \"2021-05-10T00:00:00+00:00\", \"2021-05-17T00:00:00+00:00\", \"2021-05-24T00:00:00+00:00\", \"2021-05-31T00:00:00+00:00\", \"2021-06-07T00:00:00+00:00\", \"2021-06-14T00:00:00+00:00\", \"2021-06-21T00:00:00+00:00\", \"2021-06-28T00:00:00+00:00\", \"2021-07-05T00:00:00+00:00\", \"2021-07-12T00:00:00+00:00\", \"2021-07-19T00:00:00+00:00\", \"2021-07-26T00:00:00+00:00\", \"2021-08-02T00:00:00+00:00\", \"2021-08-09T00:00:00+00:00\", \"2021-08-16T00:00:00+00:00\"], \"xaxis\": \"x2\", \"y\": [193497.4634692098, 174022.3114684921, 278508.14771003317, 355496.00729154877, 253476.38570815334, 446523.9199272261, 353721.8971567622, 578802.8618614364, 343392.5421245538, 825990.7862624149, 1687432.7739096447, 2016292.6377971799, 1323281.5255722303, 434936.3168337236, 340062.1983937136, 351640.84515544045, 551778.0981921159, 475015.01547636394, 547185.4988562855, 564496.0647727394, 546607.8857485673, 489709.2731701151, 750271.2024974904, 717383.7022805676, 1677826.9548215, 830469.0364959278], \"yaxis\": \"y2\"}, {\"name\": \"Flashloan Fees\", \"type\": \"bar\", \"x\": [\"2021-02-22T00:00:00+00:00\", \"2021-03-01T00:00:00+00:00\", \"2021-03-08T00:00:00+00:00\", \"2021-03-15T00:00:00+00:00\", \"2021-03-22T00:00:00+00:00\", \"2021-03-29T00:00:00+00:00\", \"2021-04-05T00:00:00+00:00\", \"2021-04-12T00:00:00+00:00\", \"2021-04-19T00:00:00+00:00\", \"2021-04-26T00:00:00+00:00\", \"2021-05-03T00:00:00+00:00\", \"2021-05-10T00:00:00+00:00\", \"2021-05-17T00:00:00+00:00\", \"2021-05-24T00:00:00+00:00\", \"2021-05-31T00:00:00+00:00\", \"2021-06-07T00:00:00+00:00\", \"2021-06-14T00:00:00+00:00\", \"2021-06-21T00:00:00+00:00\", \"2021-06-28T00:00:00+00:00\", \"2021-07-05T00:00:00+00:00\", \"2021-07-12T00:00:00+00:00\", \"2021-07-19T00:00:00+00:00\", \"2021-07-26T00:00:00+00:00\", \"2021-08-02T00:00:00+00:00\", \"2021-08-09T00:00:00+00:00\", \"2021-08-16T00:00:00+00:00\"], \"xaxis\": \"x2\", \"y\": [9574.703266492012, 975.3672140894466, 1876.4141697646764, 287.0380458011201, 1518.2336001666536, 14323.963998147181, 534.7576937840313, 940.5611761448613, 991.3028826757079, 12664.500460444617, 7208.549632906077, 7462.111822709554, 21619.080484533737, 2572.581540689002, 3790.3218013178425, 2338.781080989929, 2926.522863911895, 6509.090340316037, 1066.3724052056316, 1611.1001153593845, 858.1365012915826, 1267.8318536975457, 2379.4958585367613, 29518.679886001257, 4710.577149071391, 1434.6089711152836], \"yaxis\": \"y2\"}, {\"name\": \"Interest\", \"type\": \"bar\", \"x\": [\"2021-02-22T00:00:00+00:00\", \"2021-03-01T00:00:00+00:00\", \"2021-03-08T00:00:00+00:00\", \"2021-03-15T00:00:00+00:00\", \"2021-03-22T00:00:00+00:00\", \"2021-03-29T00:00:00+00:00\", \"2021-04-05T00:00:00+00:00\", \"2021-04-12T00:00:00+00:00\", \"2021-04-19T00:00:00+00:00\", \"2021-04-26T00:00:00+00:00\", \"2021-05-03T00:00:00+00:00\", \"2021-05-10T00:00:00+00:00\", \"2021-05-17T00:00:00+00:00\", \"2021-05-24T00:00:00+00:00\", \"2021-05-31T00:00:00+00:00\", \"2021-06-07T00:00:00+00:00\", \"2021-06-14T00:00:00+00:00\", \"2021-06-21T00:00:00+00:00\", \"2021-06-28T00:00:00+00:00\", \"2021-07-05T00:00:00+00:00\", \"2021-07-12T00:00:00+00:00\", \"2021-07-19T00:00:00+00:00\", \"2021-07-26T00:00:00+00:00\", \"2021-08-02T00:00:00+00:00\", \"2021-08-09T00:00:00+00:00\", \"2021-08-16T00:00:00+00:00\"], \"xaxis\": \"x3\", \"y\": [151220.199257484, 152244.0269851752, 210876.76095950033, 219174.22864967995, 148983.78534731697, 197227.50433009502, 211870.7799955008, 270326.4770513171, 203355.30918146952, 685973.4509440367, 1115305.4786045507, 1632792.660661174, 1114515.9350051982, 628732.7846981545, 742577.3202153095, 704618.5973979676, 772642.13465215, 736299.9376559608, 734329.4926206822, 597026.5212373212, 531304.0111296447, 618087.3914651339, 699942.1514041966, 680546.4740473854, 879719.3569774141, 857610.6800799055], \"yaxis\": \"y3\"}, {\"name\": \"Flashloan Fees\", \"type\": \"bar\", \"x\": [\"2021-02-22T00:00:00+00:00\", \"2021-03-01T00:00:00+00:00\", \"2021-03-08T00:00:00+00:00\", \"2021-03-15T00:00:00+00:00\", \"2021-03-22T00:00:00+00:00\", \"2021-03-29T00:00:00+00:00\", \"2021-04-05T00:00:00+00:00\", \"2021-04-12T00:00:00+00:00\", \"2021-04-19T00:00:00+00:00\", \"2021-04-26T00:00:00+00:00\", \"2021-05-03T00:00:00+00:00\", \"2021-05-10T00:00:00+00:00\", \"2021-05-17T00:00:00+00:00\", \"2021-05-24T00:00:00+00:00\", \"2021-05-31T00:00:00+00:00\", \"2021-06-07T00:00:00+00:00\", \"2021-06-14T00:00:00+00:00\", \"2021-06-21T00:00:00+00:00\", \"2021-06-28T00:00:00+00:00\", \"2021-07-05T00:00:00+00:00\", \"2021-07-12T00:00:00+00:00\", \"2021-07-19T00:00:00+00:00\", \"2021-07-26T00:00:00+00:00\", \"2021-08-02T00:00:00+00:00\", \"2021-08-09T00:00:00+00:00\", \"2021-08-16T00:00:00+00:00\"], \"xaxis\": \"x3\", \"y\": [5495.663770006348, 3495.8499503027388, 1504.980488723181, 2088.0816754620428, 1424.94553519082, 1778.2004646150717, 1240.3048644520522, 4302.9389728415945, 6983.944057844964, 19691.4865349199, 19526.197593039542, 88585.47814700763, 42179.05026102176, 16193.750714906299, 6399.525984839945, 6889.188482767999, 7073.824676601429, 6983.101832015372, 2977.2332823965326, 73152.96786260094, 2130.884440617229, 3434.490784088039, 2201.1748695772076, 4542.083825754031, 1918.4842359961626, 499.9990557219517], \"yaxis\": \"y3\"}, {\"name\": \"Interest\", \"type\": \"bar\", \"x\": [\"2021-02-22T00:00:00+00:00\", \"2021-03-01T00:00:00+00:00\", \"2021-03-08T00:00:00+00:00\", \"2021-03-15T00:00:00+00:00\", \"2021-03-22T00:00:00+00:00\", \"2021-03-29T00:00:00+00:00\", \"2021-04-05T00:00:00+00:00\", \"2021-04-12T00:00:00+00:00\", \"2021-04-19T00:00:00+00:00\", \"2021-04-26T00:00:00+00:00\", \"2021-05-03T00:00:00+00:00\", \"2021-05-10T00:00:00+00:00\", \"2021-05-17T00:00:00+00:00\", \"2021-05-24T00:00:00+00:00\", \"2021-05-31T00:00:00+00:00\", \"2021-06-07T00:00:00+00:00\", \"2021-06-14T00:00:00+00:00\", \"2021-06-21T00:00:00+00:00\", \"2021-06-28T00:00:00+00:00\", \"2021-07-05T00:00:00+00:00\", \"2021-07-12T00:00:00+00:00\", \"2021-07-19T00:00:00+00:00\", \"2021-07-26T00:00:00+00:00\", \"2021-08-02T00:00:00+00:00\", \"2021-08-09T00:00:00+00:00\", \"2021-08-16T00:00:00+00:00\"], \"xaxis\": \"x4\", \"y\": [14200.237088899023, 11874.810369469613, 14306.1773019079, 57504.59335356626, 22959.05909815286, 19590.954508256622, 32052.699799993294, 25681.531001814015, 29752.03436023389, 19641.659766192064, 17780.297258915747, 12445.937823140936, 9631.758734230103, 7989.931968009712, 34796.88134200116, 32504.501623053708, 41594.94051525487, 49549.301869779796, 25606.501867079955, 21272.436573536575, 14507.871973681154, 14667.505327732733, 18306.07459531081, 19983.5049914363, 29898.616647546914, 22840.108016612616], \"yaxis\": \"y4\"}, {\"name\": \"Flashloan Fees\", \"type\": \"bar\", \"x\": [\"2021-02-22T00:00:00+00:00\", \"2021-03-01T00:00:00+00:00\", \"2021-03-08T00:00:00+00:00\", \"2021-03-15T00:00:00+00:00\", \"2021-03-22T00:00:00+00:00\", \"2021-03-29T00:00:00+00:00\", \"2021-04-05T00:00:00+00:00\", \"2021-04-12T00:00:00+00:00\", \"2021-04-19T00:00:00+00:00\", \"2021-04-26T00:00:00+00:00\", \"2021-05-03T00:00:00+00:00\", \"2021-05-10T00:00:00+00:00\", \"2021-05-17T00:00:00+00:00\", \"2021-05-24T00:00:00+00:00\", \"2021-05-31T00:00:00+00:00\", \"2021-06-07T00:00:00+00:00\", \"2021-06-14T00:00:00+00:00\", \"2021-06-21T00:00:00+00:00\", \"2021-06-28T00:00:00+00:00\", \"2021-07-05T00:00:00+00:00\", \"2021-07-12T00:00:00+00:00\", \"2021-07-19T00:00:00+00:00\", \"2021-07-26T00:00:00+00:00\", \"2021-08-02T00:00:00+00:00\", \"2021-08-09T00:00:00+00:00\", \"2021-08-16T00:00:00+00:00\"], \"xaxis\": \"x4\", \"y\": [11878.421441504452, 1308.2917457503684, 653.7213365764812, 1186.3545494893044, 848.6136531600741, 899.7634350551949, 1499.9642271656794, 11833.060254467824, 9109.898958632886, 8934.438773271315, 11021.57600005973, 53232.169641544, 149251.7774630383, 21992.777201884404, 16958.517326459416, 15712.708370155236, 10059.797583442896, 23205.833605081803, 13935.808689946498, 10796.479576198848, 11348.618315405327, 10128.76946820582, 11545.12339705738, 12057.449863792233, 17411.501317827908, 19465.587989212276], \"yaxis\": \"y4\"}, {\"name\": \"Interest\", \"type\": \"bar\", \"x\": [\"2021-02-22T00:00:00+00:00\", \"2021-03-01T00:00:00+00:00\", \"2021-03-08T00:00:00+00:00\", \"2021-03-15T00:00:00+00:00\", \"2021-03-22T00:00:00+00:00\", \"2021-03-29T00:00:00+00:00\", \"2021-04-05T00:00:00+00:00\", \"2021-04-12T00:00:00+00:00\", \"2021-04-19T00:00:00+00:00\", \"2021-04-26T00:00:00+00:00\", \"2021-05-03T00:00:00+00:00\", \"2021-05-10T00:00:00+00:00\", \"2021-05-17T00:00:00+00:00\", \"2021-05-24T00:00:00+00:00\", \"2021-05-31T00:00:00+00:00\", \"2021-06-07T00:00:00+00:00\", \"2021-06-14T00:00:00+00:00\", \"2021-06-21T00:00:00+00:00\", \"2021-06-28T00:00:00+00:00\", \"2021-07-05T00:00:00+00:00\", \"2021-07-12T00:00:00+00:00\", \"2021-07-19T00:00:00+00:00\", \"2021-07-26T00:00:00+00:00\", \"2021-08-02T00:00:00+00:00\", \"2021-08-09T00:00:00+00:00\", \"2021-08-16T00:00:00+00:00\"], \"xaxis\": \"x5\", \"y\": [19544.765168587233, 21945.561506094647, 50037.921405251844, 33527.81136767234, 17033.625277403167, 58108.58503827795, 62650.62408752491, 48115.50532398001, 29554.806136761395, 41453.75891837783, 38649.521592238874, 22481.712613466792, 16355.374553964291, 18609.269926151945, 27707.510886700955, 6423.278336808419, 20722.49405444704, 6423.348884868086, 4792.4751380402595, 5459.010927123591, 5111.171116356122, 4458.263935548668, 4694.696969689102, 4911.560607762187, 29719.938407523165, 9025.683974669584], \"yaxis\": \"y5\"}, {\"name\": \"Flashloan Fees\", \"type\": \"bar\", \"x\": [\"2021-02-22T00:00:00+00:00\", \"2021-03-01T00:00:00+00:00\", \"2021-03-08T00:00:00+00:00\", \"2021-03-15T00:00:00+00:00\", \"2021-03-22T00:00:00+00:00\", \"2021-03-29T00:00:00+00:00\", \"2021-04-05T00:00:00+00:00\", \"2021-04-12T00:00:00+00:00\", \"2021-04-19T00:00:00+00:00\", \"2021-04-26T00:00:00+00:00\", \"2021-05-03T00:00:00+00:00\", \"2021-05-10T00:00:00+00:00\", \"2021-05-17T00:00:00+00:00\", \"2021-05-24T00:00:00+00:00\", \"2021-05-31T00:00:00+00:00\", \"2021-06-07T00:00:00+00:00\", \"2021-06-14T00:00:00+00:00\", \"2021-06-21T00:00:00+00:00\", \"2021-06-28T00:00:00+00:00\", \"2021-07-05T00:00:00+00:00\", \"2021-07-12T00:00:00+00:00\", \"2021-07-19T00:00:00+00:00\", \"2021-07-26T00:00:00+00:00\", \"2021-08-02T00:00:00+00:00\", \"2021-08-09T00:00:00+00:00\", \"2021-08-16T00:00:00+00:00\"], \"xaxis\": \"x5\", \"y\": [0.0, 0.0, 0.0, 0.0, 0.0, 0.0, 0.0, 0.0, 0.0, 214.20642584627709, 189.4841012700574, 72.5812744778585, 4271.528495668074, 106.01135461051658, 23.050601147451907, 14.477219717476022, 0.38330806659801575, 1204.6798133055165, 313.09125071844, 0.0, 42.1187445630253, 0.0, 6.547034468609231, 0.0, 1.7992883482472923, 0.0], \"yaxis\": \"y5\"}],\n",
              "                        {\"annotations\": [{\"font\": {\"size\": 16}, \"showarrow\": false, \"text\": \"USDC\", \"x\": 0.5, \"xanchor\": \"center\", \"xref\": \"paper\", \"y\": 1.0, \"yanchor\": \"bottom\", \"yref\": \"paper\"}, {\"font\": {\"size\": 16}, \"showarrow\": false, \"text\": \"USDT\", \"x\": 0.5, \"xanchor\": \"center\", \"xref\": \"paper\", \"y\": 0.78, \"yanchor\": \"bottom\", \"yref\": \"paper\"}, {\"font\": {\"size\": 16}, \"showarrow\": false, \"text\": \"DAI\", \"x\": 0.5, \"xanchor\": \"center\", \"xref\": \"paper\", \"y\": 0.56, \"yanchor\": \"bottom\", \"yref\": \"paper\"}, {\"font\": {\"size\": 16}, \"showarrow\": false, \"text\": \"WETH\", \"x\": 0.5, \"xanchor\": \"center\", \"xref\": \"paper\", \"y\": 0.33999999999999997, \"yanchor\": \"bottom\", \"yref\": \"paper\"}, {\"font\": {\"size\": 16}, \"showarrow\": false, \"text\": \"BUSD\", \"x\": 0.5, \"xanchor\": \"center\", \"xref\": \"paper\", \"y\": 0.12, \"yanchor\": \"bottom\", \"yref\": \"paper\"}], \"barmode\": \"stack\", \"height\": 1000, \"showlegend\": false, \"template\": {\"data\": {\"bar\": [{\"error_x\": {\"color\": \"rgb(36,36,36)\"}, \"error_y\": {\"color\": \"rgb(36,36,36)\"}, \"marker\": {\"line\": {\"color\": \"white\", \"width\": 0.5}}, \"type\": \"bar\"}], \"barpolar\": [{\"marker\": {\"line\": {\"color\": \"white\", \"width\": 0.5}}, \"type\": \"barpolar\"}], \"carpet\": [{\"aaxis\": {\"endlinecolor\": \"rgb(36,36,36)\", \"gridcolor\": \"white\", \"linecolor\": \"white\", \"minorgridcolor\": \"white\", \"startlinecolor\": \"rgb(36,36,36)\"}, \"baxis\": {\"endlinecolor\": \"rgb(36,36,36)\", \"gridcolor\": \"white\", \"linecolor\": \"white\", \"minorgridcolor\": \"white\", \"startlinecolor\": \"rgb(36,36,36)\"}, \"type\": \"carpet\"}], \"choropleth\": [{\"colorbar\": {\"outlinewidth\": 10, \"tickcolor\": \"rgb(36,36,36)\", \"ticklen\": 8, \"ticks\": \"outside\", \"tickwidth\": 2}, \"type\": \"choropleth\"}], \"contour\": [{\"colorbar\": {\"outlinewidth\": 10, \"tickcolor\": \"rgb(36,36,36)\", \"ticklen\": 8, \"ticks\": \"outside\", \"tickwidth\": 2}, \"colorscale\": [[0.0, \"#440154\"], [0.1111111111111111, \"#482878\"], [0.2222222222222222, \"#3e4989\"], [0.3333333333333333, \"#31688e\"], [0.4444444444444444, \"#26828e\"], [0.5555555555555556, \"#1f9e89\"], [0.6666666666666666, \"#35b779\"], [0.7777777777777778, \"#6ece58\"], [0.8888888888888888, \"#b5de2b\"], [1.0, \"#fde725\"]], \"type\": \"contour\"}], \"contourcarpet\": [{\"colorbar\": {\"outlinewidth\": 10, \"tickcolor\": \"rgb(36,36,36)\", \"ticklen\": 8, \"ticks\": \"outside\", \"tickwidth\": 2}, \"type\": \"contourcarpet\"}], \"heatmap\": [{\"colorbar\": {\"outlinewidth\": 10, \"tickcolor\": \"rgb(36,36,36)\", \"ticklen\": 8, \"ticks\": \"outside\", \"tickwidth\": 2}, \"colorscale\": [[0.0, \"#440154\"], [0.1111111111111111, \"#482878\"], [0.2222222222222222, \"#3e4989\"], [0.3333333333333333, \"#31688e\"], [0.4444444444444444, \"#26828e\"], [0.5555555555555556, \"#1f9e89\"], [0.6666666666666666, \"#35b779\"], [0.7777777777777778, \"#6ece58\"], [0.8888888888888888, \"#b5de2b\"], [1.0, \"#fde725\"]], \"type\": \"heatmap\"}], \"heatmapgl\": [{\"colorbar\": {\"outlinewidth\": 10, \"tickcolor\": \"rgb(36,36,36)\", \"ticklen\": 8, \"ticks\": \"outside\", \"tickwidth\": 2}, \"colorscale\": [[0.0, \"#440154\"], [0.1111111111111111, \"#482878\"], [0.2222222222222222, \"#3e4989\"], [0.3333333333333333, \"#31688e\"], [0.4444444444444444, \"#26828e\"], [0.5555555555555556, \"#1f9e89\"], [0.6666666666666666, \"#35b779\"], [0.7777777777777778, \"#6ece58\"], [0.8888888888888888, \"#b5de2b\"], [1.0, \"#fde725\"]], \"type\": \"heatmapgl\"}], \"histogram\": [{\"marker\": {\"line\": {\"color\": \"white\", \"width\": 0.6}}, \"type\": \"histogram\"}], \"histogram2d\": [{\"colorbar\": {\"outlinewidth\": 10, \"tickcolor\": \"rgb(36,36,36)\", \"ticklen\": 8, \"ticks\": \"outside\", \"tickwidth\": 2}, \"colorscale\": [[0.0, \"#440154\"], [0.1111111111111111, \"#482878\"], [0.2222222222222222, \"#3e4989\"], [0.3333333333333333, \"#31688e\"], [0.4444444444444444, \"#26828e\"], [0.5555555555555556, \"#1f9e89\"], [0.6666666666666666, \"#35b779\"], [0.7777777777777778, \"#6ece58\"], [0.8888888888888888, \"#b5de2b\"], [1.0, \"#fde725\"]], \"type\": \"histogram2d\"}], \"histogram2dcontour\": [{\"colorbar\": {\"outlinewidth\": 10, \"tickcolor\": \"rgb(36,36,36)\", \"ticklen\": 8, \"ticks\": \"outside\", \"tickwidth\": 2}, \"colorscale\": [[0.0, \"#440154\"], [0.1111111111111111, \"#482878\"], [0.2222222222222222, \"#3e4989\"], [0.3333333333333333, \"#31688e\"], [0.4444444444444444, \"#26828e\"], [0.5555555555555556, \"#1f9e89\"], [0.6666666666666666, \"#35b779\"], [0.7777777777777778, \"#6ece58\"], [0.8888888888888888, \"#b5de2b\"], [1.0, \"#fde725\"]], \"type\": \"histogram2dcontour\"}], \"mesh3d\": [{\"colorbar\": {\"outlinewidth\": 10, \"tickcolor\": \"rgb(36,36,36)\", \"ticklen\": 8, \"ticks\": \"outside\", \"tickwidth\": 2}, \"type\": \"mesh3d\"}], \"parcoords\": [{\"line\": {\"colorbar\": {\"outlinewidth\": 10, \"tickcolor\": \"rgb(36,36,36)\", \"ticklen\": 8, \"ticks\": \"outside\", \"tickwidth\": 2}}, \"type\": \"parcoords\"}], \"pie\": [{\"automargin\": true, \"type\": \"pie\"}], \"scatter\": [{\"marker\": {\"colorbar\": {\"outlinewidth\": 10, \"tickcolor\": \"rgb(36,36,36)\", \"ticklen\": 8, \"ticks\": \"outside\", \"tickwidth\": 2}}, \"type\": \"scatter\"}], \"scatter3d\": [{\"line\": {\"colorbar\": {\"outlinewidth\": 10, \"tickcolor\": \"rgb(36,36,36)\", \"ticklen\": 8, \"ticks\": \"outside\", \"tickwidth\": 2}}, \"marker\": {\"colorbar\": {\"outlinewidth\": 10, \"tickcolor\": \"rgb(36,36,36)\", \"ticklen\": 8, \"ticks\": \"outside\", \"tickwidth\": 2}}, \"type\": \"scatter3d\"}], \"scattercarpet\": [{\"marker\": {\"colorbar\": {\"outlinewidth\": 10, \"tickcolor\": \"rgb(36,36,36)\", \"ticklen\": 8, \"ticks\": \"outside\", \"tickwidth\": 2}}, \"type\": \"scattercarpet\"}], \"scattergeo\": [{\"marker\": {\"colorbar\": {\"outlinewidth\": 10, \"tickcolor\": \"rgb(36,36,36)\", \"ticklen\": 8, \"ticks\": \"outside\", \"tickwidth\": 2}}, \"type\": \"scattergeo\"}], \"scattergl\": [{\"marker\": {\"colorbar\": {\"outlinewidth\": 10, \"tickcolor\": \"rgb(36,36,36)\", \"ticklen\": 8, \"ticks\": \"outside\", \"tickwidth\": 2}}, \"type\": \"scattergl\"}], \"scattermapbox\": [{\"marker\": {\"colorbar\": {\"outlinewidth\": 10, \"tickcolor\": \"rgb(36,36,36)\", \"ticklen\": 8, \"ticks\": \"outside\", \"tickwidth\": 2}}, \"type\": \"scattermapbox\"}], \"scatterpolar\": [{\"marker\": {\"colorbar\": {\"outlinewidth\": 10, \"tickcolor\": \"rgb(36,36,36)\", \"ticklen\": 8, \"ticks\": \"outside\", \"tickwidth\": 2}}, \"type\": \"scatterpolar\"}], \"scatterpolargl\": [{\"marker\": {\"colorbar\": {\"outlinewidth\": 10, \"tickcolor\": \"rgb(36,36,36)\", \"ticklen\": 8, \"ticks\": \"outside\", \"tickwidth\": 2}}, \"type\": \"scatterpolargl\"}], \"scatterternary\": [{\"marker\": {\"colorbar\": {\"outlinewidth\": 10, \"tickcolor\": \"rgb(36,36,36)\", \"ticklen\": 8, \"ticks\": \"outside\", \"tickwidth\": 2}}, \"type\": \"scatterternary\"}], \"surface\": [{\"colorbar\": {\"outlinewidth\": 10, \"tickcolor\": \"rgb(36,36,36)\", \"ticklen\": 8, \"ticks\": \"outside\", \"tickwidth\": 2}, \"colorscale\": [[0.0, \"#440154\"], [0.1111111111111111, \"#482878\"], [0.2222222222222222, \"#3e4989\"], [0.3333333333333333, \"#31688e\"], [0.4444444444444444, \"#26828e\"], [0.5555555555555556, \"#1f9e89\"], [0.6666666666666666, \"#35b779\"], [0.7777777777777778, \"#6ece58\"], [0.8888888888888888, \"#b5de2b\"], [1.0, \"#fde725\"]], \"type\": \"surface\"}], \"table\": [{\"cells\": {\"fill\": {\"color\": \"rgb(237,237,237)\"}, \"line\": {\"color\": \"white\"}}, \"header\": {\"fill\": {\"color\": \"rgb(217,217,217)\"}, \"line\": {\"color\": \"white\"}}, \"type\": \"table\"}]}, \"layout\": {\"annotationdefaults\": {\"arrowhead\": 0, \"arrowwidth\": 1}, \"coloraxis\": {\"colorbar\": {\"outlinewidth\": 10, \"tickcolor\": \"rgb(36,36,36)\", \"ticklen\": 8, \"ticks\": \"outside\", \"tickwidth\": 2}}, \"colorscale\": {\"diverging\": [[0.0, \"rgb(103,0,31)\"], [0.1, \"rgb(178,24,43)\"], [0.2, \"rgb(214,96,77)\"], [0.3, \"rgb(244,165,130)\"], [0.4, \"rgb(253,219,199)\"], [0.5, \"rgb(247,247,247)\"], [0.6, \"rgb(209,229,240)\"], [0.7, \"rgb(146,197,222)\"], [0.8, \"rgb(67,147,195)\"], [0.9, \"rgb(33,102,172)\"], [1.0, \"rgb(5,48,97)\"]], \"sequential\": [[0.0, \"#440154\"], [0.1111111111111111, \"#482878\"], [0.2222222222222222, \"#3e4989\"], [0.3333333333333333, \"#31688e\"], [0.4444444444444444, \"#26828e\"], [0.5555555555555556, \"#1f9e89\"], [0.6666666666666666, \"#35b779\"], [0.7777777777777778, \"#6ece58\"], [0.8888888888888888, \"#b5de2b\"], [1.0, \"#fde725\"]], \"sequentialminus\": [[0.0, \"#440154\"], [0.1111111111111111, \"#482878\"], [0.2222222222222222, \"#3e4989\"], [0.3333333333333333, \"#31688e\"], [0.4444444444444444, \"#26828e\"], [0.5555555555555556, \"#1f9e89\"], [0.6666666666666666, \"#35b779\"], [0.7777777777777778, \"#6ece58\"], [0.8888888888888888, \"#b5de2b\"], [1.0, \"#fde725\"]]}, \"colorway\": [\"#1F77B4\", \"#FF7F0E\", \"#2CA02C\", \"#D62728\", \"#9467BD\", \"#8C564B\", \"#E377C2\", \"#7F7F7F\", \"#BCBD22\", \"#17BECF\"], \"font\": {\"color\": \"rgb(36,36,36)\"}, \"geo\": {\"bgcolor\": \"white\", \"lakecolor\": \"white\", \"landcolor\": \"white\", \"showlakes\": true, \"showland\": true, \"subunitcolor\": \"white\"}, \"hoverlabel\": {\"align\": \"left\"}, \"hovermode\": \"closest\", \"mapbox\": {\"style\": \"light\"}, \"paper_bgcolor\": \"white\", \"plot_bgcolor\": \"white\", \"polar\": {\"angularaxis\": {\"gridcolor\": \"rgb(232,232,232)\", \"linecolor\": \"rgb(36,36,36)\", \"showgrid\": false, \"showline\": true, \"ticks\": \"outside\"}, \"bgcolor\": \"white\", \"radialaxis\": {\"gridcolor\": \"rgb(232,232,232)\", \"linecolor\": \"rgb(36,36,36)\", \"showgrid\": false, \"showline\": true, \"ticks\": \"outside\"}}, \"scene\": {\"xaxis\": {\"backgroundcolor\": \"white\", \"gridcolor\": \"rgb(232,232,232)\", \"gridwidth\": 2, \"linecolor\": \"rgb(36,36,36)\", \"showbackground\": true, \"showgrid\": false, \"showline\": true, \"ticks\": \"outside\", \"zeroline\": false, \"zerolinecolor\": \"rgb(36,36,36)\"}, \"yaxis\": {\"backgroundcolor\": \"white\", \"gridcolor\": \"rgb(232,232,232)\", \"gridwidth\": 2, \"linecolor\": \"rgb(36,36,36)\", \"showbackground\": true, \"showgrid\": false, \"showline\": true, \"ticks\": \"outside\", \"zeroline\": false, \"zerolinecolor\": \"rgb(36,36,36)\"}, \"zaxis\": {\"backgroundcolor\": \"white\", \"gridcolor\": \"rgb(232,232,232)\", \"gridwidth\": 2, \"linecolor\": \"rgb(36,36,36)\", \"showbackground\": true, \"showgrid\": false, \"showline\": true, \"ticks\": \"outside\", \"zeroline\": false, \"zerolinecolor\": \"rgb(36,36,36)\"}}, \"shapedefaults\": {\"fillcolor\": \"black\", \"line\": {\"width\": 0}, \"opacity\": 0.3}, \"ternary\": {\"aaxis\": {\"gridcolor\": \"rgb(232,232,232)\", \"linecolor\": \"rgb(36,36,36)\", \"showgrid\": false, \"showline\": true, \"ticks\": \"outside\"}, \"baxis\": {\"gridcolor\": \"rgb(232,232,232)\", \"linecolor\": \"rgb(36,36,36)\", \"showgrid\": false, \"showline\": true, \"ticks\": \"outside\"}, \"bgcolor\": \"white\", \"caxis\": {\"gridcolor\": \"rgb(232,232,232)\", \"linecolor\": \"rgb(36,36,36)\", \"showgrid\": false, \"showline\": true, \"ticks\": \"outside\"}}, \"title\": {\"x\": 0.05}, \"xaxis\": {\"automargin\": true, \"gridcolor\": \"rgb(232,232,232)\", \"linecolor\": \"rgb(36,36,36)\", \"showgrid\": false, \"showline\": true, \"ticks\": \"outside\", \"title\": {\"standoff\": 15}, \"zeroline\": false, \"zerolinecolor\": \"rgb(36,36,36)\"}, \"yaxis\": {\"automargin\": true, \"gridcolor\": \"rgb(232,232,232)\", \"linecolor\": \"rgb(36,36,36)\", \"showgrid\": false, \"showline\": true, \"ticks\": \"outside\", \"title\": {\"standoff\": 15}, \"zeroline\": false, \"zerolinecolor\": \"rgb(36,36,36)\"}}}, \"title\": {\"text\": \"Fees Generated by Pool\"}, \"width\": 800, \"xaxis\": {\"anchor\": \"y\", \"domain\": [0.0, 1.0]}, \"xaxis2\": {\"anchor\": \"y2\", \"domain\": [0.0, 1.0]}, \"xaxis3\": {\"anchor\": \"y3\", \"domain\": [0.0, 1.0]}, \"xaxis4\": {\"anchor\": \"y4\", \"domain\": [0.0, 1.0]}, \"xaxis5\": {\"anchor\": \"y5\", \"domain\": [0.0, 1.0]}, \"yaxis\": {\"anchor\": \"x\", \"domain\": [0.88, 1.0], \"title\": {\"text\": \"Fees in USD\"}}, \"yaxis2\": {\"anchor\": \"x2\", \"domain\": [0.66, 0.78], \"title\": {\"text\": \"Fees in USD\"}}, \"yaxis3\": {\"anchor\": \"x3\", \"domain\": [0.44, 0.56], \"title\": {\"text\": \"Fees in USD\"}}, \"yaxis4\": {\"anchor\": \"x4\", \"domain\": [0.22, 0.33999999999999997], \"title\": {\"text\": \"Fees in USD\"}}, \"yaxis5\": {\"anchor\": \"x5\", \"domain\": [0.0, 0.12], \"title\": {\"text\": \"Fees in USD\"}}},\n",
              "                        {\"responsive\": true}\n",
              "                    ).then(function(){\n",
              "                            \n",
              "var gd = document.getElementById('f66fac5e-c92c-4e22-ab68-1ec9284fbb4e');\n",
              "var x = new MutationObserver(function (mutations, observer) {{\n",
              "        var display = window.getComputedStyle(gd).display;\n",
              "        if (!display || display === 'none') {{\n",
              "            console.log([gd, 'removed!']);\n",
              "            Plotly.purge(gd);\n",
              "            observer.disconnect();\n",
              "        }}\n",
              "}});\n",
              "\n",
              "// Listen for the removal of the full notebook cells\n",
              "var notebookContainer = gd.closest('#notebook-container');\n",
              "if (notebookContainer) {{\n",
              "    x.observe(notebookContainer, {childList: true});\n",
              "}}\n",
              "\n",
              "// Listen for the clearing of the current output cell\n",
              "var outputEl = gd.closest('.output');\n",
              "if (outputEl) {{\n",
              "    x.observe(outputEl, {childList: true});\n",
              "}}\n",
              "\n",
              "                        })\n",
              "                };\n",
              "                \n",
              "            </script>\n",
              "        </div>\n",
              "</body>\n",
              "</html>"
            ]
          },
          "metadata": {}
        }
      ]
    },
    {
      "cell_type": "markdown",
      "metadata": {
        "id": "DSB214AjJena"
      },
      "source": [
        "# Best Pool to Invest In?\n",
        "\n",
        "If you are a depositor in Aave, then putting your money in the pool which generates the most fees may not get you the best return.  You will be looking for the pool with the highest rate of return - fees divided by liquidity.  The table below shows the top 20 pools arranged by Annualised Percentage Return (APR).\n",
        "\n",
        "Looking for our previous top 5 pools, we see that they are no longer top of the heap.  BUSD emerges as the winner, returning 6.8% annualised on average over the 6 months.  USDT and DAI managed to stay in the top 5, but lost ground relative to their previous positions.  USDC has dropped to 7th overall based on return - unsurprising given the amount of capital deployed to this pool.  Looking right to the bottom of our list, in 19th place, we find WETH.  With a very low deposit rate, and a very high total liquidity, it's unurprising that the overal yield from this pool is only just higher than zero."
      ]
    },
    {
      "cell_type": "code",
      "metadata": {
        "colab": {
          "base_uri": "https://localhost:8080/",
          "height": 514
        },
        "id": "MOidjbK8M8zT",
        "outputId": "671723f4-c626-4581-e218-481f71ea23db"
      },
      "source": [
        "#@title\n",
        "#What are the top 5 pools?\n",
        "#- by return\n",
        "#from google.colab import data_table\n",
        "data_table._DEFAULT_FORMATTERS[float] = lambda x: f\"{x:,.2f}\"\n",
        "#%load_ext google.colab.data_table\n",
        "df_p = %R rank_table %>% filter(apr_rank <= 20) %>% arrange(desc(mean_apr)) %>% select(reserve_name, total_fees, mean_liq, mean_apr) %>% rename(\"Market Symbol\" = reserve_name, \"Total Fees USD\" = total_fees, \"Average Liquidity USD\" = mean_liq, \"Average %APR\" = mean_apr)\n",
        "data_table.DataTable(df_p, include_index=True, min_width = \"1\")"
      ],
      "execution_count": 10,
      "outputs": [
        {
          "output_type": "execute_result",
          "data": {
            "application/vnd.google.colaboratory.module+javascript": "\n      import \"https://ssl.gstatic.com/colaboratory/data_table/a6224c040fa35dcf/data_table.js\";\n\n      window.createDataTable({\n        data: [[\"1\",\n\"BUSD\",\n{\n            'v': 613978.2350674985,\n            'f': \"613,978.24\",\n        },\n{\n            'v': 17001614.48274678,\n            'f': \"17,001,614.48\",\n        },\n{\n            'v': 6.80476006373776,\n            'f': \"6.80\",\n        }],\n [\"2\",\n\"GUSD\",\n{\n            'v': 520008.23919937987,\n            'f': \"520,008.24\",\n        },\n{\n            'v': 19449186.22939419,\n            'f': \"19,449,186.23\",\n        },\n{\n            'v': 6.552753393461642,\n            'f': \"6.55\",\n        }],\n [\"3\",\n\"USDT\",\n{\n            'v': 17248782.0377686,\n            'f': \"17,248,782.04\",\n        },\n{\n            'v': 715414744.7975,\n            'f': \"715,414,744.80\",\n        },\n{\n            'v': 6.1977222362874596,\n            'f': \"6.20\",\n        }],\n [\"4\",\n\"SUSD\",\n{\n            'v': 436115.68961105664,\n            'f': \"436,115.69\",\n        },\n{\n            'v': 36822828.534406275,\n            'f': \"36,822,828.53\",\n        },\n{\n            'v': 5.647608115897101,\n            'f': \"5.65\",\n        }],\n [\"5\",\n\"DAI\",\n{\n            'v': 15829997.282917036,\n            'f': \"15,829,997.28\",\n        },\n{\n            'v': 888374568.7003772,\n            'f': \"888,374,568.70\",\n        },\n{\n            'v': 5.564751283059885,\n            'f': \"5.56\",\n        }],\n [\"6\",\n\"TUSD\",\n{\n            'v': 601145.7994047529,\n            'f': \"601,145.80\",\n        },\n{\n            'v': 45802727.34069668,\n            'f': \"45,802,727.34\",\n        },\n{\n            'v': 5.547570318192346,\n            'f': \"5.55\",\n        }],\n [\"7\",\n\"USDC\",\n{\n            'v': 47751514.887364686,\n            'f': \"47,751,514.89\",\n        },\n{\n            'v': 2900648888.485386,\n            'f': \"2,900,648,888.49\",\n        },\n{\n            'v': 5.434316912810711,\n            'f': \"5.43\",\n        }],\n [\"8\",\n\"SNX\",\n{\n            'v': 340048.0533879465,\n            'f': \"340,048.05\",\n        },\n{\n            'v': 13672317.692334171,\n            'f': \"13,672,317.69\",\n        },\n{\n            'v': 5.238994613676467,\n            'f': \"5.24\",\n        }],\n [\"9\",\n\"KNC\",\n{\n            'v': 103521.38502366484,\n            'f': \"103,521.39\",\n        },\n{\n            'v': 3698450.732576068,\n            'f': \"3,698,450.73\",\n        },\n{\n            'v': 3.6910473279167024,\n            'f': \"3.69\",\n        }],\n [\"10\",\n\"CRV\",\n{\n            'v': 419432.4031663902,\n            'f': \"419,432.40\",\n        },\n{\n            'v': 30417548.48324107,\n            'f': \"30,417,548.48\",\n        },\n{\n            'v': 3.310814072859877,\n            'f': \"3.31\",\n        }],\n [\"11\",\n\"BAL\",\n{\n            'v': 86313.75005323818,\n            'f': \"86,313.75\",\n        },\n{\n            'v': 7309167.9975519525,\n            'f': \"7,309,168.00\",\n        },\n{\n            'v': 3.283918052620712,\n            'f': \"3.28\",\n        }],\n [\"12\",\n\"YFI\",\n{\n            'v': 294015.5899101756,\n            'f': \"294,015.59\",\n        },\n{\n            'v': 59947010.246543765,\n            'f': \"59,947,010.25\",\n        },\n{\n            'v': 1.8563901469826445,\n            'f': \"1.86\",\n        }],\n [\"13\",\n\"BAT\",\n{\n            'v': 10197.643306215601,\n            'f': \"10,197.64\",\n        },\n{\n            'v': 3115319.1957212784,\n            'f': \"3,115,319.20\",\n        },\n{\n            'v': 0.5676476559226776,\n            'f': \"0.57\",\n        }],\n [\"14\",\n\"ENJ\",\n{\n            'v': 18432.714032440603,\n            'f': \"18,432.71\",\n        },\n{\n            'v': 21447418.79808009,\n            'f': \"21,447,418.80\",\n        },\n{\n            'v': 0.3299942588925232,\n            'f': \"0.33\",\n        }],\n [\"15\",\n\"REN\",\n{\n            'v': 20226.197079811976,\n            'f': \"20,226.20\",\n        },\n{\n            'v': 17637397.012605555,\n            'f': \"17,637,397.01\",\n        },\n{\n            'v': 0.28006447992006184,\n            'f': \"0.28\",\n        }],\n [\"16\",\n\"UNI\",\n{\n            'v': 54801.16568824296,\n            'f': \"54,801.17\",\n        },\n{\n            'v': 62376800.14370883,\n            'f': \"62,376,800.14\",\n        },\n{\n            'v': 0.20423492443374666,\n            'f': \"0.20\",\n        }],\n [\"17\",\n\"MANA\",\n{\n            'v': 6391.504626866112,\n            'f': \"6,391.50\",\n        },\n{\n            'v': 18073650.450607225,\n            'f': \"18,073,650.45\",\n        },\n{\n            'v': 0.17115007593547404,\n            'f': \"0.17\",\n        }],\n [\"18\",\n\"MKR\",\n{\n            'v': 36129.72507097412,\n            'f': \"36,129.73\",\n        },\n{\n            'v': 111018189.11392342,\n            'f': \"111,018,189.11\",\n        },\n{\n            'v': 0.15972840440523212,\n            'f': \"0.16\",\n        }],\n [\"19\",\n\"WETH\",\n{\n            'v': 1077216.9519601944,\n            'f': \"1,077,216.95\",\n        },\n{\n            'v': 2330169008.303938,\n            'f': \"2,330,169,008.30\",\n        },\n{\n            'v': 0.1471967401401047,\n            'f': \"0.15\",\n        }],\n [\"20\",\n\"ZRX\",\n{\n            'v': 1308.417696983057,\n            'f': \"1,308.42\",\n        },\n{\n            'v': 3214682.537167448,\n            'f': \"3,214,682.54\",\n        },\n{\n            'v': 0.09226479194766102,\n            'f': \"0.09\",\n        }]],\n        columns: [[\"string\", \"index\"], [\"string\", \"Market Symbol\"], [\"number\", \"Total Fees USD\"], [\"number\", \"Average Liquidity USD\"], [\"number\", \"Average %APR\"]],\n        columnOptions: [{\"width\": \"1px\", \"className\": \"index_column\"}],\n        rowsPerPage: 25,\n        helpUrl: \"https://colab.research.google.com/notebooks/data_table.ipynb\",\n        suppressOutputScrolling: true,\n        minimumWidth: \"1\",\n      });\n    ",
            "text/plain": [
              "<google.colab.data_table.DataTable object>"
            ],
            "text/html": [
              "<div>\n",
              "<style scoped>\n",
              "    .dataframe tbody tr th:only-of-type {\n",
              "        vertical-align: middle;\n",
              "    }\n",
              "\n",
              "    .dataframe tbody tr th {\n",
              "        vertical-align: top;\n",
              "    }\n",
              "\n",
              "    .dataframe thead th {\n",
              "        text-align: right;\n",
              "    }\n",
              "</style>\n",
              "<table border=\"1\" class=\"dataframe\">\n",
              "  <thead>\n",
              "    <tr style=\"text-align: right;\">\n",
              "      <th></th>\n",
              "      <th>Market Symbol</th>\n",
              "      <th>Total Fees USD</th>\n",
              "      <th>Average Liquidity USD</th>\n",
              "      <th>Average %APR</th>\n",
              "    </tr>\n",
              "  </thead>\n",
              "  <tbody>\n",
              "    <tr>\n",
              "      <th>1</th>\n",
              "      <td>BUSD</td>\n",
              "      <td>6.139782e+05</td>\n",
              "      <td>1.700161e+07</td>\n",
              "      <td>6.804760</td>\n",
              "    </tr>\n",
              "    <tr>\n",
              "      <th>2</th>\n",
              "      <td>GUSD</td>\n",
              "      <td>5.200082e+05</td>\n",
              "      <td>1.944919e+07</td>\n",
              "      <td>6.552753</td>\n",
              "    </tr>\n",
              "    <tr>\n",
              "      <th>3</th>\n",
              "      <td>USDT</td>\n",
              "      <td>1.724878e+07</td>\n",
              "      <td>7.154147e+08</td>\n",
              "      <td>6.197722</td>\n",
              "    </tr>\n",
              "    <tr>\n",
              "      <th>4</th>\n",
              "      <td>SUSD</td>\n",
              "      <td>4.361157e+05</td>\n",
              "      <td>3.682283e+07</td>\n",
              "      <td>5.647608</td>\n",
              "    </tr>\n",
              "    <tr>\n",
              "      <th>5</th>\n",
              "      <td>DAI</td>\n",
              "      <td>1.583000e+07</td>\n",
              "      <td>8.883746e+08</td>\n",
              "      <td>5.564751</td>\n",
              "    </tr>\n",
              "    <tr>\n",
              "      <th>6</th>\n",
              "      <td>TUSD</td>\n",
              "      <td>6.011458e+05</td>\n",
              "      <td>4.580273e+07</td>\n",
              "      <td>5.547570</td>\n",
              "    </tr>\n",
              "    <tr>\n",
              "      <th>7</th>\n",
              "      <td>USDC</td>\n",
              "      <td>4.775151e+07</td>\n",
              "      <td>2.900649e+09</td>\n",
              "      <td>5.434317</td>\n",
              "    </tr>\n",
              "    <tr>\n",
              "      <th>8</th>\n",
              "      <td>SNX</td>\n",
              "      <td>3.400481e+05</td>\n",
              "      <td>1.367232e+07</td>\n",
              "      <td>5.238995</td>\n",
              "    </tr>\n",
              "    <tr>\n",
              "      <th>9</th>\n",
              "      <td>KNC</td>\n",
              "      <td>1.035214e+05</td>\n",
              "      <td>3.698451e+06</td>\n",
              "      <td>3.691047</td>\n",
              "    </tr>\n",
              "    <tr>\n",
              "      <th>10</th>\n",
              "      <td>CRV</td>\n",
              "      <td>4.194324e+05</td>\n",
              "      <td>3.041755e+07</td>\n",
              "      <td>3.310814</td>\n",
              "    </tr>\n",
              "    <tr>\n",
              "      <th>11</th>\n",
              "      <td>BAL</td>\n",
              "      <td>8.631375e+04</td>\n",
              "      <td>7.309168e+06</td>\n",
              "      <td>3.283918</td>\n",
              "    </tr>\n",
              "    <tr>\n",
              "      <th>12</th>\n",
              "      <td>YFI</td>\n",
              "      <td>2.940156e+05</td>\n",
              "      <td>5.994701e+07</td>\n",
              "      <td>1.856390</td>\n",
              "    </tr>\n",
              "    <tr>\n",
              "      <th>13</th>\n",
              "      <td>BAT</td>\n",
              "      <td>1.019764e+04</td>\n",
              "      <td>3.115319e+06</td>\n",
              "      <td>0.567648</td>\n",
              "    </tr>\n",
              "    <tr>\n",
              "      <th>14</th>\n",
              "      <td>ENJ</td>\n",
              "      <td>1.843271e+04</td>\n",
              "      <td>2.144742e+07</td>\n",
              "      <td>0.329994</td>\n",
              "    </tr>\n",
              "    <tr>\n",
              "      <th>15</th>\n",
              "      <td>REN</td>\n",
              "      <td>2.022620e+04</td>\n",
              "      <td>1.763740e+07</td>\n",
              "      <td>0.280064</td>\n",
              "    </tr>\n",
              "    <tr>\n",
              "      <th>16</th>\n",
              "      <td>UNI</td>\n",
              "      <td>5.480117e+04</td>\n",
              "      <td>6.237680e+07</td>\n",
              "      <td>0.204235</td>\n",
              "    </tr>\n",
              "    <tr>\n",
              "      <th>17</th>\n",
              "      <td>MANA</td>\n",
              "      <td>6.391505e+03</td>\n",
              "      <td>1.807365e+07</td>\n",
              "      <td>0.171150</td>\n",
              "    </tr>\n",
              "    <tr>\n",
              "      <th>18</th>\n",
              "      <td>MKR</td>\n",
              "      <td>3.612973e+04</td>\n",
              "      <td>1.110182e+08</td>\n",
              "      <td>0.159728</td>\n",
              "    </tr>\n",
              "    <tr>\n",
              "      <th>19</th>\n",
              "      <td>WETH</td>\n",
              "      <td>1.077217e+06</td>\n",
              "      <td>2.330169e+09</td>\n",
              "      <td>0.147197</td>\n",
              "    </tr>\n",
              "    <tr>\n",
              "      <th>20</th>\n",
              "      <td>ZRX</td>\n",
              "      <td>1.308418e+03</td>\n",
              "      <td>3.214683e+06</td>\n",
              "      <td>0.092265</td>\n",
              "    </tr>\n",
              "  </tbody>\n",
              "</table>\n",
              "</div>"
            ]
          },
          "metadata": {},
          "execution_count": 10
        }
      ]
    },
    {
      "cell_type": "markdown",
      "metadata": {
        "id": "cz0CRu8eLGFa"
      },
      "source": [
        "# Conclusions\n",
        "\n",
        "We have explored the top 5 pools by total fees paid in the Aave V2 protocol.   We have dived into the factors which drive pool fees - pool parameters set by the protocol, pool utilisation rate, pool liquidity and flashloan activity.  We also explored how high fees generated don't necessarily mean high returns for users, and overall pool %APR is a better measure of returns for a user."
      ]
    }
  ]
}