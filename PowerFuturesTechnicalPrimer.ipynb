{
  "nbformat": 4,
  "nbformat_minor": 0,
  "metadata": {
    "colab": {
      "name": "PowerFuturesTechnicalPrimer.ipynb",
      "provenance": [],
      "collapsed_sections": [],
      "toc_visible": true,
      "include_colab_link": true
    },
    "kernelspec": {
      "name": "python3",
      "display_name": "Python 3"
    },
    "language_info": {
      "name": "python"
    }
  },
  "cells": [
    {
      "cell_type": "markdown",
      "metadata": {
        "id": "view-in-github",
        "colab_type": "text"
      },
      "source": [
        "<a href=\"https://colab.research.google.com/github/holocenecap/holocene-colab/blob/main/PowerFuturesTechnicalPrimer.ipynb\" target=\"_parent\"><img src=\"https://colab.research.google.com/assets/colab-badge.svg\" alt=\"Open In Colab\"/></a>"
      ]
    },
    {
      "cell_type": "markdown",
      "metadata": {
        "id": "ENRjBjGhUHxq"
      },
      "source": [
        "# Power futures technical primer\n",
        "\n",
        "We want to price a claim that pays the $p$'th power of a non-yielding asset price at expiry: \n",
        "\n",
        "$$D(T,T) = S_T^p $$\n",
        "\n",
        "where $D(t,T)$ as the price of a claim at $t$ expirying at $T$, $S_T$ is the value of the asset at $T$, and $p$ any real number. The valuation is the same basic process we use to price options under Black Scholes Merton.\n",
        "\n",
        "\n",
        "## Pricing with respect to a numeraire\n",
        "\n",
        "The martingale condition gives us that the price of a derivative $D(T,T)$ divided by some numeraire asset with value $N_t$ is\n",
        "\n",
        "$$E_*\\left(\\frac{D(T,T)}{N_T} |S_t\\right) = \\frac{D(t,T)}{N_t}$$\n",
        "\n",
        "This says that the ratio of assets has no drift under the risk neutral distribution. This guarantees that pricing is arbitrage free.\n",
        "\n",
        "## Log normal risk neutral\n",
        "\n",
        "Assume some asset has value $S_t$ at time $t$ and that for some future time $T$. \n",
        "\n",
        "$$\\log S_T|S_t \\sim N(\\log S_t + \\gamma \\tau, \\sigma^2 \\tau)$$\n",
        "\n",
        "Where $\\tau = T-t$.\n",
        "\n",
        "The martingale condition for the price of a money market account $M_t$ starting at 1 and growing to $e^{r\\tau}$ at $T$ is \n",
        "\n",
        "$$E_*\\left(\\frac{M_T}{S_T} |S_t\\right) = \\frac{1}{S_t}$$\n",
        "\n",
        "Evaluating the left hand side directly under the log normal is \n",
        "\n",
        "$$E_*\\left(\\frac{M_T}{S_T}\\right) = e^{- \\ln S_t - \\gamma \\tau + \\frac{1}{2}\\sigma^2 \\tau + r \\tau}$$ \n",
        "\n",
        "For the martingale condition to hold we must have $\\gamma = r+0.5\\sigma^2$\n",
        "\n",
        "So the distribution of $\\log S_T$ under the risk neutral measure $*$ with respect to the asset numeraire is\n",
        "\n",
        "$$\\log S_T|S_t \\sim_* N(\\log S_t + (r+0.5\\sigma^2) \\tau, \\sigma^2 \\tau)$$\n",
        "\n",
        "\n",
        "## Pricing power futures under the risk neutral distribution with respect to the asset\n",
        "\n",
        "First we price the **power forward** with payout $S_T^p$\n",
        "\n",
        "Under the fundamental theorem \n",
        "\n",
        "$$E_*\\left(\\frac{D(T,T)}{N_T} |S_t\\right) = \\frac{D(t,T)}{N_t}$$\n",
        "\n",
        "It's convenient to use the asset numeraire for $D_p(T,T) = S_T^p$ which is \n",
        "\n",
        "$$E_*\\left(\\frac{S_T^p}{S_T} |S_t\\right) = \\frac{D(t,T)}{S_t}$$\n",
        "\n",
        "So the price of a power forward at time $t$ is \n",
        "\n",
        "$$D(t,T) = S_t E_*(S_T^{p-1}|S_t)$$\n",
        "\n",
        "We can use the risk neutral distribution from the previous section combined with the fact that for a $X\\sim Lognormal(\\mu,\\sigma^2)$\n",
        "\n",
        "$$E(X^k) = e^{k\\mu + \\frac{k^2}{2}\\sigma^2}$$\n",
        "\n",
        "Combing with our results on the mean and variance of our log-normal price, we have the price of a power forward with expiry \n",
        "\n",
        "$$D^p(t,T) = S_t^p e^{(p-1)(r+ \\frac{p\\sigma^2}{2})\\tau}$$\n",
        "\n"
      ]
    },
    {
      "cell_type": "code",
      "metadata": {
        "id": "g9zBRGjinR80"
      },
      "source": [
        "import numpy as np\n",
        "import matplotlib.pyplot as plt\n",
        "def powerFwd(S, r, q, T, sigma, p):\n",
        "  '''\n",
        "  Power forward with\n",
        "  Inputs:  \n",
        "  S - current underlying price\n",
        "  r - risk free rate (numeraire yield)\n",
        "  q - asset yield\n",
        "  T - time to expiry\n",
        "  p - power\n",
        "\n",
        "  Returns:\n",
        "  F - power forward price\n",
        "  '''\n",
        "  #return S**p * np.exp((p-1)*(r+(p/2)*sigma**2)*T) # (no yield version)\n",
        "  return S**p * np.exp( ((p-1)*(r+(p*sigma**2)/2) -p*q)*T)\n",
        "\n"
      ],
      "execution_count": null,
      "outputs": []
    },
    {
      "cell_type": "code",
      "metadata": {
        "id": "6lghmPS43Wps"
      },
      "source": [
        "# Wrap the power fwd function\n",
        "\n",
        "fwdPr = lambda x: powerFwd(S=x, r=0, q=0, T=1, sigma=0.8, p=2)"
      ],
      "execution_count": null,
      "outputs": []
    },
    {
      "cell_type": "code",
      "metadata": {
        "colab": {
          "base_uri": "https://localhost:8080/",
          "height": 282
        },
        "id": "y887OP36oqzr",
        "outputId": "2f62eb5c-a739-4b57-9e6d-6435efcbeb7b"
      },
      "source": [
        "# Compare power forward price to underlying price\n",
        "maxStr = 200\n",
        "plt.plot(np.arange(0,maxStr), [fwdPr(x) for x in np.arange(0,maxStr)])\n",
        "plt.plot(np.arange(0,maxStr), [x**2 for x in np.arange(0,maxStr)])\n",
        "plt.legend(['Power forward','Payoff'])"
      ],
      "execution_count": null,
      "outputs": [
        {
          "output_type": "execute_result",
          "data": {
            "text/plain": [
              "<matplotlib.legend.Legend at 0x7fd585ff88d0>"
            ]
          },
          "metadata": {},
          "execution_count": 3
        },
        {
          "output_type": "display_data",
          "data": {
            "image/png": "[encoded data removed]",
            "text/plain": [
              "<Figure size 432x288 with 1 Axes>"
            ]
          },
          "metadata": {
            "needs_background": "light"
          }
        }
      ]
    },
    {
      "cell_type": "markdown",
      "metadata": {
        "id": "TqI8H4A6G6wC"
      },
      "source": [
        "## Appendix: expected value of powers of the lognormal\n",
        "\n",
        "To get to the pricing result for power forwards we need a result concerning the expected value of powers of a log-normal random variable. This involves a couple of tricks.\n",
        "\n",
        "### Functions and moments of rvs\n",
        "\n",
        "$f(x)$ is a pdf and $g(x)$ is some continuous fn\n",
        "\n",
        "$E(g(x)) = \\int_{-\\infty}^\\infty g(x)f(x)dx$\n",
        "\n",
        "$E(x) = \\int_{-\\infty}^\\infty xf(x)dx$\n",
        "\n",
        "$E(x^2) = \\int_{-\\infty}^\\infty x^2 f(x)dx$\n",
        "\n",
        "### Moment generating functions\n",
        "\n",
        "A moment generating function for a random vairable $X$ is \n",
        "\n",
        "$M_X(t) = E(e^{tx})$\n",
        "\n",
        "This is useful because if we know what it is we can figure out the moments $E(X^k)$\n",
        "\n",
        "Note that the series expansion of $e^{tx}$ is\n",
        "\n",
        "\n",
        "$e^{tx} = 1 + tX + \\frac{t^2x^2}{2!} + \\frac{t^3x^2}{3!} + \\ldots$\n",
        "\n",
        "Therefore \n",
        "\n",
        "$M_X(t) = E(e^{tx}) = 1 + tX + \\frac{t^2 E(x^2)}{2!} + \\frac{t^3E(x^3)}{3!} + \\ldots$\n",
        "\n",
        "Differentiating $n$ times wrt $t$ and evaluating at $t=0$ gives the $n$th moment $E(X^n)$\n",
        "\n",
        "For example $n=2$\n",
        "\n",
        "$\\frac{ \\partial M_X^2(t) }{\\partial t^2} = E(x^2) + \\frac{3*2*tE(x^2)}{3!} + \\ldots = E(x^2)$\n",
        "\n",
        "### Moments of the log normal\n",
        "\n",
        "A log normal $x$ has a distribution \n",
        "\n",
        "$f(x) = \\frac{1}{\\sqrt{2 \\pi} \\sigma} \\frac{e^{-(\\ln x-\\mu)^2 / 2\\sigma^2}}{x}$\n",
        "\n",
        "The moments $E(x^k)$ are\n",
        "\n",
        "$E(x^k) = \\int_0^\\infty x^k f(x) dx $\n",
        "\n",
        "$ = \\int_0^\\infty x^k \\frac{1}{\\sqrt{2 \\pi} \\sigma} \\frac{e^{-(\\ln(x)-\\mu)^2 / 2\\sigma^2}}{x} dx $ \n",
        "\n",
        "$ = \\int_0^\\infty x^{k-1} \\frac{1}{\\sqrt{2 \\pi} \\sigma} e^{-(\\ln(x)-\\mu)^2 / 2\\sigma^2} dx $ \n",
        "\n",
        "Change of variable\n",
        "\n",
        "$y = \\ln x; x = e^y, dx = e^y dy$\n",
        "\n",
        "\n",
        "$ = \\int_{-\\infty}^\\infty e^{(k-1)y} \\frac{1}{\\sqrt{2 \\pi} \\sigma} e^{-(y-\\mu)^2 / 2\\sigma^2} e^y dy $ \n",
        "\n",
        "The middle bit is just a normal distibution for $y$ so the whole thing is\n",
        "\n",
        "$E(e^{ky})$\n",
        "\n",
        "for a normally distributed $y$\n",
        "\n",
        "\n",
        "The mgf of the normal distribution is \n",
        "\n",
        "$M_y(t) = E(e^{ty})= e^{\\mu t + \\frac{1}{2}\\sigma^2 t^2}$\n",
        "\n",
        "\n",
        "So the moments of the lognormal are just the mgf of the normal.\n",
        "\n",
        "\n"
      ]
    }
  ]
}